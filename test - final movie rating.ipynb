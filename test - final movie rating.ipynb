{
 "cells": [
  {
   "cell_type": "markdown",
   "id": "7a983989",
   "metadata": {},
   "source": [
    "# FINAL MOVIE DATA:"
   ]
  },
  {
   "cell_type": "markdown",
   "id": "9c22e529",
   "metadata": {},
   "source": [
    "## step:1 - Reading and understanding data:"
   ]
  },
  {
   "cell_type": "code",
   "execution_count": 50,
   "id": "41381337",
   "metadata": {},
   "outputs": [],
   "source": [
    "import numpy as np \n",
    "import pandas as pd\n",
    "import matplotlib.pyplot as plt\n",
    "import seaborn as sns\n",
    "\n",
    "import warnings \n",
    "warnings.filterwarnings('ignore')"
   ]
  },
  {
   "cell_type": "code",
   "execution_count": 51,
   "id": "7f3a8c82",
   "metadata": {},
   "outputs": [],
   "source": [
    "df = pd.read_csv('Final_Movie_rating.csv')"
   ]
  },
  {
   "cell_type": "code",
   "execution_count": 52,
   "id": "1fb80e0b",
   "metadata": {},
   "outputs": [
    {
     "data": {
      "text/html": [
       "<div>\n",
       "<style scoped>\n",
       "    .dataframe tbody tr th:only-of-type {\n",
       "        vertical-align: middle;\n",
       "    }\n",
       "\n",
       "    .dataframe tbody tr th {\n",
       "        vertical-align: top;\n",
       "    }\n",
       "\n",
       "    .dataframe thead th {\n",
       "        text-align: right;\n",
       "    }\n",
       "</style>\n",
       "<table border=\"1\" class=\"dataframe\">\n",
       "  <thead>\n",
       "    <tr style=\"text-align: right;\">\n",
       "      <th></th>\n",
       "      <th>Unnamed: 0</th>\n",
       "      <th>App</th>\n",
       "      <th>Category</th>\n",
       "      <th>Rating</th>\n",
       "      <th>Reviews</th>\n",
       "      <th>Size</th>\n",
       "      <th>Installs</th>\n",
       "      <th>Type</th>\n",
       "      <th>Price</th>\n",
       "      <th>Content Rating</th>\n",
       "      <th>Genres</th>\n",
       "      <th>Last Updated</th>\n",
       "      <th>Current Ver</th>\n",
       "      <th>Android Ver</th>\n",
       "    </tr>\n",
       "  </thead>\n",
       "  <tbody>\n",
       "    <tr>\n",
       "      <th>0</th>\n",
       "      <td>0</td>\n",
       "      <td>Photo Editor &amp; Candy Camera &amp; Grid &amp; ScrapBook</td>\n",
       "      <td>ART_AND_DESIGN</td>\n",
       "      <td>4.1</td>\n",
       "      <td>159</td>\n",
       "      <td>19000.0</td>\n",
       "      <td>10000</td>\n",
       "      <td>Free</td>\n",
       "      <td>0</td>\n",
       "      <td>Everyone</td>\n",
       "      <td>Art &amp; Design</td>\n",
       "      <td>January 7, 2018</td>\n",
       "      <td>1.0.0</td>\n",
       "      <td>4.0.3 and up</td>\n",
       "    </tr>\n",
       "    <tr>\n",
       "      <th>1</th>\n",
       "      <td>1</td>\n",
       "      <td>Coloring book moana</td>\n",
       "      <td>ART_AND_DESIGN</td>\n",
       "      <td>3.9</td>\n",
       "      <td>967</td>\n",
       "      <td>14000.0</td>\n",
       "      <td>500000</td>\n",
       "      <td>Free</td>\n",
       "      <td>0</td>\n",
       "      <td>Everyone</td>\n",
       "      <td>Art &amp; Design;Pretend Play</td>\n",
       "      <td>January 15, 2018</td>\n",
       "      <td>2.0.0</td>\n",
       "      <td>4.0.3 and up</td>\n",
       "    </tr>\n",
       "    <tr>\n",
       "      <th>2</th>\n",
       "      <td>2</td>\n",
       "      <td>U Launcher Lite – FREE Live Cool Themes, Hide ...</td>\n",
       "      <td>ART_AND_DESIGN</td>\n",
       "      <td>4.7</td>\n",
       "      <td>87510</td>\n",
       "      <td>8700.0</td>\n",
       "      <td>5000000</td>\n",
       "      <td>Free</td>\n",
       "      <td>0</td>\n",
       "      <td>Everyone</td>\n",
       "      <td>Art &amp; Design</td>\n",
       "      <td>August 1, 2018</td>\n",
       "      <td>1.2.4</td>\n",
       "      <td>4.0.3 and up</td>\n",
       "    </tr>\n",
       "    <tr>\n",
       "      <th>3</th>\n",
       "      <td>3</td>\n",
       "      <td>Sketch - Draw &amp; Paint</td>\n",
       "      <td>ART_AND_DESIGN</td>\n",
       "      <td>4.5</td>\n",
       "      <td>215644</td>\n",
       "      <td>25000.0</td>\n",
       "      <td>50000000</td>\n",
       "      <td>Free</td>\n",
       "      <td>0</td>\n",
       "      <td>Teen</td>\n",
       "      <td>Art &amp; Design</td>\n",
       "      <td>June 8, 2018</td>\n",
       "      <td>Varies with device</td>\n",
       "      <td>4.2 and up</td>\n",
       "    </tr>\n",
       "    <tr>\n",
       "      <th>4</th>\n",
       "      <td>4</td>\n",
       "      <td>Pixel Draw - Number Art Coloring Book</td>\n",
       "      <td>ART_AND_DESIGN</td>\n",
       "      <td>4.3</td>\n",
       "      <td>967</td>\n",
       "      <td>2800.0</td>\n",
       "      <td>100000</td>\n",
       "      <td>Free</td>\n",
       "      <td>0</td>\n",
       "      <td>Everyone</td>\n",
       "      <td>Art &amp; Design;Creativity</td>\n",
       "      <td>June 20, 2018</td>\n",
       "      <td>1.1</td>\n",
       "      <td>4.4 and up</td>\n",
       "    </tr>\n",
       "  </tbody>\n",
       "</table>\n",
       "</div>"
      ],
      "text/plain": [
       "   Unnamed: 0                                                App  \\\n",
       "0           0     Photo Editor & Candy Camera & Grid & ScrapBook   \n",
       "1           1                                Coloring book moana   \n",
       "2           2  U Launcher Lite – FREE Live Cool Themes, Hide ...   \n",
       "3           3                              Sketch - Draw & Paint   \n",
       "4           4              Pixel Draw - Number Art Coloring Book   \n",
       "\n",
       "         Category  Rating  Reviews     Size  Installs  Type Price  \\\n",
       "0  ART_AND_DESIGN     4.1      159  19000.0     10000  Free     0   \n",
       "1  ART_AND_DESIGN     3.9      967  14000.0    500000  Free     0   \n",
       "2  ART_AND_DESIGN     4.7    87510   8700.0   5000000  Free     0   \n",
       "3  ART_AND_DESIGN     4.5   215644  25000.0  50000000  Free     0   \n",
       "4  ART_AND_DESIGN     4.3      967   2800.0    100000  Free     0   \n",
       "\n",
       "  Content Rating                     Genres      Last Updated  \\\n",
       "0       Everyone               Art & Design   January 7, 2018   \n",
       "1       Everyone  Art & Design;Pretend Play  January 15, 2018   \n",
       "2       Everyone               Art & Design    August 1, 2018   \n",
       "3           Teen               Art & Design      June 8, 2018   \n",
       "4       Everyone    Art & Design;Creativity     June 20, 2018   \n",
       "\n",
       "          Current Ver   Android Ver  \n",
       "0               1.0.0  4.0.3 and up  \n",
       "1               2.0.0  4.0.3 and up  \n",
       "2               1.2.4  4.0.3 and up  \n",
       "3  Varies with device    4.2 and up  \n",
       "4                 1.1    4.4 and up  "
      ]
     },
     "execution_count": 52,
     "metadata": {},
     "output_type": "execute_result"
    }
   ],
   "source": [
    "df.head()"
   ]
  },
  {
   "cell_type": "code",
   "execution_count": 53,
   "id": "ae351397",
   "metadata": {},
   "outputs": [
    {
     "data": {
      "text/plain": [
       "(8645, 14)"
      ]
     },
     "execution_count": 53,
     "metadata": {},
     "output_type": "execute_result"
    }
   ],
   "source": [
    "df.shape"
   ]
  },
  {
   "cell_type": "code",
   "execution_count": 54,
   "id": "57beb8f7",
   "metadata": {},
   "outputs": [
    {
     "data": {
      "text/html": [
       "<div>\n",
       "<style scoped>\n",
       "    .dataframe tbody tr th:only-of-type {\n",
       "        vertical-align: middle;\n",
       "    }\n",
       "\n",
       "    .dataframe tbody tr th {\n",
       "        vertical-align: top;\n",
       "    }\n",
       "\n",
       "    .dataframe thead th {\n",
       "        text-align: right;\n",
       "    }\n",
       "</style>\n",
       "<table border=\"1\" class=\"dataframe\">\n",
       "  <thead>\n",
       "    <tr style=\"text-align: right;\">\n",
       "      <th></th>\n",
       "      <th>Unnamed: 0</th>\n",
       "      <th>Rating</th>\n",
       "      <th>Reviews</th>\n",
       "      <th>Size</th>\n",
       "      <th>Installs</th>\n",
       "    </tr>\n",
       "  </thead>\n",
       "  <tbody>\n",
       "    <tr>\n",
       "      <th>count</th>\n",
       "      <td>8645.000000</td>\n",
       "      <td>8645.000000</td>\n",
       "      <td>8645.000000</td>\n",
       "      <td>8645.000000</td>\n",
       "      <td>8.645000e+03</td>\n",
       "    </tr>\n",
       "    <tr>\n",
       "      <th>mean</th>\n",
       "      <td>5288.522036</td>\n",
       "      <td>4.172053</td>\n",
       "      <td>67400.455755</td>\n",
       "      <td>21621.315196</td>\n",
       "      <td>3.415552e+06</td>\n",
       "    </tr>\n",
       "    <tr>\n",
       "      <th>std</th>\n",
       "      <td>3139.929097</td>\n",
       "      <td>0.529035</td>\n",
       "      <td>154253.742859</td>\n",
       "      <td>20670.088231</td>\n",
       "      <td>1.016051e+07</td>\n",
       "    </tr>\n",
       "    <tr>\n",
       "      <th>min</th>\n",
       "      <td>0.000000</td>\n",
       "      <td>1.000000</td>\n",
       "      <td>1.000000</td>\n",
       "      <td>8.500000</td>\n",
       "      <td>5.000000e+00</td>\n",
       "    </tr>\n",
       "    <tr>\n",
       "      <th>25%</th>\n",
       "      <td>2585.000000</td>\n",
       "      <td>4.000000</td>\n",
       "      <td>142.000000</td>\n",
       "      <td>6000.000000</td>\n",
       "      <td>1.000000e+04</td>\n",
       "    </tr>\n",
       "    <tr>\n",
       "      <th>50%</th>\n",
       "      <td>5214.000000</td>\n",
       "      <td>4.300000</td>\n",
       "      <td>3588.000000</td>\n",
       "      <td>18000.000000</td>\n",
       "      <td>1.000000e+05</td>\n",
       "    </tr>\n",
       "    <tr>\n",
       "      <th>75%</th>\n",
       "      <td>8028.000000</td>\n",
       "      <td>4.500000</td>\n",
       "      <td>45487.000000</td>\n",
       "      <td>26000.000000</td>\n",
       "      <td>1.000000e+06</td>\n",
       "    </tr>\n",
       "    <tr>\n",
       "      <th>max</th>\n",
       "      <td>10840.000000</td>\n",
       "      <td>5.000000</td>\n",
       "      <td>995002.000000</td>\n",
       "      <td>100000.000000</td>\n",
       "      <td>1.000000e+08</td>\n",
       "    </tr>\n",
       "  </tbody>\n",
       "</table>\n",
       "</div>"
      ],
      "text/plain": [
       "         Unnamed: 0       Rating        Reviews           Size      Installs\n",
       "count   8645.000000  8645.000000    8645.000000    8645.000000  8.645000e+03\n",
       "mean    5288.522036     4.172053   67400.455755   21621.315196  3.415552e+06\n",
       "std     3139.929097     0.529035  154253.742859   20670.088231  1.016051e+07\n",
       "min        0.000000     1.000000       1.000000       8.500000  5.000000e+00\n",
       "25%     2585.000000     4.000000     142.000000    6000.000000  1.000000e+04\n",
       "50%     5214.000000     4.300000    3588.000000   18000.000000  1.000000e+05\n",
       "75%     8028.000000     4.500000   45487.000000   26000.000000  1.000000e+06\n",
       "max    10840.000000     5.000000  995002.000000  100000.000000  1.000000e+08"
      ]
     },
     "execution_count": 54,
     "metadata": {},
     "output_type": "execute_result"
    }
   ],
   "source": [
    "df.describe()"
   ]
  },
  {
   "cell_type": "code",
   "execution_count": 55,
   "id": "ecd4cce5",
   "metadata": {},
   "outputs": [
    {
     "name": "stdout",
     "output_type": "stream",
     "text": [
      "<class 'pandas.core.frame.DataFrame'>\n",
      "RangeIndex: 8645 entries, 0 to 8644\n",
      "Data columns (total 14 columns):\n",
      " #   Column          Non-Null Count  Dtype  \n",
      "---  ------          --------------  -----  \n",
      " 0   Unnamed: 0      8645 non-null   int64  \n",
      " 1   App             8645 non-null   object \n",
      " 2   Category        8645 non-null   object \n",
      " 3   Rating          8645 non-null   float64\n",
      " 4   Reviews         8645 non-null   int64  \n",
      " 5   Size            8645 non-null   float64\n",
      " 6   Installs        8645 non-null   int64  \n",
      " 7   Type            8645 non-null   object \n",
      " 8   Price           8645 non-null   object \n",
      " 9   Content Rating  8645 non-null   object \n",
      " 10  Genres          8645 non-null   object \n",
      " 11  Last Updated    8645 non-null   object \n",
      " 12  Current Ver     8645 non-null   object \n",
      " 13  Android Ver     8645 non-null   object \n",
      "dtypes: float64(2), int64(3), object(9)\n",
      "memory usage: 945.7+ KB\n"
     ]
    }
   ],
   "source": [
    "df.info()"
   ]
  },
  {
   "cell_type": "markdown",
   "id": "e4be3e3c",
   "metadata": {},
   "source": [
    "## step:2 - checking null values:"
   ]
  },
  {
   "cell_type": "code",
   "execution_count": 56,
   "id": "c55b37ec",
   "metadata": {},
   "outputs": [
    {
     "data": {
      "text/plain": [
       "Unnamed: 0        0\n",
       "App               0\n",
       "Category          0\n",
       "Rating            0\n",
       "Reviews           0\n",
       "Size              0\n",
       "Installs          0\n",
       "Type              0\n",
       "Price             0\n",
       "Content Rating    0\n",
       "Genres            0\n",
       "Last Updated      0\n",
       "Current Ver       0\n",
       "Android Ver       0\n",
       "dtype: int64"
      ]
     },
     "execution_count": 56,
     "metadata": {},
     "output_type": "execute_result"
    }
   ],
   "source": [
    "df.isnull().sum()"
   ]
  },
  {
   "cell_type": "code",
   "execution_count": 57,
   "id": "6474af45",
   "metadata": {},
   "outputs": [
    {
     "data": {
      "text/plain": [
       "<AxesSubplot:>"
      ]
     },
     "execution_count": 57,
     "metadata": {},
     "output_type": "execute_result"
    },
    {
     "data": {
      "image/png": "[encoded data removed]",
      "text/plain": [
       "<Figure size 432x288 with 2 Axes>"
      ]
     },
     "metadata": {
      "needs_background": "light"
     },
     "output_type": "display_data"
    }
   ],
   "source": [
    "#visualizing missing data through heatmap:-\n",
    "\n",
    "sns.heatmap(df.isnull())"
   ]
  },
  {
   "cell_type": "markdown",
   "id": "96813562",
   "metadata": {},
   "source": [
    "### observation:\n",
    "\n",
    "-- there are no null values."
   ]
  },
  {
   "cell_type": "code",
   "execution_count": 59,
   "id": "edadcd60",
   "metadata": {},
   "outputs": [
    {
     "data": {
      "text/plain": [
       "Index(['Unnamed: 0', 'App', 'Category', 'Rating', 'Reviews', 'Size',\n",
       "       'Installs', 'Type', 'Price', 'Content Rating', 'Genres', 'Last Updated',\n",
       "       'Current Ver', 'Android Ver'],\n",
       "      dtype='object')"
      ]
     },
     "execution_count": 59,
     "metadata": {},
     "output_type": "execute_result"
    }
   ],
   "source": [
    "df.columns"
   ]
  },
  {
   "cell_type": "code",
   "execution_count": 60,
   "id": "c4f5e0e7",
   "metadata": {},
   "outputs": [],
   "source": [
    "# droping unnecessary columns:\n",
    "\n",
    "drop_list = ['App','Genres','Current Ver', 'Android Ver']"
   ]
  },
  {
   "cell_type": "code",
   "execution_count": 61,
   "id": "c85d5f7c",
   "metadata": {},
   "outputs": [],
   "source": [
    "df.drop(drop_list, axis=1, inplace=True)"
   ]
  },
  {
   "cell_type": "code",
   "execution_count": 62,
   "id": "89485ab7",
   "metadata": {},
   "outputs": [
    {
     "data": {
      "text/html": [
       "<div>\n",
       "<style scoped>\n",
       "    .dataframe tbody tr th:only-of-type {\n",
       "        vertical-align: middle;\n",
       "    }\n",
       "\n",
       "    .dataframe tbody tr th {\n",
       "        vertical-align: top;\n",
       "    }\n",
       "\n",
       "    .dataframe thead th {\n",
       "        text-align: right;\n",
       "    }\n",
       "</style>\n",
       "<table border=\"1\" class=\"dataframe\">\n",
       "  <thead>\n",
       "    <tr style=\"text-align: right;\">\n",
       "      <th></th>\n",
       "      <th>Unnamed: 0</th>\n",
       "      <th>Category</th>\n",
       "      <th>Rating</th>\n",
       "      <th>Reviews</th>\n",
       "      <th>Size</th>\n",
       "      <th>Installs</th>\n",
       "      <th>Type</th>\n",
       "      <th>Price</th>\n",
       "      <th>Content Rating</th>\n",
       "      <th>Last Updated</th>\n",
       "    </tr>\n",
       "  </thead>\n",
       "  <tbody>\n",
       "    <tr>\n",
       "      <th>0</th>\n",
       "      <td>0</td>\n",
       "      <td>ART_AND_DESIGN</td>\n",
       "      <td>4.1</td>\n",
       "      <td>159</td>\n",
       "      <td>19000.0</td>\n",
       "      <td>10000</td>\n",
       "      <td>Free</td>\n",
       "      <td>0</td>\n",
       "      <td>Everyone</td>\n",
       "      <td>January 7, 2018</td>\n",
       "    </tr>\n",
       "    <tr>\n",
       "      <th>1</th>\n",
       "      <td>1</td>\n",
       "      <td>ART_AND_DESIGN</td>\n",
       "      <td>3.9</td>\n",
       "      <td>967</td>\n",
       "      <td>14000.0</td>\n",
       "      <td>500000</td>\n",
       "      <td>Free</td>\n",
       "      <td>0</td>\n",
       "      <td>Everyone</td>\n",
       "      <td>January 15, 2018</td>\n",
       "    </tr>\n",
       "    <tr>\n",
       "      <th>2</th>\n",
       "      <td>2</td>\n",
       "      <td>ART_AND_DESIGN</td>\n",
       "      <td>4.7</td>\n",
       "      <td>87510</td>\n",
       "      <td>8700.0</td>\n",
       "      <td>5000000</td>\n",
       "      <td>Free</td>\n",
       "      <td>0</td>\n",
       "      <td>Everyone</td>\n",
       "      <td>August 1, 2018</td>\n",
       "    </tr>\n",
       "    <tr>\n",
       "      <th>3</th>\n",
       "      <td>3</td>\n",
       "      <td>ART_AND_DESIGN</td>\n",
       "      <td>4.5</td>\n",
       "      <td>215644</td>\n",
       "      <td>25000.0</td>\n",
       "      <td>50000000</td>\n",
       "      <td>Free</td>\n",
       "      <td>0</td>\n",
       "      <td>Teen</td>\n",
       "      <td>June 8, 2018</td>\n",
       "    </tr>\n",
       "    <tr>\n",
       "      <th>4</th>\n",
       "      <td>4</td>\n",
       "      <td>ART_AND_DESIGN</td>\n",
       "      <td>4.3</td>\n",
       "      <td>967</td>\n",
       "      <td>2800.0</td>\n",
       "      <td>100000</td>\n",
       "      <td>Free</td>\n",
       "      <td>0</td>\n",
       "      <td>Everyone</td>\n",
       "      <td>June 20, 2018</td>\n",
       "    </tr>\n",
       "  </tbody>\n",
       "</table>\n",
       "</div>"
      ],
      "text/plain": [
       "   Unnamed: 0        Category  Rating  Reviews     Size  Installs  Type Price  \\\n",
       "0           0  ART_AND_DESIGN     4.1      159  19000.0     10000  Free     0   \n",
       "1           1  ART_AND_DESIGN     3.9      967  14000.0    500000  Free     0   \n",
       "2           2  ART_AND_DESIGN     4.7    87510   8700.0   5000000  Free     0   \n",
       "3           3  ART_AND_DESIGN     4.5   215644  25000.0  50000000  Free     0   \n",
       "4           4  ART_AND_DESIGN     4.3      967   2800.0    100000  Free     0   \n",
       "\n",
       "  Content Rating      Last Updated  \n",
       "0       Everyone   January 7, 2018  \n",
       "1       Everyone  January 15, 2018  \n",
       "2       Everyone    August 1, 2018  \n",
       "3           Teen      June 8, 2018  \n",
       "4       Everyone     June 20, 2018  "
      ]
     },
     "execution_count": 62,
     "metadata": {},
     "output_type": "execute_result"
    }
   ],
   "source": [
    "df.head()"
   ]
  },
  {
   "cell_type": "code",
   "execution_count": 63,
   "id": "013df417",
   "metadata": {},
   "outputs": [
    {
     "data": {
      "text/plain": [
       "array(['0', '$4.99', '$3.99', '$6.99', '$7.99', '$5.99', '$2.99', '$3.49',\n",
       "       '$1.99', '$9.99', '$7.49', '$0.99', '$9.00', '$5.49', '$10.00',\n",
       "       '$24.99', '$11.99', '$79.99', '$16.99', '$14.99', '$29.99',\n",
       "       '$12.99', '$2.49', '$10.99', '$1.50', '$19.99', '$15.99', '$33.99',\n",
       "       '$39.99', '$3.95', '$4.49', '$1.70', '$8.99', '$1.49', '$3.88',\n",
       "       '$399.99', '$17.99', '$400.00', '$3.02', '$1.76', '$4.84', '$4.77',\n",
       "       '$1.61', '$2.50', '$1.59', '$6.49', '$1.29', '$299.99', '$379.99',\n",
       "       '$37.99', '$18.99', '$389.99', '$8.49', '$1.75', '$14.00', '$2.00',\n",
       "       '$3.08', '$2.59', '$19.40', '$3.90', '$4.59', '$15.46', '$3.04',\n",
       "       '$13.99', '$4.29', '$3.28', '$4.60', '$1.00', '$2.95', '$2.90',\n",
       "       '$1.97', '$2.56', '$1.20'], dtype=object)"
      ]
     },
     "execution_count": 63,
     "metadata": {},
     "output_type": "execute_result"
    }
   ],
   "source": [
    "df['Price'].unique()"
   ]
  },
  {
   "cell_type": "code",
   "execution_count": 64,
   "id": "5f32bacb",
   "metadata": {},
   "outputs": [
    {
     "data": {
      "text/plain": [
       "array(['ART_AND_DESIGN', 'AUTO_AND_VEHICLES', 'BEAUTY',\n",
       "       'BOOKS_AND_REFERENCE', 'BUSINESS', 'COMICS', 'COMMUNICATION',\n",
       "       'DATING', 'EDUCATION', 'ENTERTAINMENT', 'EVENTS', 'FINANCE',\n",
       "       'FOOD_AND_DRINK', 'HEALTH_AND_FITNESS', 'HOUSE_AND_HOME',\n",
       "       'LIBRARIES_AND_DEMO', 'LIFESTYLE', 'GAME', 'FAMILY', 'MEDICAL',\n",
       "       'SOCIAL', 'SHOPPING', 'PHOTOGRAPHY', 'SPORTS', 'TRAVEL_AND_LOCAL',\n",
       "       'TOOLS', 'PERSONALIZATION', 'PRODUCTIVITY', 'PARENTING', 'WEATHER',\n",
       "       'VIDEO_PLAYERS', 'NEWS_AND_MAGAZINES', 'MAPS_AND_NAVIGATION'],\n",
       "      dtype=object)"
      ]
     },
     "execution_count": 64,
     "metadata": {},
     "output_type": "execute_result"
    }
   ],
   "source": [
    "df['Category'].unique()"
   ]
  },
  {
   "cell_type": "code",
   "execution_count": 65,
   "id": "036720a0",
   "metadata": {},
   "outputs": [
    {
     "data": {
      "text/plain": [
       "array([4.1, 3.9, 4.7, 4.5, 4.3, 4.4, 3.8, 4.2, 4.6, 3.2, 4. , 4.8, 4.9,\n",
       "       3.6, 3.7, 3.3, 3.4, 3.5, 3.1, 5. , 2.6, 3. , 1.9, 2.5, 2.8, 2.7,\n",
       "       1. , 2.9, 2.3, 2.2, 1.7, 2. , 1.8, 2.4, 1.6, 2.1, 1.4, 1.5, 1.2])"
      ]
     },
     "execution_count": 65,
     "metadata": {},
     "output_type": "execute_result"
    }
   ],
   "source": [
    "df['Rating'].unique()"
   ]
  },
  {
   "cell_type": "code",
   "execution_count": 66,
   "id": "0e0f696a",
   "metadata": {},
   "outputs": [
    {
     "data": {
      "text/plain": [
       "array([   159,    967,  87510, ...,    603,   1195, 398307], dtype=int64)"
      ]
     },
     "execution_count": 66,
     "metadata": {},
     "output_type": "execute_result"
    }
   ],
   "source": [
    "df['Reviews'].unique()"
   ]
  },
  {
   "cell_type": "code",
   "execution_count": 67,
   "id": "81906f59",
   "metadata": {},
   "outputs": [
    {
     "data": {
      "text/plain": [
       "array([1.90000000e+04, 1.40000000e+04, 8.70000000e+03, 2.50000000e+04,\n",
       "       2.80000000e+03, 5.60000000e+03, 2.90000000e+04, 3.30000000e+04,\n",
       "       3.10000000e+03, 2.80000000e+04, 1.20000000e+04, 2.00000000e+04,\n",
       "       2.10000000e+04, 3.70000000e+04, 2.70000000e+03, 5.50000000e+03,\n",
       "       1.70000000e+04, 3.90000000e+04, 3.10000000e+04, 4.20000000e+03,\n",
       "       2.30000000e+04, 6.00000000e+03, 6.10000000e+03, 4.60000000e+03,\n",
       "       9.20000000e+03, 5.20000000e+03, 1.10000000e+04, 2.40000000e+04,\n",
       "       2.15165295e+04, 9.40000000e+03, 1.50000000e+04, 1.00000000e+04,\n",
       "       1.20000000e+03, 2.60000000e+04, 8.00000000e+03, 7.90000000e+03,\n",
       "       5.60000000e+04, 5.70000000e+04, 3.50000000e+04, 5.40000000e+04,\n",
       "       2.01000000e+02, 3.60000000e+03, 5.70000000e+03, 8.60000000e+03,\n",
       "       2.40000000e+03, 2.70000000e+04, 2.50000000e+03, 7.00000000e+03,\n",
       "       1.60000000e+04, 3.40000000e+03, 8.90000000e+03, 3.90000000e+03,\n",
       "       2.90000000e+03, 3.80000000e+04, 3.20000000e+04, 5.40000000e+03,\n",
       "       1.80000000e+04, 1.10000000e+03, 2.20000000e+03, 4.50000000e+03,\n",
       "       9.80000000e+03, 5.20000000e+04, 9.00000000e+03, 6.70000000e+03,\n",
       "       3.00000000e+04, 2.60000000e+03, 7.10000000e+03, 2.20000000e+04,\n",
       "       6.40000000e+03, 3.20000000e+03, 8.20000000e+03, 4.90000000e+03,\n",
       "       9.50000000e+03, 5.00000000e+03, 5.90000000e+03, 1.30000000e+04,\n",
       "       7.30000000e+04, 6.80000000e+03, 3.50000000e+03, 4.00000000e+03,\n",
       "       2.30000000e+03, 2.10000000e+03, 4.20000000e+04, 9.10000000e+03,\n",
       "       5.50000000e+04, 2.30000000e+01, 7.30000000e+03, 6.50000000e+03,\n",
       "       1.50000000e+03, 7.50000000e+03, 5.10000000e+04, 4.10000000e+04,\n",
       "       4.80000000e+04, 8.50000000e+03, 4.60000000e+04, 8.30000000e+03,\n",
       "       4.30000000e+03, 4.70000000e+03, 3.30000000e+03, 4.00000000e+04,\n",
       "       7.80000000e+03, 8.80000000e+03, 6.60000000e+03, 5.10000000e+03,\n",
       "       6.10000000e+04, 6.60000000e+04, 7.90000000e+01, 8.40000000e+03,\n",
       "       3.70000000e+03, 1.18000000e+02, 4.40000000e+04, 6.95000000e+02,\n",
       "       1.60000000e+03, 6.20000000e+03, 5.30000000e+04, 1.40000000e+03,\n",
       "       3.00000000e+03, 7.20000000e+03, 5.80000000e+03, 3.80000000e+03,\n",
       "       9.60000000e+03, 4.50000000e+04, 6.30000000e+04, 4.90000000e+04,\n",
       "       7.70000000e+04, 4.40000000e+03, 7.00000000e+04, 9.30000000e+03,\n",
       "       8.10000000e+03, 3.60000000e+04, 6.90000000e+03, 7.40000000e+03,\n",
       "       8.40000000e+04, 9.70000000e+04, 2.00000000e+03, 1.90000000e+03,\n",
       "       1.80000000e+03, 5.30000000e+03, 4.70000000e+04, 5.56000000e+02,\n",
       "       5.26000000e+02, 7.60000000e+04, 7.60000000e+03, 5.90000000e+04,\n",
       "       9.70000000e+03, 7.80000000e+04, 7.20000000e+04, 4.30000000e+04,\n",
       "       7.70000000e+03, 6.30000000e+03, 3.34000000e+02, 9.30000000e+04,\n",
       "       6.50000000e+04, 7.90000000e+04, 1.00000000e+05, 5.80000000e+04,\n",
       "       5.00000000e+04, 6.80000000e+04, 6.40000000e+04, 3.40000000e+04,\n",
       "       6.70000000e+04, 6.00000000e+04, 9.40000000e+04, 9.90000000e+03,\n",
       "       2.32000000e+02, 9.90000000e+04, 6.24000000e+02, 9.50000000e+04,\n",
       "       8.50000000e+00, 4.10000000e+01, 2.92000000e+02, 1.10000000e+01,\n",
       "       8.00000000e+04, 1.70000000e+03, 8.50000000e+04, 6.90000000e+04,\n",
       "       7.50000000e+04, 8.70000000e+04, 7.10000000e+04, 6.20000000e+04,\n",
       "       9.80000000e+04, 8.60000000e+04, 9.10000000e+04, 8.20000000e+04,\n",
       "       8.10000000e+04, 9.60000000e+04, 8.30000000e+04, 9.20000000e+04,\n",
       "       7.04000000e+02, 8.62000000e+02, 8.99000000e+02, 3.78000000e+02,\n",
       "       4.80000000e+03, 2.66000000e+02, 3.75000000e+02, 7.40000000e+04,\n",
       "       1.30000000e+03, 9.75000000e+02, 9.80000000e+02, 4.10000000e+03,\n",
       "       8.90000000e+04, 8.80000000e+04, 6.96000000e+02, 5.44000000e+02,\n",
       "       5.25000000e+02, 9.20000000e+02, 7.79000000e+02, 8.53000000e+02,\n",
       "       7.20000000e+02, 7.13000000e+02, 7.72000000e+02, 3.18000000e+02,\n",
       "       5.80000000e+01, 2.41000000e+02, 1.96000000e+02, 8.57000000e+02,\n",
       "       5.10000000e+01, 9.53000000e+02, 8.65000000e+02, 2.51000000e+02,\n",
       "       9.30000000e+02, 5.40000000e+02, 3.13000000e+02, 7.46000000e+02,\n",
       "       2.03000000e+02, 2.60000000e+01, 3.14000000e+02, 2.39000000e+02,\n",
       "       3.71000000e+02, 2.20000000e+02, 7.30000000e+02, 7.56000000e+02,\n",
       "       9.10000000e+01, 2.93000000e+02, 1.70000000e+01, 7.40000000e+01,\n",
       "       1.40000000e+01, 3.17000000e+02, 7.80000000e+01, 9.24000000e+02,\n",
       "       8.18000000e+02, 8.10000000e+01, 9.39000000e+02, 1.69000000e+02,\n",
       "       4.50000000e+01, 9.65000000e+02, 9.00000000e+04, 5.45000000e+02,\n",
       "       6.10000000e+01, 2.83000000e+02, 6.55000000e+02, 7.14000000e+02,\n",
       "       9.30000000e+01, 8.72000000e+02, 1.21000000e+02, 3.22000000e+02,\n",
       "       9.76000000e+02, 2.06000000e+02, 9.54000000e+02, 4.44000000e+02,\n",
       "       7.17000000e+02, 2.10000000e+02, 6.09000000e+02, 3.08000000e+02,\n",
       "       3.06000000e+02, 1.75000000e+02, 3.50000000e+02, 3.83000000e+02,\n",
       "       4.54000000e+02, 1.00000000e+03, 7.00000000e+01, 8.12000000e+02,\n",
       "       4.42000000e+02, 8.42000000e+02, 4.17000000e+02, 4.12000000e+02,\n",
       "       4.59000000e+02, 4.78000000e+02, 3.35000000e+02, 7.82000000e+02,\n",
       "       7.21000000e+02, 4.30000000e+02, 4.29000000e+02, 1.92000000e+02,\n",
       "       4.60000000e+02, 7.28000000e+02, 4.96000000e+02, 8.16000000e+02,\n",
       "       4.14000000e+02, 5.06000000e+02, 8.87000000e+02, 6.13000000e+02,\n",
       "       7.78000000e+02, 6.83000000e+02, 5.92000000e+02, 1.86000000e+02,\n",
       "       8.40000000e+02, 6.47000000e+02, 3.73000000e+02, 4.37000000e+02,\n",
       "       5.98000000e+02, 7.16000000e+02, 5.85000000e+02, 9.82000000e+02,\n",
       "       2.19000000e+02, 5.50000000e+01, 3.23000000e+02, 6.91000000e+02,\n",
       "       5.11000000e+02, 9.51000000e+02, 9.63000000e+02, 2.50000000e+01,\n",
       "       5.54000000e+02, 3.51000000e+02, 2.70000000e+01, 8.20000000e+01,\n",
       "       2.08000000e+02, 5.51000000e+02, 2.90000000e+01, 1.03000000e+02,\n",
       "       1.16000000e+02, 1.53000000e+02, 2.09000000e+02, 4.99000000e+02,\n",
       "       1.73000000e+02, 5.97000000e+02, 8.09000000e+02, 1.22000000e+02,\n",
       "       4.11000000e+02, 4.00000000e+02, 8.01000000e+02, 7.87000000e+02,\n",
       "       5.00000000e+01, 6.43000000e+02, 9.86000000e+02, 5.16000000e+02,\n",
       "       8.37000000e+02, 7.80000000e+02, 2.00000000e+01, 4.98000000e+02,\n",
       "       6.00000000e+02, 6.56000000e+02, 2.21000000e+02, 2.28000000e+02,\n",
       "       1.76000000e+02, 3.40000000e+01, 2.59000000e+02, 1.64000000e+02,\n",
       "       4.58000000e+02, 6.29000000e+02, 2.80000000e+01, 2.88000000e+02,\n",
       "       7.75000000e+02, 7.85000000e+02, 6.36000000e+02, 9.16000000e+02,\n",
       "       9.94000000e+02, 3.09000000e+02, 4.85000000e+02, 9.14000000e+02,\n",
       "       9.03000000e+02, 6.08000000e+02, 5.00000000e+02, 5.40000000e+01,\n",
       "       5.62000000e+02, 8.47000000e+02, 9.48000000e+02, 8.11000000e+02,\n",
       "       2.70000000e+02, 4.80000000e+01, 5.23000000e+02, 7.84000000e+02,\n",
       "       2.80000000e+02, 2.40000000e+01, 8.92000000e+02, 1.54000000e+02,\n",
       "       1.80000000e+01, 3.30000000e+01, 8.60000000e+02, 3.64000000e+02,\n",
       "       3.87000000e+02, 6.26000000e+02, 1.61000000e+02, 8.79000000e+02,\n",
       "       3.90000000e+01, 1.70000000e+02, 1.41000000e+02, 1.60000000e+02,\n",
       "       1.44000000e+02, 1.43000000e+02, 1.90000000e+02, 3.76000000e+02,\n",
       "       1.93000000e+02, 4.73000000e+02, 2.46000000e+02, 7.30000000e+01,\n",
       "       2.53000000e+02, 9.57000000e+02, 4.20000000e+02, 7.20000000e+01,\n",
       "       4.04000000e+02, 4.70000000e+02, 2.26000000e+02, 2.40000000e+02,\n",
       "       8.90000000e+01, 2.34000000e+02, 2.57000000e+02, 8.61000000e+02,\n",
       "       4.67000000e+02, 6.76000000e+02, 5.52000000e+02, 5.82000000e+02,\n",
       "       6.19000000e+02])"
      ]
     },
     "execution_count": 67,
     "metadata": {},
     "output_type": "execute_result"
    }
   ],
   "source": [
    "df['Size'].unique()"
   ]
  },
  {
   "cell_type": "code",
   "execution_count": 68,
   "id": "949d7a2a",
   "metadata": {},
   "outputs": [
    {
     "data": {
      "text/plain": [
       "array([    10000,    500000,   5000000,  50000000,    100000,     50000,\n",
       "         1000000,  10000000,      5000, 100000000,      1000,       100,\n",
       "             500,        10,         5,        50], dtype=int64)"
      ]
     },
     "execution_count": 68,
     "metadata": {},
     "output_type": "execute_result"
    }
   ],
   "source": [
    "df['Installs'].unique()"
   ]
  },
  {
   "cell_type": "code",
   "execution_count": 69,
   "id": "d4af6bd4",
   "metadata": {},
   "outputs": [
    {
     "data": {
      "text/plain": [
       "array(['Free', 'Paid'], dtype=object)"
      ]
     },
     "execution_count": 69,
     "metadata": {},
     "output_type": "execute_result"
    }
   ],
   "source": [
    "df['Type'].unique()"
   ]
  },
  {
   "cell_type": "code",
   "execution_count": 70,
   "id": "d3e5495d",
   "metadata": {},
   "outputs": [
    {
     "data": {
      "text/plain": [
       "array(['Everyone', 'Teen', 'Everyone 10+', 'Mature 17+',\n",
       "       'Adults only 18+', 'Unrated'], dtype=object)"
      ]
     },
     "execution_count": 70,
     "metadata": {},
     "output_type": "execute_result"
    }
   ],
   "source": [
    "df['Content Rating'].unique()"
   ]
  },
  {
   "cell_type": "code",
   "execution_count": 71,
   "id": "15f2adcb",
   "metadata": {},
   "outputs": [
    {
     "data": {
      "text/plain": [
       "array(['January 7, 2018', 'January 15, 2018', 'August 1, 2018', ...,\n",
       "       'January 20, 2014', 'February 16, 2014', 'March 23, 2014'],\n",
       "      dtype=object)"
      ]
     },
     "execution_count": 71,
     "metadata": {},
     "output_type": "execute_result"
    }
   ],
   "source": [
    "df['Last Updated'].unique()"
   ]
  },
  {
   "cell_type": "markdown",
   "id": "b5f1d602",
   "metadata": {},
   "source": [
    "## step:3 - checking outliers and treating :"
   ]
  },
  {
   "cell_type": "code",
   "execution_count": 72,
   "id": "5f0436fa",
   "metadata": {},
   "outputs": [
    {
     "data": {
      "text/html": [
       "<div>\n",
       "<style scoped>\n",
       "    .dataframe tbody tr th:only-of-type {\n",
       "        vertical-align: middle;\n",
       "    }\n",
       "\n",
       "    .dataframe tbody tr th {\n",
       "        vertical-align: top;\n",
       "    }\n",
       "\n",
       "    .dataframe thead th {\n",
       "        text-align: right;\n",
       "    }\n",
       "</style>\n",
       "<table border=\"1\" class=\"dataframe\">\n",
       "  <thead>\n",
       "    <tr style=\"text-align: right;\">\n",
       "      <th></th>\n",
       "      <th>Unnamed: 0</th>\n",
       "      <th>Rating</th>\n",
       "      <th>Reviews</th>\n",
       "      <th>Size</th>\n",
       "      <th>Installs</th>\n",
       "    </tr>\n",
       "  </thead>\n",
       "  <tbody>\n",
       "    <tr>\n",
       "      <th>count</th>\n",
       "      <td>8645.000000</td>\n",
       "      <td>8645.000000</td>\n",
       "      <td>8645.000000</td>\n",
       "      <td>8645.000000</td>\n",
       "      <td>8.645000e+03</td>\n",
       "    </tr>\n",
       "    <tr>\n",
       "      <th>mean</th>\n",
       "      <td>5288.522036</td>\n",
       "      <td>4.172053</td>\n",
       "      <td>67400.455755</td>\n",
       "      <td>21621.315196</td>\n",
       "      <td>3.415552e+06</td>\n",
       "    </tr>\n",
       "    <tr>\n",
       "      <th>std</th>\n",
       "      <td>3139.929097</td>\n",
       "      <td>0.529035</td>\n",
       "      <td>154253.742859</td>\n",
       "      <td>20670.088231</td>\n",
       "      <td>1.016051e+07</td>\n",
       "    </tr>\n",
       "    <tr>\n",
       "      <th>min</th>\n",
       "      <td>0.000000</td>\n",
       "      <td>1.000000</td>\n",
       "      <td>1.000000</td>\n",
       "      <td>8.500000</td>\n",
       "      <td>5.000000e+00</td>\n",
       "    </tr>\n",
       "    <tr>\n",
       "      <th>25%</th>\n",
       "      <td>2585.000000</td>\n",
       "      <td>4.000000</td>\n",
       "      <td>142.000000</td>\n",
       "      <td>6000.000000</td>\n",
       "      <td>1.000000e+04</td>\n",
       "    </tr>\n",
       "    <tr>\n",
       "      <th>50%</th>\n",
       "      <td>5214.000000</td>\n",
       "      <td>4.300000</td>\n",
       "      <td>3588.000000</td>\n",
       "      <td>18000.000000</td>\n",
       "      <td>1.000000e+05</td>\n",
       "    </tr>\n",
       "    <tr>\n",
       "      <th>75%</th>\n",
       "      <td>8028.000000</td>\n",
       "      <td>4.500000</td>\n",
       "      <td>45487.000000</td>\n",
       "      <td>26000.000000</td>\n",
       "      <td>1.000000e+06</td>\n",
       "    </tr>\n",
       "    <tr>\n",
       "      <th>max</th>\n",
       "      <td>10840.000000</td>\n",
       "      <td>5.000000</td>\n",
       "      <td>995002.000000</td>\n",
       "      <td>100000.000000</td>\n",
       "      <td>1.000000e+08</td>\n",
       "    </tr>\n",
       "  </tbody>\n",
       "</table>\n",
       "</div>"
      ],
      "text/plain": [
       "         Unnamed: 0       Rating        Reviews           Size      Installs\n",
       "count   8645.000000  8645.000000    8645.000000    8645.000000  8.645000e+03\n",
       "mean    5288.522036     4.172053   67400.455755   21621.315196  3.415552e+06\n",
       "std     3139.929097     0.529035  154253.742859   20670.088231  1.016051e+07\n",
       "min        0.000000     1.000000       1.000000       8.500000  5.000000e+00\n",
       "25%     2585.000000     4.000000     142.000000    6000.000000  1.000000e+04\n",
       "50%     5214.000000     4.300000    3588.000000   18000.000000  1.000000e+05\n",
       "75%     8028.000000     4.500000   45487.000000   26000.000000  1.000000e+06\n",
       "max    10840.000000     5.000000  995002.000000  100000.000000  1.000000e+08"
      ]
     },
     "execution_count": 72,
     "metadata": {},
     "output_type": "execute_result"
    }
   ],
   "source": [
    "df.describe()"
   ]
  },
  {
   "cell_type": "code",
   "execution_count": 73,
   "id": "4a3ee6c5",
   "metadata": {},
   "outputs": [],
   "source": [
    "num_cols = ['Unnamed: 0','Rating','Reviews','Size','Installs']"
   ]
  },
  {
   "cell_type": "code",
   "execution_count": 74,
   "id": "fe979f4d",
   "metadata": {},
   "outputs": [
    {
     "data": {
      "image/png": "[encoded data removed]",
      "text/plain": [
       "<Figure size 432x288 with 1 Axes>"
      ]
     },
     "metadata": {
      "needs_background": "light"
     },
     "output_type": "display_data"
    },
    {
     "data": {
      "image/png": "[encoded data removed]",
      "text/plain": [
       "<Figure size 432x288 with 1 Axes>"
      ]
     },
     "metadata": {
      "needs_background": "light"
     },
     "output_type": "display_data"
    },
    {
     "data": {
      "image/png": "[encoded data removed]",
      "text/plain": [
       "<Figure size 432x288 with 1 Axes>"
      ]
     },
     "metadata": {
      "needs_background": "light"
     },
     "output_type": "display_data"
    },
    {
     "data": {
      "image/png": "[encoded data removed]",
      "text/plain": [
       "<Figure size 432x288 with 1 Axes>"
      ]
     },
     "metadata": {
      "needs_background": "light"
     },
     "output_type": "display_data"
    },
    {
     "data": {
      "image/png": "[encoded data removed]",
      "text/plain": [
       "<Figure size 432x288 with 1 Axes>"
      ]
     },
     "metadata": {
      "needs_background": "light"
     },
     "output_type": "display_data"
    }
   ],
   "source": [
    "for i in num_cols:\n",
    "    sns.boxplot(df[i])\n",
    "    plt.show()"
   ]
  },
  {
   "cell_type": "code",
   "execution_count": 75,
   "id": "37831b6b",
   "metadata": {},
   "outputs": [],
   "source": [
    "def num(x):\n",
    "    plt.figure(figsize=(6,4))\n",
    "    plt.title(x)\n",
    "    sns.boxplot(df[x])\n",
    "    plt.show()\n",
    "    return"
   ]
  },
  {
   "cell_type": "code",
   "execution_count": 76,
   "id": "124665a3",
   "metadata": {},
   "outputs": [
    {
     "data": {
      "image/png": "[encoded data removed]",
      "text/plain": [
       "<Figure size 432x288 with 1 Axes>"
      ]
     },
     "metadata": {
      "needs_background": "light"
     },
     "output_type": "display_data"
    },
    {
     "data": {
      "image/png": "[encoded data removed]",
      "text/plain": [
       "<Figure size 432x288 with 1 Axes>"
      ]
     },
     "metadata": {
      "needs_background": "light"
     },
     "output_type": "display_data"
    },
    {
     "data": {
      "image/png": "[encoded data removed]",
      "text/plain": [
       "<Figure size 432x288 with 1 Axes>"
      ]
     },
     "metadata": {
      "needs_background": "light"
     },
     "output_type": "display_data"
    },
    {
     "data": {
      "image/png": "[encoded data removed]",
      "text/plain": [
       "<Figure size 432x288 with 1 Axes>"
      ]
     },
     "metadata": {
      "needs_background": "light"
     },
     "output_type": "display_data"
    },
    {
     "data": {
      "image/png": "[encoded data removed]",
      "text/plain": [
       "<Figure size 432x288 with 1 Axes>"
      ]
     },
     "metadata": {
      "needs_background": "light"
     },
     "output_type": "display_data"
    }
   ],
   "source": [
    "for x in num_cols:\n",
    "    q3,q1 = np.percentile(df[x],[75,25])\n",
    "    q4= np.percentile(df[x],[99])\n",
    "    df.loc[df[x] > q4[0], x] = q4[0]\n",
    "    num(x)"
   ]
  },
  {
   "cell_type": "markdown",
   "id": "94dce582",
   "metadata": {},
   "source": [
    "## 4. Data preprocessing:-"
   ]
  },
  {
   "cell_type": "code",
   "execution_count": 77,
   "id": "32b879c1",
   "metadata": {},
   "outputs": [],
   "source": [
    "# removing symbols from price column and last updated:\n",
    "\n",
    "df['Price'] = df['Price'].apply(lambda x: x.replace('$',''))"
   ]
  },
  {
   "cell_type": "code",
   "execution_count": 78,
   "id": "6e9cd151",
   "metadata": {},
   "outputs": [
    {
     "data": {
      "text/plain": [
       "0       0\n",
       "1       0\n",
       "2       0\n",
       "3       0\n",
       "4       0\n",
       "       ..\n",
       "8640    0\n",
       "8641    0\n",
       "8642    0\n",
       "8643    0\n",
       "8644    0\n",
       "Name: Price, Length: 8645, dtype: object"
      ]
     },
     "execution_count": 78,
     "metadata": {},
     "output_type": "execute_result"
    }
   ],
   "source": [
    "df['Price']"
   ]
  },
  {
   "cell_type": "code",
   "execution_count": 79,
   "id": "8e967d09",
   "metadata": {},
   "outputs": [
    {
     "data": {
      "text/plain": [
       "array(['0', '4.99', '3.99', '6.99', '7.99', '5.99', '2.99', '3.49',\n",
       "       '1.99', '9.99', '7.49', '0.99', '9.00', '5.49', '10.00', '24.99',\n",
       "       '11.99', '79.99', '16.99', '14.99', '29.99', '12.99', '2.49',\n",
       "       '10.99', '1.50', '19.99', '15.99', '33.99', '39.99', '3.95',\n",
       "       '4.49', '1.70', '8.99', '1.49', '3.88', '399.99', '17.99',\n",
       "       '400.00', '3.02', '1.76', '4.84', '4.77', '1.61', '2.50', '1.59',\n",
       "       '6.49', '1.29', '299.99', '379.99', '37.99', '18.99', '389.99',\n",
       "       '8.49', '1.75', '14.00', '2.00', '3.08', '2.59', '19.40', '3.90',\n",
       "       '4.59', '15.46', '3.04', '13.99', '4.29', '3.28', '4.60', '1.00',\n",
       "       '2.95', '2.90', '1.97', '2.56', '1.20'], dtype=object)"
      ]
     },
     "execution_count": 79,
     "metadata": {},
     "output_type": "execute_result"
    }
   ],
   "source": [
    "df['Price'].unique()"
   ]
  },
  {
   "cell_type": "code",
   "execution_count": 80,
   "id": "5b605b35",
   "metadata": {},
   "outputs": [],
   "source": [
    "df['Price'] = df['Price'].astype(float)"
   ]
  },
  {
   "cell_type": "code",
   "execution_count": 81,
   "id": "af6dc13b",
   "metadata": {},
   "outputs": [
    {
     "data": {
      "text/plain": [
       "dtype('float64')"
      ]
     },
     "execution_count": 81,
     "metadata": {},
     "output_type": "execute_result"
    }
   ],
   "source": [
    "df['Price'].dtypes"
   ]
  },
  {
   "cell_type": "code",
   "execution_count": 82,
   "id": "b76bc983",
   "metadata": {},
   "outputs": [],
   "source": [
    "df['Last Updated'] = df['Last Updated'].replace({',',''}, regex= True)"
   ]
  },
  {
   "cell_type": "code",
   "execution_count": 83,
   "id": "d94ec525",
   "metadata": {},
   "outputs": [
    {
     "data": {
      "text/plain": [
       "array(['January 7, 2018', 'January 15, 2018', 'August 1, 2018', ...,\n",
       "       'January 20, 2014', 'February 16, 2014', 'March 23, 2014'],\n",
       "      dtype=object)"
      ]
     },
     "execution_count": 83,
     "metadata": {},
     "output_type": "execute_result"
    }
   ],
   "source": [
    "df['Last Updated'].unique()"
   ]
  },
  {
   "cell_type": "code",
   "execution_count": 84,
   "id": "2623815d",
   "metadata": {},
   "outputs": [],
   "source": [
    "# spliting last updated into deifferent columns:\n",
    "\n",
    "df[['month','date','year']] = df['Last Updated'].str.split(expand=True)"
   ]
  },
  {
   "cell_type": "code",
   "execution_count": 85,
   "id": "d708ac3f",
   "metadata": {},
   "outputs": [
    {
     "data": {
      "text/html": [
       "<div>\n",
       "<style scoped>\n",
       "    .dataframe tbody tr th:only-of-type {\n",
       "        vertical-align: middle;\n",
       "    }\n",
       "\n",
       "    .dataframe tbody tr th {\n",
       "        vertical-align: top;\n",
       "    }\n",
       "\n",
       "    .dataframe thead th {\n",
       "        text-align: right;\n",
       "    }\n",
       "</style>\n",
       "<table border=\"1\" class=\"dataframe\">\n",
       "  <thead>\n",
       "    <tr style=\"text-align: right;\">\n",
       "      <th></th>\n",
       "      <th>month</th>\n",
       "      <th>date</th>\n",
       "      <th>year</th>\n",
       "    </tr>\n",
       "  </thead>\n",
       "  <tbody>\n",
       "    <tr>\n",
       "      <th>0</th>\n",
       "      <td>January</td>\n",
       "      <td>7,</td>\n",
       "      <td>2018</td>\n",
       "    </tr>\n",
       "    <tr>\n",
       "      <th>1</th>\n",
       "      <td>January</td>\n",
       "      <td>15,</td>\n",
       "      <td>2018</td>\n",
       "    </tr>\n",
       "    <tr>\n",
       "      <th>2</th>\n",
       "      <td>August</td>\n",
       "      <td>1,</td>\n",
       "      <td>2018</td>\n",
       "    </tr>\n",
       "    <tr>\n",
       "      <th>3</th>\n",
       "      <td>June</td>\n",
       "      <td>8,</td>\n",
       "      <td>2018</td>\n",
       "    </tr>\n",
       "    <tr>\n",
       "      <th>4</th>\n",
       "      <td>June</td>\n",
       "      <td>20,</td>\n",
       "      <td>2018</td>\n",
       "    </tr>\n",
       "    <tr>\n",
       "      <th>...</th>\n",
       "      <td>...</td>\n",
       "      <td>...</td>\n",
       "      <td>...</td>\n",
       "    </tr>\n",
       "    <tr>\n",
       "      <th>8640</th>\n",
       "      <td>June</td>\n",
       "      <td>18,</td>\n",
       "      <td>2017</td>\n",
       "    </tr>\n",
       "    <tr>\n",
       "      <th>8641</th>\n",
       "      <td>July</td>\n",
       "      <td>25,</td>\n",
       "      <td>2017</td>\n",
       "    </tr>\n",
       "    <tr>\n",
       "      <th>8642</th>\n",
       "      <td>July</td>\n",
       "      <td>6,</td>\n",
       "      <td>2018</td>\n",
       "    </tr>\n",
       "    <tr>\n",
       "      <th>8643</th>\n",
       "      <td>January</td>\n",
       "      <td>19,</td>\n",
       "      <td>2015</td>\n",
       "    </tr>\n",
       "    <tr>\n",
       "      <th>8644</th>\n",
       "      <td>July</td>\n",
       "      <td>25,</td>\n",
       "      <td>2018</td>\n",
       "    </tr>\n",
       "  </tbody>\n",
       "</table>\n",
       "<p>8645 rows × 3 columns</p>\n",
       "</div>"
      ],
      "text/plain": [
       "        month date  year\n",
       "0     January   7,  2018\n",
       "1     January  15,  2018\n",
       "2      August   1,  2018\n",
       "3        June   8,  2018\n",
       "4        June  20,  2018\n",
       "...       ...  ...   ...\n",
       "8640     June  18,  2017\n",
       "8641     July  25,  2017\n",
       "8642     July   6,  2018\n",
       "8643  January  19,  2015\n",
       "8644     July  25,  2018\n",
       "\n",
       "[8645 rows x 3 columns]"
      ]
     },
     "execution_count": 85,
     "metadata": {},
     "output_type": "execute_result"
    }
   ],
   "source": [
    "df[['month','date','year']]"
   ]
  },
  {
   "cell_type": "code",
   "execution_count": 86,
   "id": "08bc6101",
   "metadata": {},
   "outputs": [
    {
     "data": {
      "text/html": [
       "<div>\n",
       "<style scoped>\n",
       "    .dataframe tbody tr th:only-of-type {\n",
       "        vertical-align: middle;\n",
       "    }\n",
       "\n",
       "    .dataframe tbody tr th {\n",
       "        vertical-align: top;\n",
       "    }\n",
       "\n",
       "    .dataframe thead th {\n",
       "        text-align: right;\n",
       "    }\n",
       "</style>\n",
       "<table border=\"1\" class=\"dataframe\">\n",
       "  <thead>\n",
       "    <tr style=\"text-align: right;\">\n",
       "      <th></th>\n",
       "      <th>Unnamed: 0</th>\n",
       "      <th>Category</th>\n",
       "      <th>Rating</th>\n",
       "      <th>Reviews</th>\n",
       "      <th>Size</th>\n",
       "      <th>Installs</th>\n",
       "      <th>Type</th>\n",
       "      <th>Price</th>\n",
       "      <th>Content Rating</th>\n",
       "      <th>Last Updated</th>\n",
       "      <th>month</th>\n",
       "      <th>date</th>\n",
       "      <th>year</th>\n",
       "    </tr>\n",
       "  </thead>\n",
       "  <tbody>\n",
       "    <tr>\n",
       "      <th>0</th>\n",
       "      <td>0.0</td>\n",
       "      <td>ART_AND_DESIGN</td>\n",
       "      <td>4.1</td>\n",
       "      <td>159.0</td>\n",
       "      <td>19000.0</td>\n",
       "      <td>10000.0</td>\n",
       "      <td>Free</td>\n",
       "      <td>0.0</td>\n",
       "      <td>Everyone</td>\n",
       "      <td>January 7, 2018</td>\n",
       "      <td>January</td>\n",
       "      <td>7,</td>\n",
       "      <td>2018</td>\n",
       "    </tr>\n",
       "    <tr>\n",
       "      <th>1</th>\n",
       "      <td>1.0</td>\n",
       "      <td>ART_AND_DESIGN</td>\n",
       "      <td>3.9</td>\n",
       "      <td>967.0</td>\n",
       "      <td>14000.0</td>\n",
       "      <td>500000.0</td>\n",
       "      <td>Free</td>\n",
       "      <td>0.0</td>\n",
       "      <td>Everyone</td>\n",
       "      <td>January 15, 2018</td>\n",
       "      <td>January</td>\n",
       "      <td>15,</td>\n",
       "      <td>2018</td>\n",
       "    </tr>\n",
       "    <tr>\n",
       "      <th>2</th>\n",
       "      <td>2.0</td>\n",
       "      <td>ART_AND_DESIGN</td>\n",
       "      <td>4.7</td>\n",
       "      <td>87510.0</td>\n",
       "      <td>8700.0</td>\n",
       "      <td>5000000.0</td>\n",
       "      <td>Free</td>\n",
       "      <td>0.0</td>\n",
       "      <td>Everyone</td>\n",
       "      <td>August 1, 2018</td>\n",
       "      <td>August</td>\n",
       "      <td>1,</td>\n",
       "      <td>2018</td>\n",
       "    </tr>\n",
       "    <tr>\n",
       "      <th>3</th>\n",
       "      <td>3.0</td>\n",
       "      <td>ART_AND_DESIGN</td>\n",
       "      <td>4.5</td>\n",
       "      <td>215644.0</td>\n",
       "      <td>25000.0</td>\n",
       "      <td>50000000.0</td>\n",
       "      <td>Free</td>\n",
       "      <td>0.0</td>\n",
       "      <td>Teen</td>\n",
       "      <td>June 8, 2018</td>\n",
       "      <td>June</td>\n",
       "      <td>8,</td>\n",
       "      <td>2018</td>\n",
       "    </tr>\n",
       "    <tr>\n",
       "      <th>4</th>\n",
       "      <td>4.0</td>\n",
       "      <td>ART_AND_DESIGN</td>\n",
       "      <td>4.3</td>\n",
       "      <td>967.0</td>\n",
       "      <td>2800.0</td>\n",
       "      <td>100000.0</td>\n",
       "      <td>Free</td>\n",
       "      <td>0.0</td>\n",
       "      <td>Everyone</td>\n",
       "      <td>June 20, 2018</td>\n",
       "      <td>June</td>\n",
       "      <td>20,</td>\n",
       "      <td>2018</td>\n",
       "    </tr>\n",
       "  </tbody>\n",
       "</table>\n",
       "</div>"
      ],
      "text/plain": [
       "   Unnamed: 0        Category  Rating   Reviews     Size    Installs  Type  \\\n",
       "0         0.0  ART_AND_DESIGN     4.1     159.0  19000.0     10000.0  Free   \n",
       "1         1.0  ART_AND_DESIGN     3.9     967.0  14000.0    500000.0  Free   \n",
       "2         2.0  ART_AND_DESIGN     4.7   87510.0   8700.0   5000000.0  Free   \n",
       "3         3.0  ART_AND_DESIGN     4.5  215644.0  25000.0  50000000.0  Free   \n",
       "4         4.0  ART_AND_DESIGN     4.3     967.0   2800.0    100000.0  Free   \n",
       "\n",
       "   Price Content Rating      Last Updated    month date  year  \n",
       "0    0.0       Everyone   January 7, 2018  January   7,  2018  \n",
       "1    0.0       Everyone  January 15, 2018  January  15,  2018  \n",
       "2    0.0       Everyone    August 1, 2018   August   1,  2018  \n",
       "3    0.0           Teen      June 8, 2018     June   8,  2018  \n",
       "4    0.0       Everyone     June 20, 2018     June  20,  2018  "
      ]
     },
     "execution_count": 86,
     "metadata": {},
     "output_type": "execute_result"
    }
   ],
   "source": [
    "df.head()"
   ]
  },
  {
   "cell_type": "code",
   "execution_count": 87,
   "id": "725c5095",
   "metadata": {},
   "outputs": [],
   "source": [
    "# droping last updated column:\n",
    "\n",
    "df = df.drop(['Last Updated'], axis=1)"
   ]
  },
  {
   "cell_type": "code",
   "execution_count": 88,
   "id": "82bc615b",
   "metadata": {},
   "outputs": [
    {
     "data": {
      "text/html": [
       "<div>\n",
       "<style scoped>\n",
       "    .dataframe tbody tr th:only-of-type {\n",
       "        vertical-align: middle;\n",
       "    }\n",
       "\n",
       "    .dataframe tbody tr th {\n",
       "        vertical-align: top;\n",
       "    }\n",
       "\n",
       "    .dataframe thead th {\n",
       "        text-align: right;\n",
       "    }\n",
       "</style>\n",
       "<table border=\"1\" class=\"dataframe\">\n",
       "  <thead>\n",
       "    <tr style=\"text-align: right;\">\n",
       "      <th></th>\n",
       "      <th>Unnamed: 0</th>\n",
       "      <th>Category</th>\n",
       "      <th>Rating</th>\n",
       "      <th>Reviews</th>\n",
       "      <th>Size</th>\n",
       "      <th>Installs</th>\n",
       "      <th>Type</th>\n",
       "      <th>Price</th>\n",
       "      <th>Content Rating</th>\n",
       "      <th>month</th>\n",
       "      <th>date</th>\n",
       "      <th>year</th>\n",
       "    </tr>\n",
       "  </thead>\n",
       "  <tbody>\n",
       "    <tr>\n",
       "      <th>0</th>\n",
       "      <td>0.0</td>\n",
       "      <td>ART_AND_DESIGN</td>\n",
       "      <td>4.1</td>\n",
       "      <td>159.0</td>\n",
       "      <td>19000.0</td>\n",
       "      <td>10000.0</td>\n",
       "      <td>Free</td>\n",
       "      <td>0.0</td>\n",
       "      <td>Everyone</td>\n",
       "      <td>January</td>\n",
       "      <td>7,</td>\n",
       "      <td>2018</td>\n",
       "    </tr>\n",
       "    <tr>\n",
       "      <th>1</th>\n",
       "      <td>1.0</td>\n",
       "      <td>ART_AND_DESIGN</td>\n",
       "      <td>3.9</td>\n",
       "      <td>967.0</td>\n",
       "      <td>14000.0</td>\n",
       "      <td>500000.0</td>\n",
       "      <td>Free</td>\n",
       "      <td>0.0</td>\n",
       "      <td>Everyone</td>\n",
       "      <td>January</td>\n",
       "      <td>15,</td>\n",
       "      <td>2018</td>\n",
       "    </tr>\n",
       "    <tr>\n",
       "      <th>2</th>\n",
       "      <td>2.0</td>\n",
       "      <td>ART_AND_DESIGN</td>\n",
       "      <td>4.7</td>\n",
       "      <td>87510.0</td>\n",
       "      <td>8700.0</td>\n",
       "      <td>5000000.0</td>\n",
       "      <td>Free</td>\n",
       "      <td>0.0</td>\n",
       "      <td>Everyone</td>\n",
       "      <td>August</td>\n",
       "      <td>1,</td>\n",
       "      <td>2018</td>\n",
       "    </tr>\n",
       "    <tr>\n",
       "      <th>3</th>\n",
       "      <td>3.0</td>\n",
       "      <td>ART_AND_DESIGN</td>\n",
       "      <td>4.5</td>\n",
       "      <td>215644.0</td>\n",
       "      <td>25000.0</td>\n",
       "      <td>50000000.0</td>\n",
       "      <td>Free</td>\n",
       "      <td>0.0</td>\n",
       "      <td>Teen</td>\n",
       "      <td>June</td>\n",
       "      <td>8,</td>\n",
       "      <td>2018</td>\n",
       "    </tr>\n",
       "    <tr>\n",
       "      <th>4</th>\n",
       "      <td>4.0</td>\n",
       "      <td>ART_AND_DESIGN</td>\n",
       "      <td>4.3</td>\n",
       "      <td>967.0</td>\n",
       "      <td>2800.0</td>\n",
       "      <td>100000.0</td>\n",
       "      <td>Free</td>\n",
       "      <td>0.0</td>\n",
       "      <td>Everyone</td>\n",
       "      <td>June</td>\n",
       "      <td>20,</td>\n",
       "      <td>2018</td>\n",
       "    </tr>\n",
       "  </tbody>\n",
       "</table>\n",
       "</div>"
      ],
      "text/plain": [
       "   Unnamed: 0        Category  Rating   Reviews     Size    Installs  Type  \\\n",
       "0         0.0  ART_AND_DESIGN     4.1     159.0  19000.0     10000.0  Free   \n",
       "1         1.0  ART_AND_DESIGN     3.9     967.0  14000.0    500000.0  Free   \n",
       "2         2.0  ART_AND_DESIGN     4.7   87510.0   8700.0   5000000.0  Free   \n",
       "3         3.0  ART_AND_DESIGN     4.5  215644.0  25000.0  50000000.0  Free   \n",
       "4         4.0  ART_AND_DESIGN     4.3     967.0   2800.0    100000.0  Free   \n",
       "\n",
       "   Price Content Rating    month date  year  \n",
       "0    0.0       Everyone  January   7,  2018  \n",
       "1    0.0       Everyone  January  15,  2018  \n",
       "2    0.0       Everyone   August   1,  2018  \n",
       "3    0.0           Teen     June   8,  2018  \n",
       "4    0.0       Everyone     June  20,  2018  "
      ]
     },
     "execution_count": 88,
     "metadata": {},
     "output_type": "execute_result"
    }
   ],
   "source": [
    "df.head()"
   ]
  },
  {
   "cell_type": "markdown",
   "id": "4e53883b",
   "metadata": {},
   "source": [
    "### Converting catogorical data into numeric datatype:-"
   ]
  },
  {
   "cell_type": "code",
   "execution_count": 90,
   "id": "adb45c8c",
   "metadata": {},
   "outputs": [
    {
     "data": {
      "text/plain": [
       "Unnamed: 0        float64\n",
       "Category           object\n",
       "Rating            float64\n",
       "Reviews           float64\n",
       "Size              float64\n",
       "Installs          float64\n",
       "Type               object\n",
       "Price             float64\n",
       "Content Rating     object\n",
       "month              object\n",
       "date               object\n",
       "year               object\n",
       "dtype: object"
      ]
     },
     "execution_count": 90,
     "metadata": {},
     "output_type": "execute_result"
    }
   ],
   "source": [
    "df.dtypes"
   ]
  },
  {
   "cell_type": "code",
   "execution_count": 91,
   "id": "3af60688",
   "metadata": {},
   "outputs": [
    {
     "data": {
      "text/plain": [
       "array(['Free', 'Paid'], dtype=object)"
      ]
     },
     "execution_count": 91,
     "metadata": {},
     "output_type": "execute_result"
    }
   ],
   "source": [
    "# converting with mapping:\n",
    "\n",
    "df.Type.unique()"
   ]
  },
  {
   "cell_type": "code",
   "execution_count": 92,
   "id": "313b045d",
   "metadata": {},
   "outputs": [],
   "source": [
    "df['Type'] = df.Type.map({'Free':0, 'Paid':1})"
   ]
  },
  {
   "cell_type": "code",
   "execution_count": 93,
   "id": "692282cd",
   "metadata": {},
   "outputs": [
    {
     "data": {
      "text/plain": [
       "count    8645.000000\n",
       "mean        0.074263\n",
       "std         0.262213\n",
       "min         0.000000\n",
       "25%         0.000000\n",
       "50%         0.000000\n",
       "75%         0.000000\n",
       "max         1.000000\n",
       "Name: Type, dtype: float64"
      ]
     },
     "execution_count": 93,
     "metadata": {},
     "output_type": "execute_result"
    }
   ],
   "source": [
    "df['Type'].describe()"
   ]
  },
  {
   "cell_type": "code",
   "execution_count": 94,
   "id": "ec5e0b43",
   "metadata": {},
   "outputs": [],
   "source": [
    "#label encoding:\n",
    "\n",
    "from sklearn.preprocessing import LabelEncoder\n",
    "\n",
    "le = LabelEncoder()"
   ]
  },
  {
   "cell_type": "code",
   "execution_count": 96,
   "id": "7b183ad7",
   "metadata": {},
   "outputs": [
    {
     "data": {
      "text/plain": [
       "['Category', 'Price', 'Content Rating', 'month', 'date', 'year']"
      ]
     },
     "execution_count": 96,
     "metadata": {},
     "output_type": "execute_result"
    }
   ],
   "source": [
    "col = ['Category','Price','Content Rating','month','date','year']\n",
    "col"
   ]
  },
  {
   "cell_type": "code",
   "execution_count": 97,
   "id": "40e3105e",
   "metadata": {},
   "outputs": [],
   "source": [
    "df[col] = df[col].apply(le.fit_transform)"
   ]
  },
  {
   "cell_type": "code",
   "execution_count": 98,
   "id": "e5fb1ffb",
   "metadata": {},
   "outputs": [
    {
     "data": {
      "text/html": [
       "<div>\n",
       "<style scoped>\n",
       "    .dataframe tbody tr th:only-of-type {\n",
       "        vertical-align: middle;\n",
       "    }\n",
       "\n",
       "    .dataframe tbody tr th {\n",
       "        vertical-align: top;\n",
       "    }\n",
       "\n",
       "    .dataframe thead th {\n",
       "        text-align: right;\n",
       "    }\n",
       "</style>\n",
       "<table border=\"1\" class=\"dataframe\">\n",
       "  <thead>\n",
       "    <tr style=\"text-align: right;\">\n",
       "      <th></th>\n",
       "      <th>Unnamed: 0</th>\n",
       "      <th>Category</th>\n",
       "      <th>Rating</th>\n",
       "      <th>Reviews</th>\n",
       "      <th>Size</th>\n",
       "      <th>Installs</th>\n",
       "      <th>Type</th>\n",
       "      <th>Price</th>\n",
       "      <th>Content Rating</th>\n",
       "      <th>month</th>\n",
       "      <th>date</th>\n",
       "      <th>year</th>\n",
       "    </tr>\n",
       "  </thead>\n",
       "  <tbody>\n",
       "    <tr>\n",
       "      <th>0</th>\n",
       "      <td>0.0</td>\n",
       "      <td>0</td>\n",
       "      <td>4.1</td>\n",
       "      <td>159.0</td>\n",
       "      <td>19000.0</td>\n",
       "      <td>10000.0</td>\n",
       "      <td>0</td>\n",
       "      <td>0</td>\n",
       "      <td>1</td>\n",
       "      <td>4</td>\n",
       "      <td>28</td>\n",
       "      <td>8</td>\n",
       "    </tr>\n",
       "    <tr>\n",
       "      <th>1</th>\n",
       "      <td>1.0</td>\n",
       "      <td>0</td>\n",
       "      <td>3.9</td>\n",
       "      <td>967.0</td>\n",
       "      <td>14000.0</td>\n",
       "      <td>500000.0</td>\n",
       "      <td>0</td>\n",
       "      <td>0</td>\n",
       "      <td>1</td>\n",
       "      <td>4</td>\n",
       "      <td>6</td>\n",
       "      <td>8</td>\n",
       "    </tr>\n",
       "    <tr>\n",
       "      <th>2</th>\n",
       "      <td>2.0</td>\n",
       "      <td>0</td>\n",
       "      <td>4.7</td>\n",
       "      <td>87510.0</td>\n",
       "      <td>8700.0</td>\n",
       "      <td>5000000.0</td>\n",
       "      <td>0</td>\n",
       "      <td>0</td>\n",
       "      <td>1</td>\n",
       "      <td>1</td>\n",
       "      <td>0</td>\n",
       "      <td>8</td>\n",
       "    </tr>\n",
       "    <tr>\n",
       "      <th>3</th>\n",
       "      <td>3.0</td>\n",
       "      <td>0</td>\n",
       "      <td>4.5</td>\n",
       "      <td>215644.0</td>\n",
       "      <td>25000.0</td>\n",
       "      <td>50000000.0</td>\n",
       "      <td>0</td>\n",
       "      <td>0</td>\n",
       "      <td>4</td>\n",
       "      <td>6</td>\n",
       "      <td>29</td>\n",
       "      <td>8</td>\n",
       "    </tr>\n",
       "    <tr>\n",
       "      <th>4</th>\n",
       "      <td>4.0</td>\n",
       "      <td>0</td>\n",
       "      <td>4.3</td>\n",
       "      <td>967.0</td>\n",
       "      <td>2800.0</td>\n",
       "      <td>100000.0</td>\n",
       "      <td>0</td>\n",
       "      <td>0</td>\n",
       "      <td>1</td>\n",
       "      <td>6</td>\n",
       "      <td>12</td>\n",
       "      <td>8</td>\n",
       "    </tr>\n",
       "  </tbody>\n",
       "</table>\n",
       "</div>"
      ],
      "text/plain": [
       "   Unnamed: 0  Category  Rating   Reviews     Size    Installs  Type  Price  \\\n",
       "0         0.0         0     4.1     159.0  19000.0     10000.0     0      0   \n",
       "1         1.0         0     3.9     967.0  14000.0    500000.0     0      0   \n",
       "2         2.0         0     4.7   87510.0   8700.0   5000000.0     0      0   \n",
       "3         3.0         0     4.5  215644.0  25000.0  50000000.0     0      0   \n",
       "4         4.0         0     4.3     967.0   2800.0    100000.0     0      0   \n",
       "\n",
       "   Content Rating  month  date  year  \n",
       "0               1      4    28     8  \n",
       "1               1      4     6     8  \n",
       "2               1      1     0     8  \n",
       "3               4      6    29     8  \n",
       "4               1      6    12     8  "
      ]
     },
     "execution_count": 98,
     "metadata": {},
     "output_type": "execute_result"
    }
   ],
   "source": [
    "df.head()"
   ]
  },
  {
   "cell_type": "code",
   "execution_count": 99,
   "id": "4d91749e",
   "metadata": {},
   "outputs": [
    {
     "data": {
      "text/plain": [
       "Unnamed: 0        float64\n",
       "Category            int32\n",
       "Rating            float64\n",
       "Reviews           float64\n",
       "Size              float64\n",
       "Installs          float64\n",
       "Type                int64\n",
       "Price               int64\n",
       "Content Rating      int32\n",
       "month               int32\n",
       "date                int32\n",
       "year                int32\n",
       "dtype: object"
      ]
     },
     "execution_count": 99,
     "metadata": {},
     "output_type": "execute_result"
    }
   ],
   "source": [
    "df.dtypes"
   ]
  },
  {
   "cell_type": "markdown",
   "id": "254a3403",
   "metadata": {},
   "source": [
    "## step : 5 -- Train Test Split:"
   ]
  },
  {
   "cell_type": "code",
   "execution_count": 106,
   "id": "dec3de76",
   "metadata": {},
   "outputs": [],
   "source": [
    "x = df.drop('Price', axis=1)"
   ]
  },
  {
   "cell_type": "code",
   "execution_count": 102,
   "id": "2582dcfb",
   "metadata": {},
   "outputs": [
    {
     "data": {
      "text/html": [
       "<div>\n",
       "<style scoped>\n",
       "    .dataframe tbody tr th:only-of-type {\n",
       "        vertical-align: middle;\n",
       "    }\n",
       "\n",
       "    .dataframe tbody tr th {\n",
       "        vertical-align: top;\n",
       "    }\n",
       "\n",
       "    .dataframe thead th {\n",
       "        text-align: right;\n",
       "    }\n",
       "</style>\n",
       "<table border=\"1\" class=\"dataframe\">\n",
       "  <thead>\n",
       "    <tr style=\"text-align: right;\">\n",
       "      <th></th>\n",
       "      <th>Unnamed: 0</th>\n",
       "      <th>Category</th>\n",
       "      <th>Rating</th>\n",
       "      <th>Reviews</th>\n",
       "      <th>Size</th>\n",
       "      <th>Installs</th>\n",
       "      <th>Type</th>\n",
       "      <th>Content Rating</th>\n",
       "      <th>month</th>\n",
       "      <th>date</th>\n",
       "      <th>year</th>\n",
       "    </tr>\n",
       "  </thead>\n",
       "  <tbody>\n",
       "    <tr>\n",
       "      <th>0</th>\n",
       "      <td>0.0</td>\n",
       "      <td>0</td>\n",
       "      <td>4.1</td>\n",
       "      <td>159.0</td>\n",
       "      <td>19000.0</td>\n",
       "      <td>10000.0</td>\n",
       "      <td>0</td>\n",
       "      <td>1</td>\n",
       "      <td>4</td>\n",
       "      <td>28</td>\n",
       "      <td>8</td>\n",
       "    </tr>\n",
       "    <tr>\n",
       "      <th>1</th>\n",
       "      <td>1.0</td>\n",
       "      <td>0</td>\n",
       "      <td>3.9</td>\n",
       "      <td>967.0</td>\n",
       "      <td>14000.0</td>\n",
       "      <td>500000.0</td>\n",
       "      <td>0</td>\n",
       "      <td>1</td>\n",
       "      <td>4</td>\n",
       "      <td>6</td>\n",
       "      <td>8</td>\n",
       "    </tr>\n",
       "    <tr>\n",
       "      <th>2</th>\n",
       "      <td>2.0</td>\n",
       "      <td>0</td>\n",
       "      <td>4.7</td>\n",
       "      <td>87510.0</td>\n",
       "      <td>8700.0</td>\n",
       "      <td>5000000.0</td>\n",
       "      <td>0</td>\n",
       "      <td>1</td>\n",
       "      <td>1</td>\n",
       "      <td>0</td>\n",
       "      <td>8</td>\n",
       "    </tr>\n",
       "    <tr>\n",
       "      <th>3</th>\n",
       "      <td>3.0</td>\n",
       "      <td>0</td>\n",
       "      <td>4.5</td>\n",
       "      <td>215644.0</td>\n",
       "      <td>25000.0</td>\n",
       "      <td>50000000.0</td>\n",
       "      <td>0</td>\n",
       "      <td>4</td>\n",
       "      <td>6</td>\n",
       "      <td>29</td>\n",
       "      <td>8</td>\n",
       "    </tr>\n",
       "    <tr>\n",
       "      <th>4</th>\n",
       "      <td>4.0</td>\n",
       "      <td>0</td>\n",
       "      <td>4.3</td>\n",
       "      <td>967.0</td>\n",
       "      <td>2800.0</td>\n",
       "      <td>100000.0</td>\n",
       "      <td>0</td>\n",
       "      <td>1</td>\n",
       "      <td>6</td>\n",
       "      <td>12</td>\n",
       "      <td>8</td>\n",
       "    </tr>\n",
       "  </tbody>\n",
       "</table>\n",
       "</div>"
      ],
      "text/plain": [
       "   Unnamed: 0  Category  Rating   Reviews     Size    Installs  Type  \\\n",
       "0         0.0         0     4.1     159.0  19000.0     10000.0     0   \n",
       "1         1.0         0     3.9     967.0  14000.0    500000.0     0   \n",
       "2         2.0         0     4.7   87510.0   8700.0   5000000.0     0   \n",
       "3         3.0         0     4.5  215644.0  25000.0  50000000.0     0   \n",
       "4         4.0         0     4.3     967.0   2800.0    100000.0     0   \n",
       "\n",
       "   Content Rating  month  date  year  \n",
       "0               1      4    28     8  \n",
       "1               1      4     6     8  \n",
       "2               1      1     0     8  \n",
       "3               4      6    29     8  \n",
       "4               1      6    12     8  "
      ]
     },
     "execution_count": 102,
     "metadata": {},
     "output_type": "execute_result"
    }
   ],
   "source": [
    "x.head()"
   ]
  },
  {
   "cell_type": "code",
   "execution_count": 103,
   "id": "753c4710",
   "metadata": {},
   "outputs": [],
   "source": [
    "y = df['Price']"
   ]
  },
  {
   "cell_type": "code",
   "execution_count": 104,
   "id": "3618bb35",
   "metadata": {},
   "outputs": [
    {
     "data": {
      "text/plain": [
       "0    0\n",
       "1    0\n",
       "2    0\n",
       "3    0\n",
       "4    0\n",
       "Name: Price, dtype: int64"
      ]
     },
     "execution_count": 104,
     "metadata": {},
     "output_type": "execute_result"
    }
   ],
   "source": [
    "y.head()"
   ]
  },
  {
   "cell_type": "code",
   "execution_count": 105,
   "id": "1b1a3941",
   "metadata": {},
   "outputs": [],
   "source": [
    "from sklearn.model_selection import train_test_split\n",
    "\n",
    "x_train,x_test,y_train,y_test = train_test_split(x,y,test_size=0.20,random_state=42)"
   ]
  },
  {
   "cell_type": "code",
   "execution_count": 108,
   "id": "9e2dcd12",
   "metadata": {},
   "outputs": [],
   "source": [
    "#scaling:\n",
    "\n",
    "from sklearn.preprocessing import StandardScaler\n",
    "\n",
    "sc = StandardScaler()"
   ]
  },
  {
   "cell_type": "code",
   "execution_count": 109,
   "id": "12569959",
   "metadata": {},
   "outputs": [
    {
     "data": {
      "text/plain": [
       "array([[ 0.4966206 ,  0.26740395, -1.2425437 , ..., -0.31613554,\n",
       "        -0.84799534,  0.55279364],\n",
       "       [ 0.95414514, -1.2950679 ,  0.43222655, ...,  0.0383381 ,\n",
       "         0.64550238,  0.55279364],\n",
       "       [-1.61787613, -1.53544818,  0.24614096, ...,  0.0383381 ,\n",
       "         0.87527126,  0.55279364],\n",
       "       ...,\n",
       "       [-1.51393675, -1.17487775, -0.49820137, ...,  0.0383381 ,\n",
       "         0.76038682,  0.55279364],\n",
       "       [-0.79752027,  0.86835466,  0.9904833 , ...,  0.0383381 ,\n",
       "         1.33480902,  0.55279364],\n",
       "       [ 0.62128408,  0.38759409,  0.24614096, ...,  1.101759  ,\n",
       "         0.9901557 ,  0.55279364]])"
      ]
     },
     "execution_count": 109,
     "metadata": {},
     "output_type": "execute_result"
    }
   ],
   "source": [
    "sc.fit_transform(x_train)\n",
    "sc.transform(x_test)"
   ]
  },
  {
   "cell_type": "code",
   "execution_count": 110,
   "id": "f43a1efb",
   "metadata": {},
   "outputs": [],
   "source": [
    "# random forest classification on training set:\n",
    "\n",
    "from sklearn.ensemble import RandomForestClassifier\n",
    "\n",
    "classifier = RandomForestClassifier(n_estimators=10,criterion='entropy',random_state=1)"
   ]
  },
  {
   "cell_type": "code",
   "execution_count": 111,
   "id": "0327acce",
   "metadata": {},
   "outputs": [
    {
     "data": {
      "text/plain": [
       "dict_keys(['bootstrap', 'ccp_alpha', 'class_weight', 'criterion', 'max_depth', 'max_features', 'max_leaf_nodes', 'max_samples', 'min_impurity_decrease', 'min_impurity_split', 'min_samples_leaf', 'min_samples_split', 'min_weight_fraction_leaf', 'n_estimators', 'n_jobs', 'oob_score', 'random_state', 'verbose', 'warm_start'])"
      ]
     },
     "execution_count": 111,
     "metadata": {},
     "output_type": "execute_result"
    }
   ],
   "source": [
    "classifier.get_params().keys()"
   ]
  },
  {
   "cell_type": "code",
   "execution_count": 112,
   "id": "8e6fa9e2",
   "metadata": {},
   "outputs": [
    {
     "data": {
      "text/plain": [
       "RandomForestClassifier(criterion='entropy', n_estimators=10, random_state=1)"
      ]
     },
     "execution_count": 112,
     "metadata": {},
     "output_type": "execute_result"
    }
   ],
   "source": [
    "classifier.fit(x_train,y_train)"
   ]
  },
  {
   "cell_type": "code",
   "execution_count": 113,
   "id": "b83d7729",
   "metadata": {},
   "outputs": [],
   "source": [
    "y_pred = classifier.predict(x_test)"
   ]
  },
  {
   "cell_type": "markdown",
   "id": "020028a3",
   "metadata": {},
   "source": [
    "### confusion matrix"
   ]
  },
  {
   "cell_type": "code",
   "execution_count": 114,
   "id": "2362e612",
   "metadata": {},
   "outputs": [
    {
     "data": {
      "text/plain": [
       "array([[1607,    0,    0, ...,    0,    0,    0],\n",
       "       [   0,   11,    1, ...,    0,    0,    0],\n",
       "       [   0,    0,    0, ...,    0,    0,    0],\n",
       "       ...,\n",
       "       [   0,    0,    0, ...,    1,    0,    0],\n",
       "       [   0,    0,    0, ...,    0,    1,    0],\n",
       "       [   0,    0,    0, ...,    0,    0,    2]], dtype=int64)"
      ]
     },
     "execution_count": 114,
     "metadata": {},
     "output_type": "execute_result"
    }
   ],
   "source": [
    "from sklearn.metrics import confusion_matrix\n",
    "\n",
    "cm = confusion_matrix(y_pred,y_test)\n",
    "cm"
   ]
  },
  {
   "cell_type": "code",
   "execution_count": 115,
   "id": "04392c4f",
   "metadata": {},
   "outputs": [
    {
     "data": {
      "text/plain": [
       "0.9485251590514748"
      ]
     },
     "execution_count": 115,
     "metadata": {},
     "output_type": "execute_result"
    }
   ],
   "source": [
    "from sklearn.metrics import accuracy_score\n",
    "\n",
    "acc = accuracy_score(y_pred,y_test)\n",
    "acc"
   ]
  }
 ],
 "metadata": {
  "kernelspec": {
   "display_name": "Python 3",
   "language": "python",
   "name": "python3"
  },
  "language_info": {
   "codemirror_mode": {
    "name": "ipython",
    "version": 3
   },
   "file_extension": ".py",
   "mimetype": "text/x-python",
   "name": "python",
   "nbconvert_exporter": "python",
   "pygments_lexer": "ipython3",
   "version": "3.8.8"
  }
 },
 "nbformat": 4,
 "nbformat_minor": 5
}
