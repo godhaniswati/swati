{
 "cells": [
  {
   "cell_type": "markdown",
   "id": "a4f55f45",
   "metadata": {},
   "source": [
    "# Time Series:"
   ]
  },
  {
   "cell_type": "markdown",
   "id": "5fd43c88",
   "metadata": {},
   "source": [
    "# Exponential Smoothing Technique:"
   ]
  },
  {
   "cell_type": "markdown",
   "id": "f00da0c9",
   "metadata": {},
   "source": [
    "### importing libraries:"
   ]
  },
  {
   "cell_type": "code",
   "execution_count": 1,
   "id": "abc40202",
   "metadata": {},
   "outputs": [],
   "source": [
    "import numpy as np\n",
    "import pandas as pd\n",
    "import matplotlib.pyplot as plt\n",
    "import seaborn as sns\n",
    "\n",
    "import warnings\n",
    "warnings.filterwarnings('ignore') "
   ]
  },
  {
   "cell_type": "markdown",
   "id": "49bccbd4",
   "metadata": {},
   "source": [
    "### Reading and Understanding Data:"
   ]
  },
  {
   "cell_type": "code",
   "execution_count": 2,
   "id": "6ec5f54b",
   "metadata": {},
   "outputs": [],
   "source": [
    "df = pd.read_csv('airline-passenger-traffic.csv',header=None)"
   ]
  },
  {
   "cell_type": "code",
   "execution_count": 3,
   "id": "16653699",
   "metadata": {},
   "outputs": [],
   "source": [
    "df.columns = ['Months','Passengers']"
   ]
  },
  {
   "cell_type": "code",
   "execution_count": 4,
   "id": "9ff22ae8",
   "metadata": {},
   "outputs": [
    {
     "data": {
      "text/html": [
       "<div>\n",
       "<style scoped>\n",
       "    .dataframe tbody tr th:only-of-type {\n",
       "        vertical-align: middle;\n",
       "    }\n",
       "\n",
       "    .dataframe tbody tr th {\n",
       "        vertical-align: top;\n",
       "    }\n",
       "\n",
       "    .dataframe thead th {\n",
       "        text-align: right;\n",
       "    }\n",
       "</style>\n",
       "<table border=\"1\" class=\"dataframe\">\n",
       "  <thead>\n",
       "    <tr style=\"text-align: right;\">\n",
       "      <th></th>\n",
       "      <th>Months</th>\n",
       "      <th>Passengers</th>\n",
       "    </tr>\n",
       "  </thead>\n",
       "  <tbody>\n",
       "    <tr>\n",
       "      <th>0</th>\n",
       "      <td>1949-01</td>\n",
       "      <td>112.0</td>\n",
       "    </tr>\n",
       "    <tr>\n",
       "      <th>1</th>\n",
       "      <td>1949-02</td>\n",
       "      <td>118.0</td>\n",
       "    </tr>\n",
       "    <tr>\n",
       "      <th>2</th>\n",
       "      <td>1949-03</td>\n",
       "      <td>132.0</td>\n",
       "    </tr>\n",
       "    <tr>\n",
       "      <th>3</th>\n",
       "      <td>1949-04</td>\n",
       "      <td>129.0</td>\n",
       "    </tr>\n",
       "    <tr>\n",
       "      <th>4</th>\n",
       "      <td>1949-05</td>\n",
       "      <td>121.0</td>\n",
       "    </tr>\n",
       "  </tbody>\n",
       "</table>\n",
       "</div>"
      ],
      "text/plain": [
       "    Months  Passengers\n",
       "0  1949-01       112.0\n",
       "1  1949-02       118.0\n",
       "2  1949-03       132.0\n",
       "3  1949-04       129.0\n",
       "4  1949-05       121.0"
      ]
     },
     "execution_count": 4,
     "metadata": {},
     "output_type": "execute_result"
    }
   ],
   "source": [
    "df.head()"
   ]
  },
  {
   "cell_type": "code",
   "execution_count": 5,
   "id": "fd087bd7",
   "metadata": {},
   "outputs": [
    {
     "data": {
      "text/plain": [
       "(144, 2)"
      ]
     },
     "execution_count": 5,
     "metadata": {},
     "output_type": "execute_result"
    }
   ],
   "source": [
    "df.shape"
   ]
  },
  {
   "cell_type": "code",
   "execution_count": 6,
   "id": "40355a57",
   "metadata": {},
   "outputs": [
    {
     "data": {
      "text/html": [
       "<div>\n",
       "<style scoped>\n",
       "    .dataframe tbody tr th:only-of-type {\n",
       "        vertical-align: middle;\n",
       "    }\n",
       "\n",
       "    .dataframe tbody tr th {\n",
       "        vertical-align: top;\n",
       "    }\n",
       "\n",
       "    .dataframe thead th {\n",
       "        text-align: right;\n",
       "    }\n",
       "</style>\n",
       "<table border=\"1\" class=\"dataframe\">\n",
       "  <thead>\n",
       "    <tr style=\"text-align: right;\">\n",
       "      <th></th>\n",
       "      <th>Passengers</th>\n",
       "    </tr>\n",
       "  </thead>\n",
       "  <tbody>\n",
       "    <tr>\n",
       "      <th>count</th>\n",
       "      <td>140.000000</td>\n",
       "    </tr>\n",
       "    <tr>\n",
       "      <th>mean</th>\n",
       "      <td>280.735714</td>\n",
       "    </tr>\n",
       "    <tr>\n",
       "      <th>std</th>\n",
       "      <td>120.593235</td>\n",
       "    </tr>\n",
       "    <tr>\n",
       "      <th>min</th>\n",
       "      <td>104.000000</td>\n",
       "    </tr>\n",
       "    <tr>\n",
       "      <th>25%</th>\n",
       "      <td>180.000000</td>\n",
       "    </tr>\n",
       "    <tr>\n",
       "      <th>50%</th>\n",
       "      <td>268.000000</td>\n",
       "    </tr>\n",
       "    <tr>\n",
       "      <th>75%</th>\n",
       "      <td>360.500000</td>\n",
       "    </tr>\n",
       "    <tr>\n",
       "      <th>max</th>\n",
       "      <td>622.000000</td>\n",
       "    </tr>\n",
       "  </tbody>\n",
       "</table>\n",
       "</div>"
      ],
      "text/plain": [
       "       Passengers\n",
       "count  140.000000\n",
       "mean   280.735714\n",
       "std    120.593235\n",
       "min    104.000000\n",
       "25%    180.000000\n",
       "50%    268.000000\n",
       "75%    360.500000\n",
       "max    622.000000"
      ]
     },
     "execution_count": 6,
     "metadata": {},
     "output_type": "execute_result"
    }
   ],
   "source": [
    "df.describe()"
   ]
  },
  {
   "cell_type": "code",
   "execution_count": 7,
   "id": "2f348122",
   "metadata": {},
   "outputs": [
    {
     "name": "stdout",
     "output_type": "stream",
     "text": [
      "<class 'pandas.core.frame.DataFrame'>\n",
      "RangeIndex: 144 entries, 0 to 143\n",
      "Data columns (total 2 columns):\n",
      " #   Column      Non-Null Count  Dtype  \n",
      "---  ------      --------------  -----  \n",
      " 0   Months      144 non-null    object \n",
      " 1   Passengers  140 non-null    float64\n",
      "dtypes: float64(1), object(1)\n",
      "memory usage: 2.4+ KB\n"
     ]
    }
   ],
   "source": [
    "df.info()"
   ]
  },
  {
   "cell_type": "code",
   "execution_count": 8,
   "id": "a5f51b2a",
   "metadata": {},
   "outputs": [
    {
     "data": {
      "text/plain": [
       "Months         object\n",
       "Passengers    float64\n",
       "dtype: object"
      ]
     },
     "execution_count": 8,
     "metadata": {},
     "output_type": "execute_result"
    }
   ],
   "source": [
    "df.dtypes"
   ]
  },
  {
   "cell_type": "markdown",
   "id": "d5dd3bfa",
   "metadata": {},
   "source": [
    "### Converting into DateTime Series:"
   ]
  },
  {
   "cell_type": "code",
   "execution_count": 9,
   "id": "12b2c3aa",
   "metadata": {},
   "outputs": [],
   "source": [
    "df['Months'] = pd.to_datetime(df['Months'],format='%Y-%m')"
   ]
  },
  {
   "cell_type": "code",
   "execution_count": 10,
   "id": "52b3ef6f",
   "metadata": {},
   "outputs": [
    {
     "data": {
      "text/plain": [
       "Months        datetime64[ns]\n",
       "Passengers           float64\n",
       "dtype: object"
      ]
     },
     "execution_count": 10,
     "metadata": {},
     "output_type": "execute_result"
    }
   ],
   "source": [
    "df.dtypes"
   ]
  },
  {
   "cell_type": "code",
   "execution_count": 11,
   "id": "d69b1f0f",
   "metadata": {},
   "outputs": [],
   "source": [
    "df = df.set_index('Months')"
   ]
  },
  {
   "cell_type": "code",
   "execution_count": 12,
   "id": "458de560",
   "metadata": {},
   "outputs": [
    {
     "data": {
      "text/html": [
       "<div>\n",
       "<style scoped>\n",
       "    .dataframe tbody tr th:only-of-type {\n",
       "        vertical-align: middle;\n",
       "    }\n",
       "\n",
       "    .dataframe tbody tr th {\n",
       "        vertical-align: top;\n",
       "    }\n",
       "\n",
       "    .dataframe thead th {\n",
       "        text-align: right;\n",
       "    }\n",
       "</style>\n",
       "<table border=\"1\" class=\"dataframe\">\n",
       "  <thead>\n",
       "    <tr style=\"text-align: right;\">\n",
       "      <th></th>\n",
       "      <th>Passengers</th>\n",
       "    </tr>\n",
       "    <tr>\n",
       "      <th>Months</th>\n",
       "      <th></th>\n",
       "    </tr>\n",
       "  </thead>\n",
       "  <tbody>\n",
       "    <tr>\n",
       "      <th>1949-01-01</th>\n",
       "      <td>112.0</td>\n",
       "    </tr>\n",
       "    <tr>\n",
       "      <th>1949-02-01</th>\n",
       "      <td>118.0</td>\n",
       "    </tr>\n",
       "    <tr>\n",
       "      <th>1949-03-01</th>\n",
       "      <td>132.0</td>\n",
       "    </tr>\n",
       "    <tr>\n",
       "      <th>1949-04-01</th>\n",
       "      <td>129.0</td>\n",
       "    </tr>\n",
       "    <tr>\n",
       "      <th>1949-05-01</th>\n",
       "      <td>121.0</td>\n",
       "    </tr>\n",
       "  </tbody>\n",
       "</table>\n",
       "</div>"
      ],
      "text/plain": [
       "            Passengers\n",
       "Months                \n",
       "1949-01-01       112.0\n",
       "1949-02-01       118.0\n",
       "1949-03-01       132.0\n",
       "1949-04-01       129.0\n",
       "1949-05-01       121.0"
      ]
     },
     "execution_count": 12,
     "metadata": {},
     "output_type": "execute_result"
    }
   ],
   "source": [
    "df.head()"
   ]
  },
  {
   "cell_type": "markdown",
   "id": "b0207d48",
   "metadata": {},
   "source": [
    "### Time Series Analysis:"
   ]
  },
  {
   "cell_type": "code",
   "execution_count": 13,
   "id": "a81be4af",
   "metadata": {},
   "outputs": [
    {
     "data": {
      "image/png": "[encoded data removed]",
      "text/plain": [
       "<Figure size 720x360 with 1 Axes>"
      ]
     },
     "metadata": {
      "needs_background": "light"
     },
     "output_type": "display_data"
    }
   ],
   "source": [
    "# plottig time series data:\n",
    "\n",
    "df.plot(figsize=(10,5))\n",
    "plt.title('Airline Passenger Traffic')\n",
    "plt.show()"
   ]
  },
  {
   "cell_type": "markdown",
   "id": "cd256429",
   "metadata": {},
   "source": [
    "###  Missing Value Treatment:"
   ]
  },
  {
   "cell_type": "code",
   "execution_count": 14,
   "id": "c55c8b56",
   "metadata": {},
   "outputs": [],
   "source": [
    "# treating missing value with linear interpolation:\n",
    "\n",
    "df1 = pd.read_csv('airline-passenger-traffic.csv',header=None)\n",
    "df1.columns = ['Months','Passengers']"
   ]
  },
  {
   "cell_type": "code",
   "execution_count": 15,
   "id": "3c0633c0",
   "metadata": {},
   "outputs": [
    {
     "data": {
      "text/plain": [
       "Months         object\n",
       "Passengers    float64\n",
       "dtype: object"
      ]
     },
     "execution_count": 15,
     "metadata": {},
     "output_type": "execute_result"
    }
   ],
   "source": [
    "df1.dtypes"
   ]
  },
  {
   "cell_type": "code",
   "execution_count": 16,
   "id": "5d62b1a9",
   "metadata": {},
   "outputs": [],
   "source": [
    "# changing format of dtypes\n",
    "\n",
    "df1['Months'] = pd.to_datetime(df1['Months'],format='%Y-%m')"
   ]
  },
  {
   "cell_type": "code",
   "execution_count": 17,
   "id": "b3002b2c",
   "metadata": {},
   "outputs": [
    {
     "data": {
      "text/plain": [
       "Months        datetime64[ns]\n",
       "Passengers           float64\n",
       "dtype: object"
      ]
     },
     "execution_count": 17,
     "metadata": {},
     "output_type": "execute_result"
    }
   ],
   "source": [
    "df1.dtypes"
   ]
  },
  {
   "cell_type": "code",
   "execution_count": 18,
   "id": "dc458cf2",
   "metadata": {},
   "outputs": [],
   "source": [
    "df1 = df1.set_index(['Months'])"
   ]
  },
  {
   "cell_type": "code",
   "execution_count": 19,
   "id": "8d797786",
   "metadata": {},
   "outputs": [
    {
     "data": {
      "text/html": [
       "<div>\n",
       "<style scoped>\n",
       "    .dataframe tbody tr th:only-of-type {\n",
       "        vertical-align: middle;\n",
       "    }\n",
       "\n",
       "    .dataframe tbody tr th {\n",
       "        vertical-align: top;\n",
       "    }\n",
       "\n",
       "    .dataframe thead th {\n",
       "        text-align: right;\n",
       "    }\n",
       "</style>\n",
       "<table border=\"1\" class=\"dataframe\">\n",
       "  <thead>\n",
       "    <tr style=\"text-align: right;\">\n",
       "      <th></th>\n",
       "      <th>Passengers</th>\n",
       "    </tr>\n",
       "    <tr>\n",
       "      <th>Months</th>\n",
       "      <th></th>\n",
       "    </tr>\n",
       "  </thead>\n",
       "  <tbody>\n",
       "    <tr>\n",
       "      <th>1949-01-01</th>\n",
       "      <td>112.0</td>\n",
       "    </tr>\n",
       "    <tr>\n",
       "      <th>1949-02-01</th>\n",
       "      <td>118.0</td>\n",
       "    </tr>\n",
       "    <tr>\n",
       "      <th>1949-03-01</th>\n",
       "      <td>132.0</td>\n",
       "    </tr>\n",
       "    <tr>\n",
       "      <th>1949-04-01</th>\n",
       "      <td>129.0</td>\n",
       "    </tr>\n",
       "    <tr>\n",
       "      <th>1949-05-01</th>\n",
       "      <td>121.0</td>\n",
       "    </tr>\n",
       "  </tbody>\n",
       "</table>\n",
       "</div>"
      ],
      "text/plain": [
       "            Passengers\n",
       "Months                \n",
       "1949-01-01       112.0\n",
       "1949-02-01       118.0\n",
       "1949-03-01       132.0\n",
       "1949-04-01       129.0\n",
       "1949-05-01       121.0"
      ]
     },
     "execution_count": 19,
     "metadata": {},
     "output_type": "execute_result"
    }
   ],
   "source": [
    "df1.head()"
   ]
  },
  {
   "cell_type": "code",
   "execution_count": 20,
   "id": "6d54bc78",
   "metadata": {},
   "outputs": [
    {
     "data": {
      "image/png": "[encoded data removed]",
      "text/plain": [
       "<Figure size 720x360 with 1 Axes>"
      ]
     },
     "metadata": {
      "needs_background": "light"
     },
     "output_type": "display_data"
    }
   ],
   "source": [
    "df1.plot(figsize=(10,5))\n",
    "plt.title('airline-passenger-traffic treated with linear interpolation')\n",
    "plt.show()"
   ]
  },
  {
   "cell_type": "code",
   "execution_count": 21,
   "id": "dbe4b1fe",
   "metadata": {},
   "outputs": [],
   "source": [
    "# using interpolate method:\n",
    "\n",
    "df1['Passengers'].fillna(df1['Passengers'].interpolate(method='linear'),inplace=True)"
   ]
  },
  {
   "cell_type": "code",
   "execution_count": 22,
   "id": "7ae488f9",
   "metadata": {},
   "outputs": [
    {
     "data": {
      "image/png": "[encoded data removed]",
      "text/plain": [
       "<Figure size 720x360 with 1 Axes>"
      ]
     },
     "metadata": {
      "needs_background": "light"
     },
     "output_type": "display_data"
    }
   ],
   "source": [
    "df1.plot(figsize=(10,5))\n",
    "plt.title('airline-passenger-traffic treated with linear interpolation')\n",
    "plt.show()"
   ]
  },
  {
   "cell_type": "markdown",
   "id": "eae2c0c8",
   "metadata": {},
   "source": [
    "### Outliers detection:"
   ]
  },
  {
   "cell_type": "code",
   "execution_count": 23,
   "id": "a592395c",
   "metadata": {},
   "outputs": [
    {
     "data": {
      "image/png": "[encoded data removed]",
      "text/plain": [
       "<Figure size 720x144 with 1 Axes>"
      ]
     },
     "metadata": {
      "needs_background": "light"
     },
     "output_type": "display_data"
    }
   ],
   "source": [
    "# boxplot:\n",
    "\n",
    "plot=plt.subplots(figsize=(10,2))\n",
    "box_plot = sns.boxplot(x=df1['Passengers'],whis=1.5)"
   ]
  },
  {
   "cell_type": "code",
   "execution_count": 24,
   "id": "5d57c786",
   "metadata": {},
   "outputs": [
    {
     "data": {
      "image/png": "[encoded data removed]",
      "text/plain": [
       "<Figure size 864x144 with 1 Axes>"
      ]
     },
     "metadata": {
      "needs_background": "light"
     },
     "output_type": "display_data"
    }
   ],
   "source": [
    "# histogram:\n",
    "\n",
    "plot = df1['Passengers'].hist(figsize=(12,2))"
   ]
  },
  {
   "cell_type": "markdown",
   "id": "4d8ca362",
   "metadata": {},
   "source": [
    "### Time Series Decomposition:"
   ]
  },
  {
   "cell_type": "markdown",
   "id": "a2f9bc12",
   "metadata": {},
   "source": [
    "### Additive:"
   ]
  },
  {
   "cell_type": "code",
   "execution_count": 25,
   "id": "3f3b9cc8",
   "metadata": {},
   "outputs": [],
   "source": [
    "from statsmodels.api import tsa"
   ]
  },
  {
   "cell_type": "code",
   "execution_count": 26,
   "id": "91e6ee2a",
   "metadata": {},
   "outputs": [
    {
     "data": {
      "text/plain": [
       "<Figure size 720x360 with 0 Axes>"
      ]
     },
     "metadata": {},
     "output_type": "display_data"
    },
    {
     "data": {
      "image/png": "[encoded data removed]",
      "text/plain": [
       "<Figure size 432x288 with 4 Axes>"
      ]
     },
     "metadata": {
      "needs_background": "light"
     },
     "output_type": "display_data"
    }
   ],
   "source": [
    "plt.figure(figsize=(10,5))\n",
    "dc = tsa.seasonal_decompose(df1['Passengers'], model='additive')\n",
    "dc.plot()\n",
    "plt.show()"
   ]
  },
  {
   "cell_type": "markdown",
   "id": "8e392440",
   "metadata": {},
   "source": [
    "### Multiplicative:\n",
    "\n"
   ]
  },
  {
   "cell_type": "code",
   "execution_count": 27,
   "id": "d53323b0",
   "metadata": {
    "scrolled": true
   },
   "outputs": [
    {
     "data": {
      "image/png": "[encoded data removed]",
      "text/plain": [
       "<Figure size 432x288 with 4 Axes>"
      ]
     },
     "metadata": {
      "needs_background": "light"
     },
     "output_type": "display_data"
    }
   ],
   "source": [
    "# multiplicative:\n",
    "\n",
    "dc = tsa.seasonal_decompose(df1['Passengers'],model= 'multplicative')\n",
    "dc.plot()\n",
    "plt.show()"
   ]
  },
  {
   "cell_type": "markdown",
   "id": "87f2ed8b",
   "metadata": {},
   "source": [
    "### Splitting time series:"
   ]
  },
  {
   "cell_type": "code",
   "execution_count": 28,
   "id": "a5ae5447",
   "metadata": {},
   "outputs": [],
   "source": [
    "train_len = 120\n",
    "train = df1[0:train_len]\n",
    "test=df1[train_len:]"
   ]
  },
  {
   "cell_type": "code",
   "execution_count": 29,
   "id": "00181ed3",
   "metadata": {},
   "outputs": [
    {
     "data": {
      "text/plain": [
       "337.0"
      ]
     },
     "execution_count": 29,
     "metadata": {},
     "output_type": "execute_result"
    }
   ],
   "source": [
    "y_pred = train['Passengers'][train_len-1]\n",
    "y_pred"
   ]
  },
  {
   "cell_type": "code",
   "execution_count": 30,
   "id": "51e665cc",
   "metadata": {},
   "outputs": [],
   "source": [
    "# adding new column to df1 set:\n",
    "\n",
    "train['y_pred']=y_pred"
   ]
  },
  {
   "cell_type": "code",
   "execution_count": 31,
   "id": "ecf6ddbf",
   "metadata": {},
   "outputs": [
    {
     "data": {
      "text/html": [
       "<div>\n",
       "<style scoped>\n",
       "    .dataframe tbody tr th:only-of-type {\n",
       "        vertical-align: middle;\n",
       "    }\n",
       "\n",
       "    .dataframe tbody tr th {\n",
       "        vertical-align: top;\n",
       "    }\n",
       "\n",
       "    .dataframe thead th {\n",
       "        text-align: right;\n",
       "    }\n",
       "</style>\n",
       "<table border=\"1\" class=\"dataframe\">\n",
       "  <thead>\n",
       "    <tr style=\"text-align: right;\">\n",
       "      <th></th>\n",
       "      <th>Passengers</th>\n",
       "      <th>y_pred</th>\n",
       "    </tr>\n",
       "    <tr>\n",
       "      <th>Months</th>\n",
       "      <th></th>\n",
       "      <th></th>\n",
       "    </tr>\n",
       "  </thead>\n",
       "  <tbody>\n",
       "    <tr>\n",
       "      <th>1949-01-01</th>\n",
       "      <td>112.0</td>\n",
       "      <td>337.0</td>\n",
       "    </tr>\n",
       "    <tr>\n",
       "      <th>1949-02-01</th>\n",
       "      <td>118.0</td>\n",
       "      <td>337.0</td>\n",
       "    </tr>\n",
       "    <tr>\n",
       "      <th>1949-03-01</th>\n",
       "      <td>132.0</td>\n",
       "      <td>337.0</td>\n",
       "    </tr>\n",
       "    <tr>\n",
       "      <th>1949-04-01</th>\n",
       "      <td>129.0</td>\n",
       "      <td>337.0</td>\n",
       "    </tr>\n",
       "    <tr>\n",
       "      <th>1949-05-01</th>\n",
       "      <td>121.0</td>\n",
       "      <td>337.0</td>\n",
       "    </tr>\n",
       "  </tbody>\n",
       "</table>\n",
       "</div>"
      ],
      "text/plain": [
       "            Passengers  y_pred\n",
       "Months                        \n",
       "1949-01-01       112.0   337.0\n",
       "1949-02-01       118.0   337.0\n",
       "1949-03-01       132.0   337.0\n",
       "1949-04-01       129.0   337.0\n",
       "1949-05-01       121.0   337.0"
      ]
     },
     "execution_count": 31,
     "metadata": {},
     "output_type": "execute_result"
    }
   ],
   "source": [
    "train.head()"
   ]
  },
  {
   "cell_type": "markdown",
   "id": "ccc4e7cd",
   "metadata": {},
   "source": [
    "## Exponential Smoothing Technique:"
   ]
  },
  {
   "cell_type": "markdown",
   "id": "52c5b905",
   "metadata": {},
   "source": [
    "### Simple Exponential Smoothing Technique:"
   ]
  },
  {
   "cell_type": "code",
   "execution_count": 32,
   "id": "9d9a7306",
   "metadata": {},
   "outputs": [
    {
     "name": "stderr",
     "output_type": "stream",
     "text": [
      "C:\\Users\\Swati Nikhil Lathiya\\anaconda3\\lib\\site-packages\\statsmodels\\tsa\\base\\tsa_model.py:524: ValueWarning: No frequency information was provided, so inferred frequency MS will be used.\n",
      "  warnings.warn('No frequency information was'\n"
     ]
    },
    {
     "data": {
      "text/plain": [
       "{'smoothing_level': 0.2,\n",
       " 'smoothing_trend': None,\n",
       " 'smoothing_seasonal': None,\n",
       " 'damping_trend': nan,\n",
       " 'initial_level': 112.0,\n",
       " 'initial_trend': nan,\n",
       " 'initial_seasons': array([], dtype=float64),\n",
       " 'use_boxcox': False,\n",
       " 'lamda': None,\n",
       " 'remove_bias': False}"
      ]
     },
     "execution_count": 32,
     "metadata": {},
     "output_type": "execute_result"
    }
   ],
   "source": [
    "from statsmodels.tsa.holtwinters import SimpleExpSmoothing\n",
    "model = SimpleExpSmoothing(train['Passengers'])\n",
    "model_fit = model.fit(smoothing_level=0.2,optimized=False)\n",
    "model_fit.params"
   ]
  },
  {
   "cell_type": "code",
   "execution_count": 33,
   "id": "5fc84680",
   "metadata": {},
   "outputs": [],
   "source": [
    "y_pred_ses = test.copy()\n",
    "y_pred_ses['ses_forecast'] = model_fit.forecast(24)"
   ]
  },
  {
   "cell_type": "code",
   "execution_count": 34,
   "id": "995de817",
   "metadata": {},
   "outputs": [
    {
     "data": {
      "text/html": [
       "<div>\n",
       "<style scoped>\n",
       "    .dataframe tbody tr th:only-of-type {\n",
       "        vertical-align: middle;\n",
       "    }\n",
       "\n",
       "    .dataframe tbody tr th {\n",
       "        vertical-align: top;\n",
       "    }\n",
       "\n",
       "    .dataframe thead th {\n",
       "        text-align: right;\n",
       "    }\n",
       "</style>\n",
       "<table border=\"1\" class=\"dataframe\">\n",
       "  <thead>\n",
       "    <tr style=\"text-align: right;\">\n",
       "      <th></th>\n",
       "      <th>Passengers</th>\n",
       "      <th>ses_forecast</th>\n",
       "    </tr>\n",
       "    <tr>\n",
       "      <th>Months</th>\n",
       "      <th></th>\n",
       "      <th></th>\n",
       "    </tr>\n",
       "  </thead>\n",
       "  <tbody>\n",
       "    <tr>\n",
       "      <th>1959-01-01</th>\n",
       "      <td>360.0</td>\n",
       "      <td>374.897327</td>\n",
       "    </tr>\n",
       "    <tr>\n",
       "      <th>1959-02-01</th>\n",
       "      <td>342.0</td>\n",
       "      <td>374.897327</td>\n",
       "    </tr>\n",
       "    <tr>\n",
       "      <th>1959-03-01</th>\n",
       "      <td>406.0</td>\n",
       "      <td>374.897327</td>\n",
       "    </tr>\n",
       "    <tr>\n",
       "      <th>1959-04-01</th>\n",
       "      <td>396.0</td>\n",
       "      <td>374.897327</td>\n",
       "    </tr>\n",
       "    <tr>\n",
       "      <th>1959-05-01</th>\n",
       "      <td>420.0</td>\n",
       "      <td>374.897327</td>\n",
       "    </tr>\n",
       "    <tr>\n",
       "      <th>1959-06-01</th>\n",
       "      <td>472.0</td>\n",
       "      <td>374.897327</td>\n",
       "    </tr>\n",
       "    <tr>\n",
       "      <th>1959-07-01</th>\n",
       "      <td>548.0</td>\n",
       "      <td>374.897327</td>\n",
       "    </tr>\n",
       "    <tr>\n",
       "      <th>1959-08-01</th>\n",
       "      <td>559.0</td>\n",
       "      <td>374.897327</td>\n",
       "    </tr>\n",
       "    <tr>\n",
       "      <th>1959-09-01</th>\n",
       "      <td>463.0</td>\n",
       "      <td>374.897327</td>\n",
       "    </tr>\n",
       "    <tr>\n",
       "      <th>1959-10-01</th>\n",
       "      <td>407.0</td>\n",
       "      <td>374.897327</td>\n",
       "    </tr>\n",
       "    <tr>\n",
       "      <th>1959-11-01</th>\n",
       "      <td>362.0</td>\n",
       "      <td>374.897327</td>\n",
       "    </tr>\n",
       "    <tr>\n",
       "      <th>1959-12-01</th>\n",
       "      <td>405.0</td>\n",
       "      <td>374.897327</td>\n",
       "    </tr>\n",
       "    <tr>\n",
       "      <th>1960-01-01</th>\n",
       "      <td>417.0</td>\n",
       "      <td>374.897327</td>\n",
       "    </tr>\n",
       "    <tr>\n",
       "      <th>1960-02-01</th>\n",
       "      <td>391.0</td>\n",
       "      <td>374.897327</td>\n",
       "    </tr>\n",
       "    <tr>\n",
       "      <th>1960-03-01</th>\n",
       "      <td>426.0</td>\n",
       "      <td>374.897327</td>\n",
       "    </tr>\n",
       "    <tr>\n",
       "      <th>1960-04-01</th>\n",
       "      <td>461.0</td>\n",
       "      <td>374.897327</td>\n",
       "    </tr>\n",
       "    <tr>\n",
       "      <th>1960-05-01</th>\n",
       "      <td>472.0</td>\n",
       "      <td>374.897327</td>\n",
       "    </tr>\n",
       "    <tr>\n",
       "      <th>1960-06-01</th>\n",
       "      <td>535.0</td>\n",
       "      <td>374.897327</td>\n",
       "    </tr>\n",
       "    <tr>\n",
       "      <th>1960-07-01</th>\n",
       "      <td>622.0</td>\n",
       "      <td>374.897327</td>\n",
       "    </tr>\n",
       "    <tr>\n",
       "      <th>1960-08-01</th>\n",
       "      <td>606.0</td>\n",
       "      <td>374.897327</td>\n",
       "    </tr>\n",
       "    <tr>\n",
       "      <th>1960-09-01</th>\n",
       "      <td>508.0</td>\n",
       "      <td>374.897327</td>\n",
       "    </tr>\n",
       "    <tr>\n",
       "      <th>1960-10-01</th>\n",
       "      <td>461.0</td>\n",
       "      <td>374.897327</td>\n",
       "    </tr>\n",
       "    <tr>\n",
       "      <th>1960-11-01</th>\n",
       "      <td>390.0</td>\n",
       "      <td>374.897327</td>\n",
       "    </tr>\n",
       "    <tr>\n",
       "      <th>1960-12-01</th>\n",
       "      <td>432.0</td>\n",
       "      <td>374.897327</td>\n",
       "    </tr>\n",
       "  </tbody>\n",
       "</table>\n",
       "</div>"
      ],
      "text/plain": [
       "            Passengers  ses_forecast\n",
       "Months                              \n",
       "1959-01-01       360.0    374.897327\n",
       "1959-02-01       342.0    374.897327\n",
       "1959-03-01       406.0    374.897327\n",
       "1959-04-01       396.0    374.897327\n",
       "1959-05-01       420.0    374.897327\n",
       "1959-06-01       472.0    374.897327\n",
       "1959-07-01       548.0    374.897327\n",
       "1959-08-01       559.0    374.897327\n",
       "1959-09-01       463.0    374.897327\n",
       "1959-10-01       407.0    374.897327\n",
       "1959-11-01       362.0    374.897327\n",
       "1959-12-01       405.0    374.897327\n",
       "1960-01-01       417.0    374.897327\n",
       "1960-02-01       391.0    374.897327\n",
       "1960-03-01       426.0    374.897327\n",
       "1960-04-01       461.0    374.897327\n",
       "1960-05-01       472.0    374.897327\n",
       "1960-06-01       535.0    374.897327\n",
       "1960-07-01       622.0    374.897327\n",
       "1960-08-01       606.0    374.897327\n",
       "1960-09-01       508.0    374.897327\n",
       "1960-10-01       461.0    374.897327\n",
       "1960-11-01       390.0    374.897327\n",
       "1960-12-01       432.0    374.897327"
      ]
     },
     "execution_count": 34,
     "metadata": {},
     "output_type": "execute_result"
    }
   ],
   "source": [
    "y_pred_ses"
   ]
  },
  {
   "cell_type": "code",
   "execution_count": 35,
   "id": "20e25ca0",
   "metadata": {},
   "outputs": [
    {
     "data": {
      "image/png": "[encoded data removed]",
      "text/plain": [
       "<Figure size 864x360 with 1 Axes>"
      ]
     },
     "metadata": {
      "needs_background": "light"
     },
     "output_type": "display_data"
    }
   ],
   "source": [
    "plt.figure(figsize=(12,5))\n",
    "plt.plot(train['Passengers'], label='Train')\n",
    "plt.plot(test['Passengers'], label='Test')\n",
    "plt.plot(y_pred_ses['ses_forecast'], label='simple exponential soothing forecast')\n",
    "plt.title('simple exponential smoothing method')\n",
    "plt.legend(loc='best')\n",
    "plt.show()"
   ]
  },
  {
   "cell_type": "markdown",
   "id": "ef403c95",
   "metadata": {},
   "source": [
    "### Calculating RMSE and MAPE:"
   ]
  },
  {
   "cell_type": "code",
   "execution_count": 36,
   "id": "45d5ef08",
   "metadata": {},
   "outputs": [],
   "source": [
    "# RMSE:\n",
    "\n",
    "from sklearn.metrics import mean_squared_error"
   ]
  },
  {
   "cell_type": "code",
   "execution_count": 37,
   "id": "9938981f",
   "metadata": {},
   "outputs": [
    {
     "data": {
      "text/plain": [
       "11587.89179069725"
      ]
     },
     "execution_count": 37,
     "metadata": {},
     "output_type": "execute_result"
    }
   ],
   "source": [
    "mse = mean_squared_error(test['Passengers'],y_pred_ses['ses_forecast'])\n",
    "mse"
   ]
  },
  {
   "cell_type": "code",
   "execution_count": 38,
   "id": "9fcc956f",
   "metadata": {},
   "outputs": [
    {
     "data": {
      "text/plain": [
       "107.64707051609555"
      ]
     },
     "execution_count": 38,
     "metadata": {},
     "output_type": "execute_result"
    }
   ],
   "source": [
    "rmse = np.sqrt(mse)\n",
    "rmse"
   ]
  },
  {
   "cell_type": "code",
   "execution_count": 39,
   "id": "8bdf756b",
   "metadata": {},
   "outputs": [
    {
     "data": {
      "text/plain": [
       "107.65"
      ]
     },
     "execution_count": 39,
     "metadata": {},
     "output_type": "execute_result"
    }
   ],
   "source": [
    "# upto 2 decimal point:\n",
    "\n",
    "rmse = rmse.round(2)\n",
    "rmse"
   ]
  },
  {
   "cell_type": "code",
   "execution_count": 40,
   "id": "9fb82260",
   "metadata": {},
   "outputs": [],
   "source": [
    "# MAPE:\n",
    "\n",
    "error = test['Passengers']-y_pred_ses['ses_forecast']\n",
    "abs_error = np.abs(error)"
   ]
  },
  {
   "cell_type": "code",
   "execution_count": 41,
   "id": "15de1bf1",
   "metadata": {},
   "outputs": [],
   "source": [
    "per_abs_error = (abs_error/test['Passengers'])*100"
   ]
  },
  {
   "cell_type": "code",
   "execution_count": 42,
   "id": "6525cd22",
   "metadata": {},
   "outputs": [
    {
     "data": {
      "text/plain": [
       "16.49"
      ]
     },
     "execution_count": 42,
     "metadata": {},
     "output_type": "execute_result"
    }
   ],
   "source": [
    "mape = np.mean(per_abs_error)\n",
    "mape=np.round(mape,2)\n",
    "mape"
   ]
  },
  {
   "cell_type": "markdown",
   "id": "6a31e705",
   "metadata": {},
   "source": [
    "### Double [Holt's] Exponential Smoothing Technique:"
   ]
  },
  {
   "cell_type": "code",
   "execution_count": 43,
   "id": "d9ecc3d2",
   "metadata": {},
   "outputs": [],
   "source": [
    "from statsmodels.tsa.holtwinters import ExponentialSmoothing"
   ]
  },
  {
   "cell_type": "code",
   "execution_count": 44,
   "id": "d2f404b4",
   "metadata": {},
   "outputs": [],
   "source": [
    "model = ExponentialSmoothing(np.asarray(train['Passengers']), seasonal_periods=12, trend='multiplicative', seasonal=None)"
   ]
  },
  {
   "cell_type": "code",
   "execution_count": 45,
   "id": "012a8370",
   "metadata": {},
   "outputs": [],
   "source": [
    "model = model.fit(smoothing_level=0.2, smoothing_slope=0.01, optimized=False)"
   ]
  },
  {
   "cell_type": "code",
   "execution_count": 46,
   "id": "5ffea0f7",
   "metadata": {},
   "outputs": [
    {
     "data": {
      "text/plain": [
       "{'smoothing_level': 0.2,\n",
       " 'smoothing_trend': 0.01,\n",
       " 'smoothing_seasonal': None,\n",
       " 'damping_trend': nan,\n",
       " 'initial_level': 112.0,\n",
       " 'initial_trend': 1.0535714285714286,\n",
       " 'initial_seasons': array([], dtype=float64),\n",
       " 'use_boxcox': False,\n",
       " 'lamda': None,\n",
       " 'remove_bias': False}"
      ]
     },
     "execution_count": 46,
     "metadata": {},
     "output_type": "execute_result"
    }
   ],
   "source": [
    "model.params"
   ]
  },
  {
   "cell_type": "code",
   "execution_count": 47,
   "id": "067957ce",
   "metadata": {},
   "outputs": [],
   "source": [
    "y_pred = test.copy()\n",
    "y_pred['Hes_forecast']=model.forecast(24)"
   ]
  },
  {
   "cell_type": "code",
   "execution_count": 48,
   "id": "91df389c",
   "metadata": {},
   "outputs": [
    {
     "data": {
      "image/png": "[encoded data removed]",
      "text/plain": [
       "<Figure size 864x360 with 1 Axes>"
      ]
     },
     "metadata": {
      "needs_background": "light"
     },
     "output_type": "display_data"
    }
   ],
   "source": [
    "plt.figure(figsize=(12,5))\n",
    "plt.plot(train['Passengers'], label='Train')\n",
    "plt.plot(test['Passengers'], label='Test')\n",
    "plt.plot(y_pred['Hes_forecast'], label='Holt\\'s exponential smoothing forecast')\n",
    "plt.title('Holt\\'s exponential smoothing method')\n",
    "plt.legend(loc='best')\n",
    "plt.show()"
   ]
  },
  {
   "cell_type": "markdown",
   "id": "00236ad7",
   "metadata": {},
   "source": [
    "### Calculating RMSE and MAPE"
   ]
  },
  {
   "cell_type": "code",
   "execution_count": 49,
   "id": "1be19e47",
   "metadata": {},
   "outputs": [
    {
     "data": {
      "text/plain": [
       "19828.50901002911"
      ]
     },
     "execution_count": 49,
     "metadata": {},
     "output_type": "execute_result"
    }
   ],
   "source": [
    "#RMSE:\n",
    "\n",
    "mse = mean_squared_error(test['Passengers'],y_pred['Hes_forecast'])\n",
    "mse"
   ]
  },
  {
   "cell_type": "code",
   "execution_count": 50,
   "id": "1a4f836a",
   "metadata": {},
   "outputs": [
    {
     "data": {
      "text/plain": [
       "140.81373871192082"
      ]
     },
     "execution_count": 50,
     "metadata": {},
     "output_type": "execute_result"
    }
   ],
   "source": [
    "rmse = np.sqrt(mse)\n",
    "rmse"
   ]
  },
  {
   "cell_type": "code",
   "execution_count": 51,
   "id": "fab9b4db",
   "metadata": {},
   "outputs": [
    {
     "data": {
      "text/plain": [
       "140.81"
      ]
     },
     "execution_count": 51,
     "metadata": {},
     "output_type": "execute_result"
    }
   ],
   "source": [
    "# upto 2 decimal point:\n",
    "\n",
    "rmse = rmse.round(2)\n",
    "rmse"
   ]
  },
  {
   "cell_type": "code",
   "execution_count": 52,
   "id": "6e528abd",
   "metadata": {},
   "outputs": [],
   "source": [
    "# MAPE:\n",
    "\n",
    "error = test['Passengers']-y_pred['Hes_forecast']\n",
    "abs_error = np.abs(error)"
   ]
  },
  {
   "cell_type": "code",
   "execution_count": 53,
   "id": "8b8daa40",
   "metadata": {},
   "outputs": [],
   "source": [
    "per_abs_error = (abs_error/test['Passengers'])*100"
   ]
  },
  {
   "cell_type": "code",
   "execution_count": 54,
   "id": "b4397341",
   "metadata": {},
   "outputs": [
    {
     "data": {
      "text/plain": [
       "27.4"
      ]
     },
     "execution_count": 54,
     "metadata": {},
     "output_type": "execute_result"
    }
   ],
   "source": [
    "mape = np.mean(per_abs_error)\n",
    "mape=np.round(mape,2)\n",
    "mape"
   ]
  },
  {
   "cell_type": "markdown",
   "id": "c1b67be1",
   "metadata": {},
   "source": [
    "### Holt's [triple] Winters Exponential Smoothing Technique:"
   ]
  },
  {
   "cell_type": "code",
   "execution_count": 66,
   "id": "7701f785",
   "metadata": {},
   "outputs": [],
   "source": [
    "model = ExponentialSmoothing(np.asarray(train['Passengers']), seasonal_periods=12, trend='mul', seasonal='mul')"
   ]
  },
  {
   "cell_type": "code",
   "execution_count": 67,
   "id": "21b5d783",
   "metadata": {},
   "outputs": [],
   "source": [
    "model = model.fit(optimized=True)"
   ]
  },
  {
   "cell_type": "code",
   "execution_count": 68,
   "id": "5d743bc3",
   "metadata": {},
   "outputs": [
    {
     "data": {
      "text/plain": [
       "{'smoothing_level': 0.3863531586174843,\n",
       " 'smoothing_trend': 0.0,\n",
       " 'smoothing_seasonal': 0.6136468413825157,\n",
       " 'damping_trend': nan,\n",
       " 'initial_level': 189.17094030071988,\n",
       " 'initial_trend': 1.0096633593581248,\n",
       " 'initial_seasons': array([0.58638569, 0.61947938, 0.68400397, 0.64874643, 0.59489239,\n",
       "        0.65139604, 0.71112217, 0.7069272 , 0.64288001, 0.55712621,\n",
       "        0.49347663, 0.57567432]),\n",
       " 'use_boxcox': False,\n",
       " 'lamda': None,\n",
       " 'remove_bias': False}"
      ]
     },
     "execution_count": 68,
     "metadata": {},
     "output_type": "execute_result"
    }
   ],
   "source": [
    "model.params"
   ]
  },
  {
   "cell_type": "code",
   "execution_count": 69,
   "id": "cf7c34ae",
   "metadata": {},
   "outputs": [],
   "source": [
    "y_pred['Hw_forecast']=model.forecast(24)"
   ]
  },
  {
   "cell_type": "code",
   "execution_count": 70,
   "id": "d588d56d",
   "metadata": {},
   "outputs": [
    {
     "data": {
      "image/png": "[encoded data removed]",
      "text/plain": [
       "<Figure size 864x360 with 1 Axes>"
      ]
     },
     "metadata": {
      "needs_background": "light"
     },
     "output_type": "display_data"
    }
   ],
   "source": [
    "plt.figure(figsize=(12,5))\n",
    "plt.plot(train['Passengers'], label='Train')\n",
    "plt.plot(test['Passengers'], label='Test')\n",
    "plt.plot(y_pred['Hw_forecast'], label='Holt\\'s winters exponential smoothing forecast')\n",
    "plt.title('Holt\\'s winters exponential smoothing method')\n",
    "plt.legend(loc='best')\n",
    "plt.show()"
   ]
  },
  {
   "cell_type": "markdown",
   "id": "dcfb021c",
   "metadata": {},
   "source": [
    "### calculating RMSE and MAPE:"
   ]
  },
  {
   "cell_type": "code",
   "execution_count": 71,
   "id": "3031efca",
   "metadata": {},
   "outputs": [
    {
     "data": {
      "text/plain": [
       "178.51240558841258"
      ]
     },
     "execution_count": 71,
     "metadata": {},
     "output_type": "execute_result"
    }
   ],
   "source": [
    "#RMSE:\n",
    "\n",
    "mse = mean_squared_error(test['Passengers'],y_pred['Hw_forecast'])\n",
    "mse"
   ]
  },
  {
   "cell_type": "code",
   "execution_count": 72,
   "id": "3badd32a",
   "metadata": {},
   "outputs": [
    {
     "data": {
      "text/plain": [
       "13.36085347529912"
      ]
     },
     "execution_count": 72,
     "metadata": {},
     "output_type": "execute_result"
    }
   ],
   "source": [
    "rmse = np.sqrt(mse)\n",
    "rmse"
   ]
  },
  {
   "cell_type": "code",
   "execution_count": 73,
   "id": "fab807e4",
   "metadata": {},
   "outputs": [
    {
     "data": {
      "text/plain": [
       "13.36"
      ]
     },
     "execution_count": 73,
     "metadata": {},
     "output_type": "execute_result"
    }
   ],
   "source": [
    "# upto 2 decimal point:\n",
    "\n",
    "rmse = rmse.round(2)\n",
    "rmse"
   ]
  },
  {
   "cell_type": "code",
   "execution_count": 74,
   "id": "e285aa44",
   "metadata": {},
   "outputs": [],
   "source": [
    "# MAPE:\n",
    "\n",
    "error = test['Passengers']-y_pred['Hw_forecast']\n",
    "abs_error = np.abs(error)"
   ]
  },
  {
   "cell_type": "code",
   "execution_count": 75,
   "id": "cb14ab4f",
   "metadata": {},
   "outputs": [],
   "source": [
    "per_abs_error = (abs_error/test['Passengers'])*100"
   ]
  },
  {
   "cell_type": "code",
   "execution_count": 76,
   "id": "8497f842",
   "metadata": {},
   "outputs": [
    {
     "data": {
      "text/plain": [
       "2.71"
      ]
     },
     "execution_count": 76,
     "metadata": {},
     "output_type": "execute_result"
    }
   ],
   "source": [
    "mape = np.mean(per_abs_error)\n",
    "mape=np.round(mape,2)\n",
    "mape"
   ]
  }
 ],
 "metadata": {
  "kernelspec": {
   "display_name": "Python 3",
   "language": "python",
   "name": "python3"
  },
  "language_info": {
   "codemirror_mode": {
    "name": "ipython",
    "version": 3
   },
   "file_extension": ".py",
   "mimetype": "text/x-python",
   "name": "python",
   "nbconvert_exporter": "python",
   "pygments_lexer": "ipython3",
   "version": "3.8.8"
  }
 },
 "nbformat": 4,
 "nbformat_minor": 5
}
