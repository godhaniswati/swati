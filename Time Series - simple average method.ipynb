{
 "cells": [
  {
   "cell_type": "markdown",
   "id": "84e86e17",
   "metadata": {},
   "source": [
    "# Time Series:"
   ]
  },
  {
   "cell_type": "markdown",
   "id": "a0a87298",
   "metadata": {},
   "source": [
    "## Imorting Libraries:"
   ]
  },
  {
   "cell_type": "code",
   "execution_count": 1,
   "id": "65fc8bbd",
   "metadata": {},
   "outputs": [],
   "source": [
    "import numpy as np\n",
    "import pandas as pd\n",
    "import matplotlib.pyplot as plt\n",
    "import seaborn as sns"
   ]
  },
  {
   "cell_type": "markdown",
   "id": "f44b6413",
   "metadata": {},
   "source": [
    "##  Reading And Understanding Data:"
   ]
  },
  {
   "cell_type": "code",
   "execution_count": 2,
   "id": "18145a91",
   "metadata": {},
   "outputs": [],
   "source": [
    "df = pd.read_csv('airline-passenger-traffic.csv',header=None)"
   ]
  },
  {
   "cell_type": "code",
   "execution_count": 3,
   "id": "418bb0ba",
   "metadata": {},
   "outputs": [
    {
     "data": {
      "text/html": [
       "<div>\n",
       "<style scoped>\n",
       "    .dataframe tbody tr th:only-of-type {\n",
       "        vertical-align: middle;\n",
       "    }\n",
       "\n",
       "    .dataframe tbody tr th {\n",
       "        vertical-align: top;\n",
       "    }\n",
       "\n",
       "    .dataframe thead th {\n",
       "        text-align: right;\n",
       "    }\n",
       "</style>\n",
       "<table border=\"1\" class=\"dataframe\">\n",
       "  <thead>\n",
       "    <tr style=\"text-align: right;\">\n",
       "      <th></th>\n",
       "      <th>0</th>\n",
       "      <th>1</th>\n",
       "    </tr>\n",
       "  </thead>\n",
       "  <tbody>\n",
       "    <tr>\n",
       "      <th>0</th>\n",
       "      <td>1949-01</td>\n",
       "      <td>112.0</td>\n",
       "    </tr>\n",
       "    <tr>\n",
       "      <th>1</th>\n",
       "      <td>1949-02</td>\n",
       "      <td>118.0</td>\n",
       "    </tr>\n",
       "    <tr>\n",
       "      <th>2</th>\n",
       "      <td>1949-03</td>\n",
       "      <td>132.0</td>\n",
       "    </tr>\n",
       "    <tr>\n",
       "      <th>3</th>\n",
       "      <td>1949-04</td>\n",
       "      <td>129.0</td>\n",
       "    </tr>\n",
       "    <tr>\n",
       "      <th>4</th>\n",
       "      <td>1949-05</td>\n",
       "      <td>121.0</td>\n",
       "    </tr>\n",
       "  </tbody>\n",
       "</table>\n",
       "</div>"
      ],
      "text/plain": [
       "         0      1\n",
       "0  1949-01  112.0\n",
       "1  1949-02  118.0\n",
       "2  1949-03  132.0\n",
       "3  1949-04  129.0\n",
       "4  1949-05  121.0"
      ]
     },
     "execution_count": 3,
     "metadata": {},
     "output_type": "execute_result"
    }
   ],
   "source": [
    "df.head()"
   ]
  },
  {
   "cell_type": "code",
   "execution_count": 4,
   "id": "a302d554",
   "metadata": {},
   "outputs": [
    {
     "data": {
      "text/plain": [
       "(144, 2)"
      ]
     },
     "execution_count": 4,
     "metadata": {},
     "output_type": "execute_result"
    }
   ],
   "source": [
    "df.shape"
   ]
  },
  {
   "cell_type": "code",
   "execution_count": 5,
   "id": "5dfb030d",
   "metadata": {},
   "outputs": [
    {
     "data": {
      "text/html": [
       "<div>\n",
       "<style scoped>\n",
       "    .dataframe tbody tr th:only-of-type {\n",
       "        vertical-align: middle;\n",
       "    }\n",
       "\n",
       "    .dataframe tbody tr th {\n",
       "        vertical-align: top;\n",
       "    }\n",
       "\n",
       "    .dataframe thead th {\n",
       "        text-align: right;\n",
       "    }\n",
       "</style>\n",
       "<table border=\"1\" class=\"dataframe\">\n",
       "  <thead>\n",
       "    <tr style=\"text-align: right;\">\n",
       "      <th></th>\n",
       "      <th>1</th>\n",
       "    </tr>\n",
       "  </thead>\n",
       "  <tbody>\n",
       "    <tr>\n",
       "      <th>count</th>\n",
       "      <td>140.000000</td>\n",
       "    </tr>\n",
       "    <tr>\n",
       "      <th>mean</th>\n",
       "      <td>280.735714</td>\n",
       "    </tr>\n",
       "    <tr>\n",
       "      <th>std</th>\n",
       "      <td>120.593235</td>\n",
       "    </tr>\n",
       "    <tr>\n",
       "      <th>min</th>\n",
       "      <td>104.000000</td>\n",
       "    </tr>\n",
       "    <tr>\n",
       "      <th>25%</th>\n",
       "      <td>180.000000</td>\n",
       "    </tr>\n",
       "    <tr>\n",
       "      <th>50%</th>\n",
       "      <td>268.000000</td>\n",
       "    </tr>\n",
       "    <tr>\n",
       "      <th>75%</th>\n",
       "      <td>360.500000</td>\n",
       "    </tr>\n",
       "    <tr>\n",
       "      <th>max</th>\n",
       "      <td>622.000000</td>\n",
       "    </tr>\n",
       "  </tbody>\n",
       "</table>\n",
       "</div>"
      ],
      "text/plain": [
       "                1\n",
       "count  140.000000\n",
       "mean   280.735714\n",
       "std    120.593235\n",
       "min    104.000000\n",
       "25%    180.000000\n",
       "50%    268.000000\n",
       "75%    360.500000\n",
       "max    622.000000"
      ]
     },
     "execution_count": 5,
     "metadata": {},
     "output_type": "execute_result"
    }
   ],
   "source": [
    "df.describe()"
   ]
  },
  {
   "cell_type": "code",
   "execution_count": 6,
   "id": "37b505a9",
   "metadata": {},
   "outputs": [
    {
     "name": "stdout",
     "output_type": "stream",
     "text": [
      "<class 'pandas.core.frame.DataFrame'>\n",
      "RangeIndex: 144 entries, 0 to 143\n",
      "Data columns (total 2 columns):\n",
      " #   Column  Non-Null Count  Dtype  \n",
      "---  ------  --------------  -----  \n",
      " 0   0       144 non-null    object \n",
      " 1   1       140 non-null    float64\n",
      "dtypes: float64(1), object(1)\n",
      "memory usage: 2.4+ KB\n"
     ]
    }
   ],
   "source": [
    "df.info()"
   ]
  },
  {
   "cell_type": "code",
   "execution_count": 7,
   "id": "04a523ba",
   "metadata": {},
   "outputs": [
    {
     "data": {
      "text/plain": [
       "0     object\n",
       "1    float64\n",
       "dtype: object"
      ]
     },
     "execution_count": 7,
     "metadata": {},
     "output_type": "execute_result"
    }
   ],
   "source": [
    "df.dtypes"
   ]
  },
  {
   "cell_type": "code",
   "execution_count": 8,
   "id": "99bbd9c4",
   "metadata": {},
   "outputs": [],
   "source": [
    "df.columns = ['Months','Passengers']"
   ]
  },
  {
   "cell_type": "code",
   "execution_count": 9,
   "id": "6769e054",
   "metadata": {},
   "outputs": [
    {
     "data": {
      "text/html": [
       "<div>\n",
       "<style scoped>\n",
       "    .dataframe tbody tr th:only-of-type {\n",
       "        vertical-align: middle;\n",
       "    }\n",
       "\n",
       "    .dataframe tbody tr th {\n",
       "        vertical-align: top;\n",
       "    }\n",
       "\n",
       "    .dataframe thead th {\n",
       "        text-align: right;\n",
       "    }\n",
       "</style>\n",
       "<table border=\"1\" class=\"dataframe\">\n",
       "  <thead>\n",
       "    <tr style=\"text-align: right;\">\n",
       "      <th></th>\n",
       "      <th>Months</th>\n",
       "      <th>Passengers</th>\n",
       "    </tr>\n",
       "  </thead>\n",
       "  <tbody>\n",
       "    <tr>\n",
       "      <th>0</th>\n",
       "      <td>1949-01</td>\n",
       "      <td>112.0</td>\n",
       "    </tr>\n",
       "    <tr>\n",
       "      <th>1</th>\n",
       "      <td>1949-02</td>\n",
       "      <td>118.0</td>\n",
       "    </tr>\n",
       "    <tr>\n",
       "      <th>2</th>\n",
       "      <td>1949-03</td>\n",
       "      <td>132.0</td>\n",
       "    </tr>\n",
       "    <tr>\n",
       "      <th>3</th>\n",
       "      <td>1949-04</td>\n",
       "      <td>129.0</td>\n",
       "    </tr>\n",
       "    <tr>\n",
       "      <th>4</th>\n",
       "      <td>1949-05</td>\n",
       "      <td>121.0</td>\n",
       "    </tr>\n",
       "  </tbody>\n",
       "</table>\n",
       "</div>"
      ],
      "text/plain": [
       "    Months  Passengers\n",
       "0  1949-01       112.0\n",
       "1  1949-02       118.0\n",
       "2  1949-03       132.0\n",
       "3  1949-04       129.0\n",
       "4  1949-05       121.0"
      ]
     },
     "execution_count": 9,
     "metadata": {},
     "output_type": "execute_result"
    }
   ],
   "source": [
    "df.head()"
   ]
  },
  {
   "cell_type": "markdown",
   "id": "4a93f1c2",
   "metadata": {},
   "source": [
    "## Converting into date time series:"
   ]
  },
  {
   "cell_type": "code",
   "execution_count": 10,
   "id": "cd3c1b5b",
   "metadata": {},
   "outputs": [],
   "source": [
    "df['Months'] = pd.to_datetime(df['Months'],format='%Y-%m')"
   ]
  },
  {
   "cell_type": "code",
   "execution_count": 11,
   "id": "c1c7937b",
   "metadata": {},
   "outputs": [
    {
     "data": {
      "text/html": [
       "<div>\n",
       "<style scoped>\n",
       "    .dataframe tbody tr th:only-of-type {\n",
       "        vertical-align: middle;\n",
       "    }\n",
       "\n",
       "    .dataframe tbody tr th {\n",
       "        vertical-align: top;\n",
       "    }\n",
       "\n",
       "    .dataframe thead th {\n",
       "        text-align: right;\n",
       "    }\n",
       "</style>\n",
       "<table border=\"1\" class=\"dataframe\">\n",
       "  <thead>\n",
       "    <tr style=\"text-align: right;\">\n",
       "      <th></th>\n",
       "      <th>Months</th>\n",
       "      <th>Passengers</th>\n",
       "    </tr>\n",
       "  </thead>\n",
       "  <tbody>\n",
       "    <tr>\n",
       "      <th>0</th>\n",
       "      <td>1949-01-01</td>\n",
       "      <td>112.0</td>\n",
       "    </tr>\n",
       "    <tr>\n",
       "      <th>1</th>\n",
       "      <td>1949-02-01</td>\n",
       "      <td>118.0</td>\n",
       "    </tr>\n",
       "    <tr>\n",
       "      <th>2</th>\n",
       "      <td>1949-03-01</td>\n",
       "      <td>132.0</td>\n",
       "    </tr>\n",
       "    <tr>\n",
       "      <th>3</th>\n",
       "      <td>1949-04-01</td>\n",
       "      <td>129.0</td>\n",
       "    </tr>\n",
       "    <tr>\n",
       "      <th>4</th>\n",
       "      <td>1949-05-01</td>\n",
       "      <td>121.0</td>\n",
       "    </tr>\n",
       "  </tbody>\n",
       "</table>\n",
       "</div>"
      ],
      "text/plain": [
       "      Months  Passengers\n",
       "0 1949-01-01       112.0\n",
       "1 1949-02-01       118.0\n",
       "2 1949-03-01       132.0\n",
       "3 1949-04-01       129.0\n",
       "4 1949-05-01       121.0"
      ]
     },
     "execution_count": 11,
     "metadata": {},
     "output_type": "execute_result"
    }
   ],
   "source": [
    "df.head()"
   ]
  },
  {
   "cell_type": "code",
   "execution_count": 12,
   "id": "afb25c9a",
   "metadata": {},
   "outputs": [
    {
     "data": {
      "text/plain": [
       "Months        datetime64[ns]\n",
       "Passengers           float64\n",
       "dtype: object"
      ]
     },
     "execution_count": 12,
     "metadata": {},
     "output_type": "execute_result"
    }
   ],
   "source": [
    "df.dtypes"
   ]
  },
  {
   "cell_type": "code",
   "execution_count": 13,
   "id": "239d10f6",
   "metadata": {},
   "outputs": [],
   "source": [
    "df = df.set_index('Months')"
   ]
  },
  {
   "cell_type": "code",
   "execution_count": 14,
   "id": "b02fda33",
   "metadata": {},
   "outputs": [
    {
     "data": {
      "text/html": [
       "<div>\n",
       "<style scoped>\n",
       "    .dataframe tbody tr th:only-of-type {\n",
       "        vertical-align: middle;\n",
       "    }\n",
       "\n",
       "    .dataframe tbody tr th {\n",
       "        vertical-align: top;\n",
       "    }\n",
       "\n",
       "    .dataframe thead th {\n",
       "        text-align: right;\n",
       "    }\n",
       "</style>\n",
       "<table border=\"1\" class=\"dataframe\">\n",
       "  <thead>\n",
       "    <tr style=\"text-align: right;\">\n",
       "      <th></th>\n",
       "      <th>Passengers</th>\n",
       "    </tr>\n",
       "    <tr>\n",
       "      <th>Months</th>\n",
       "      <th></th>\n",
       "    </tr>\n",
       "  </thead>\n",
       "  <tbody>\n",
       "    <tr>\n",
       "      <th>1949-01-01</th>\n",
       "      <td>112.0</td>\n",
       "    </tr>\n",
       "    <tr>\n",
       "      <th>1949-02-01</th>\n",
       "      <td>118.0</td>\n",
       "    </tr>\n",
       "    <tr>\n",
       "      <th>1949-03-01</th>\n",
       "      <td>132.0</td>\n",
       "    </tr>\n",
       "    <tr>\n",
       "      <th>1949-04-01</th>\n",
       "      <td>129.0</td>\n",
       "    </tr>\n",
       "    <tr>\n",
       "      <th>1949-05-01</th>\n",
       "      <td>121.0</td>\n",
       "    </tr>\n",
       "  </tbody>\n",
       "</table>\n",
       "</div>"
      ],
      "text/plain": [
       "            Passengers\n",
       "Months                \n",
       "1949-01-01       112.0\n",
       "1949-02-01       118.0\n",
       "1949-03-01       132.0\n",
       "1949-04-01       129.0\n",
       "1949-05-01       121.0"
      ]
     },
     "execution_count": 14,
     "metadata": {},
     "output_type": "execute_result"
    }
   ],
   "source": [
    "df.head()"
   ]
  },
  {
   "cell_type": "markdown",
   "id": "75327999",
   "metadata": {},
   "source": [
    "## Time Series Analysis:"
   ]
  },
  {
   "cell_type": "code",
   "execution_count": 15,
   "id": "e478de0a",
   "metadata": {},
   "outputs": [
    {
     "data": {
      "image/png": "[encoded data removed]",
      "text/plain": [
       "<Figure size 720x360 with 1 Axes>"
      ]
     },
     "metadata": {
      "needs_background": "light"
     },
     "output_type": "display_data"
    }
   ],
   "source": [
    "# plottig time series data:\n",
    "\n",
    "df.plot(figsize=(10,5))\n",
    "plt.title('Airline Passenger Traffic')\n",
    "plt.show()"
   ]
  },
  {
   "cell_type": "markdown",
   "id": "d63a0c97",
   "metadata": {},
   "source": [
    "## Missing Value Treatment:"
   ]
  },
  {
   "cell_type": "code",
   "execution_count": 16,
   "id": "4a8be1c4",
   "metadata": {},
   "outputs": [],
   "source": [
    "# treating missing value with linear interpolation:"
   ]
  },
  {
   "cell_type": "code",
   "execution_count": 17,
   "id": "ea599a74",
   "metadata": {},
   "outputs": [],
   "source": [
    "df1 = pd.read_csv('airline-passenger-traffic.csv',header=None)\n",
    "df1.columns = ['Months','Passengers']\n"
   ]
  },
  {
   "cell_type": "code",
   "execution_count": 18,
   "id": "d6fc3913",
   "metadata": {},
   "outputs": [
    {
     "data": {
      "text/plain": [
       "Months         object\n",
       "Passengers    float64\n",
       "dtype: object"
      ]
     },
     "execution_count": 18,
     "metadata": {},
     "output_type": "execute_result"
    }
   ],
   "source": [
    "df1.dtypes"
   ]
  },
  {
   "cell_type": "code",
   "execution_count": 19,
   "id": "60d8d1a2",
   "metadata": {},
   "outputs": [],
   "source": [
    "# changing format of dtypes\n",
    "\n",
    "df1['Months'] = pd.to_datetime(df1['Months'],format='%Y-%m')"
   ]
  },
  {
   "cell_type": "code",
   "execution_count": 20,
   "id": "36ce2bd9",
   "metadata": {},
   "outputs": [
    {
     "data": {
      "text/plain": [
       "Months        datetime64[ns]\n",
       "Passengers           float64\n",
       "dtype: object"
      ]
     },
     "execution_count": 20,
     "metadata": {},
     "output_type": "execute_result"
    }
   ],
   "source": [
    "df1.dtypes"
   ]
  },
  {
   "cell_type": "code",
   "execution_count": 21,
   "id": "90c255e5",
   "metadata": {},
   "outputs": [],
   "source": [
    "df1 = df1.set_index(['Months'])"
   ]
  },
  {
   "cell_type": "code",
   "execution_count": 22,
   "id": "a63ab42d",
   "metadata": {},
   "outputs": [
    {
     "data": {
      "text/html": [
       "<div>\n",
       "<style scoped>\n",
       "    .dataframe tbody tr th:only-of-type {\n",
       "        vertical-align: middle;\n",
       "    }\n",
       "\n",
       "    .dataframe tbody tr th {\n",
       "        vertical-align: top;\n",
       "    }\n",
       "\n",
       "    .dataframe thead th {\n",
       "        text-align: right;\n",
       "    }\n",
       "</style>\n",
       "<table border=\"1\" class=\"dataframe\">\n",
       "  <thead>\n",
       "    <tr style=\"text-align: right;\">\n",
       "      <th></th>\n",
       "      <th>Passengers</th>\n",
       "    </tr>\n",
       "    <tr>\n",
       "      <th>Months</th>\n",
       "      <th></th>\n",
       "    </tr>\n",
       "  </thead>\n",
       "  <tbody>\n",
       "    <tr>\n",
       "      <th>1949-01-01</th>\n",
       "      <td>112.0</td>\n",
       "    </tr>\n",
       "    <tr>\n",
       "      <th>1949-02-01</th>\n",
       "      <td>118.0</td>\n",
       "    </tr>\n",
       "    <tr>\n",
       "      <th>1949-03-01</th>\n",
       "      <td>132.0</td>\n",
       "    </tr>\n",
       "    <tr>\n",
       "      <th>1949-04-01</th>\n",
       "      <td>129.0</td>\n",
       "    </tr>\n",
       "    <tr>\n",
       "      <th>1949-05-01</th>\n",
       "      <td>121.0</td>\n",
       "    </tr>\n",
       "  </tbody>\n",
       "</table>\n",
       "</div>"
      ],
      "text/plain": [
       "            Passengers\n",
       "Months                \n",
       "1949-01-01       112.0\n",
       "1949-02-01       118.0\n",
       "1949-03-01       132.0\n",
       "1949-04-01       129.0\n",
       "1949-05-01       121.0"
      ]
     },
     "execution_count": 22,
     "metadata": {},
     "output_type": "execute_result"
    }
   ],
   "source": [
    "df1.head()"
   ]
  },
  {
   "cell_type": "code",
   "execution_count": 23,
   "id": "c1a83430",
   "metadata": {
    "scrolled": true
   },
   "outputs": [
    {
     "data": {
      "image/png": "[encoded data removed]",
      "text/plain": [
       "<Figure size 720x360 with 1 Axes>"
      ]
     },
     "metadata": {
      "needs_background": "light"
     },
     "output_type": "display_data"
    }
   ],
   "source": [
    "df1.plot(figsize=(10,5))\n",
    "plt.title('airline-passenger-traffic treated with linear interpolation')\n",
    "plt.show()"
   ]
  },
  {
   "cell_type": "code",
   "execution_count": 24,
   "id": "38ec353c",
   "metadata": {},
   "outputs": [
    {
     "data": {
      "text/plain": [
       "Passengers    4\n",
       "dtype: int64"
      ]
     },
     "execution_count": 24,
     "metadata": {},
     "output_type": "execute_result"
    }
   ],
   "source": [
    "df1.isnull().sum()"
   ]
  },
  {
   "cell_type": "code",
   "execution_count": 25,
   "id": "e5aa1746",
   "metadata": {},
   "outputs": [],
   "source": [
    "df1['Passengers'].fillna(df1['Passengers'].interpolate(method='linear'),inplace=True)"
   ]
  },
  {
   "cell_type": "code",
   "execution_count": 26,
   "id": "85edd5a0",
   "metadata": {},
   "outputs": [
    {
     "data": {
      "text/plain": [
       "Passengers    0\n",
       "dtype: int64"
      ]
     },
     "execution_count": 26,
     "metadata": {},
     "output_type": "execute_result"
    }
   ],
   "source": [
    "df1.isnull().sum()"
   ]
  },
  {
   "cell_type": "code",
   "execution_count": 27,
   "id": "fbbb437d",
   "metadata": {},
   "outputs": [
    {
     "data": {
      "image/png": "[encoded data removed]",
      "text/plain": [
       "<Figure size 720x360 with 1 Axes>"
      ]
     },
     "metadata": {
      "needs_background": "light"
     },
     "output_type": "display_data"
    }
   ],
   "source": [
    "df1.plot(figsize=(10,5))\n",
    "plt.title('airline-passenger-traffic treated with linear interpolation')\n",
    "plt.show()"
   ]
  },
  {
   "cell_type": "markdown",
   "id": "e04b45db",
   "metadata": {},
   "source": [
    "## Outliers detection:"
   ]
  },
  {
   "cell_type": "code",
   "execution_count": 28,
   "id": "92b78cbe",
   "metadata": {},
   "outputs": [
    {
     "data": {
      "image/png": "[encoded data removed]",
      "text/plain": [
       "<Figure size 720x360 with 1 Axes>"
      ]
     },
     "metadata": {
      "needs_background": "light"
     },
     "output_type": "display_data"
    }
   ],
   "source": [
    "# boxplot:\n",
    "\n",
    "plot=plt.subplots(figsize=(10,5))\n",
    "box_plot = sns.boxplot(x=df['Passengers'],whis=1.5)"
   ]
  },
  {
   "cell_type": "markdown",
   "id": "c3bac3fa",
   "metadata": {},
   "source": [
    "## Time Series Decomposition:"
   ]
  },
  {
   "cell_type": "code",
   "execution_count": 29,
   "id": "f573da82",
   "metadata": {},
   "outputs": [],
   "source": [
    "# additive:"
   ]
  },
  {
   "cell_type": "code",
   "execution_count": 30,
   "id": "ab0c7f5e",
   "metadata": {},
   "outputs": [],
   "source": [
    "from statsmodels.api import tsa"
   ]
  },
  {
   "cell_type": "code",
   "execution_count": 31,
   "id": "1ad76155",
   "metadata": {},
   "outputs": [
    {
     "data": {
      "text/plain": [
       "<Figure size 720x360 with 0 Axes>"
      ]
     },
     "metadata": {},
     "output_type": "display_data"
    },
    {
     "data": {
      "image/png": "[encoded data removed]",
      "text/plain": [
       "<Figure size 432x288 with 4 Axes>"
      ]
     },
     "metadata": {
      "needs_background": "light"
     },
     "output_type": "display_data"
    }
   ],
   "source": [
    "plt.figure(figsize=(10,5))\n",
    "dc = tsa.seasonal_decompose(df1['Passengers'], model='additive')\n",
    "dc.plot()\n",
    "plt.show()"
   ]
  },
  {
   "cell_type": "code",
   "execution_count": 32,
   "id": "e06f593e",
   "metadata": {},
   "outputs": [
    {
     "data": {
      "image/png": "[encoded data removed]",
      "text/plain": [
       "<Figure size 432x288 with 4 Axes>"
      ]
     },
     "metadata": {
      "needs_background": "light"
     },
     "output_type": "display_data"
    }
   ],
   "source": [
    "# multiplicative:\n",
    "\n",
    "dc = tsa.seasonal_decompose(df1['Passengers'],model= 'multplicative')\n",
    "dc.plot()\n",
    "plt.show()"
   ]
  },
  {
   "cell_type": "markdown",
   "id": "6e6d05d7",
   "metadata": {},
   "source": [
    "## splitting time series:"
   ]
  },
  {
   "cell_type": "code",
   "execution_count": 33,
   "id": "553b1571",
   "metadata": {},
   "outputs": [],
   "source": [
    "train_len = 120\n",
    "train = df1[0:train_len]\n",
    "test=df1[train_len:]"
   ]
  },
  {
   "cell_type": "markdown",
   "id": "9c4515a9",
   "metadata": {},
   "source": [
    "## using naive method:"
   ]
  },
  {
   "cell_type": "code",
   "execution_count": 34,
   "id": "f63285b8",
   "metadata": {},
   "outputs": [
    {
     "data": {
      "text/plain": [
       "337.0"
      ]
     },
     "execution_count": 34,
     "metadata": {},
     "output_type": "execute_result"
    }
   ],
   "source": [
    "y_pred = train['Passengers'][train_len-1]\n",
    "y_pred"
   ]
  },
  {
   "cell_type": "code",
   "execution_count": 35,
   "id": "b3d7d299",
   "metadata": {},
   "outputs": [
    {
     "name": "stderr",
     "output_type": "stream",
     "text": [
      "<ipython-input-35-007e46b39462>:3: SettingWithCopyWarning: \n",
      "A value is trying to be set on a copy of a slice from a DataFrame.\n",
      "Try using .loc[row_indexer,col_indexer] = value instead\n",
      "\n",
      "See the caveats in the documentation: https://pandas.pydata.org/pandas-docs/stable/user_guide/indexing.html#returning-a-view-versus-a-copy\n",
      "  train['y_pred']=y_pred\n"
     ]
    }
   ],
   "source": [
    "# adding new column to df1 set:\n",
    "\n",
    "train['y_pred']=y_pred"
   ]
  },
  {
   "cell_type": "code",
   "execution_count": 36,
   "id": "13c458f4",
   "metadata": {},
   "outputs": [
    {
     "data": {
      "text/html": [
       "<div>\n",
       "<style scoped>\n",
       "    .dataframe tbody tr th:only-of-type {\n",
       "        vertical-align: middle;\n",
       "    }\n",
       "\n",
       "    .dataframe tbody tr th {\n",
       "        vertical-align: top;\n",
       "    }\n",
       "\n",
       "    .dataframe thead th {\n",
       "        text-align: right;\n",
       "    }\n",
       "</style>\n",
       "<table border=\"1\" class=\"dataframe\">\n",
       "  <thead>\n",
       "    <tr style=\"text-align: right;\">\n",
       "      <th></th>\n",
       "      <th>Passengers</th>\n",
       "      <th>y_pred</th>\n",
       "    </tr>\n",
       "    <tr>\n",
       "      <th>Months</th>\n",
       "      <th></th>\n",
       "      <th></th>\n",
       "    </tr>\n",
       "  </thead>\n",
       "  <tbody>\n",
       "    <tr>\n",
       "      <th>1949-01-01</th>\n",
       "      <td>112.0</td>\n",
       "      <td>337.0</td>\n",
       "    </tr>\n",
       "    <tr>\n",
       "      <th>1949-02-01</th>\n",
       "      <td>118.0</td>\n",
       "      <td>337.0</td>\n",
       "    </tr>\n",
       "    <tr>\n",
       "      <th>1949-03-01</th>\n",
       "      <td>132.0</td>\n",
       "      <td>337.0</td>\n",
       "    </tr>\n",
       "    <tr>\n",
       "      <th>1949-04-01</th>\n",
       "      <td>129.0</td>\n",
       "      <td>337.0</td>\n",
       "    </tr>\n",
       "    <tr>\n",
       "      <th>1949-05-01</th>\n",
       "      <td>121.0</td>\n",
       "      <td>337.0</td>\n",
       "    </tr>\n",
       "  </tbody>\n",
       "</table>\n",
       "</div>"
      ],
      "text/plain": [
       "            Passengers  y_pred\n",
       "Months                        \n",
       "1949-01-01       112.0   337.0\n",
       "1949-02-01       118.0   337.0\n",
       "1949-03-01       132.0   337.0\n",
       "1949-04-01       129.0   337.0\n",
       "1949-05-01       121.0   337.0"
      ]
     },
     "execution_count": 36,
     "metadata": {},
     "output_type": "execute_result"
    }
   ],
   "source": [
    "train.head()"
   ]
  },
  {
   "cell_type": "markdown",
   "id": "27d0412e",
   "metadata": {},
   "source": [
    "# calculating RMSE and MAPE:"
   ]
  },
  {
   "cell_type": "code",
   "execution_count": 37,
   "id": "1f7ff76b",
   "metadata": {},
   "outputs": [
    {
     "data": {
      "text/plain": [
       "17245.341666666667"
      ]
     },
     "execution_count": 37,
     "metadata": {},
     "output_type": "execute_result"
    }
   ],
   "source": [
    "# RMSE:\n",
    "\n",
    "from sklearn.metrics import mean_squared_error\n",
    "mse = mean_squared_error(train['Passengers'],train['y_pred'])\n",
    "mse"
   ]
  },
  {
   "cell_type": "code",
   "execution_count": 38,
   "id": "bc087143",
   "metadata": {},
   "outputs": [
    {
     "data": {
      "text/plain": [
       "131.32152019629785"
      ]
     },
     "execution_count": 38,
     "metadata": {},
     "output_type": "execute_result"
    }
   ],
   "source": [
    "rmse = np.sqrt(mse)\n",
    "rmse"
   ]
  },
  {
   "cell_type": "code",
   "execution_count": 39,
   "id": "fd9c54af",
   "metadata": {},
   "outputs": [
    {
     "data": {
      "text/plain": [
       "131.32"
      ]
     },
     "execution_count": 39,
     "metadata": {},
     "output_type": "execute_result"
    }
   ],
   "source": [
    "# upto 2 decimal point:\n",
    "\n",
    "rmse = rmse.round(2)\n",
    "rmse"
   ]
  },
  {
   "cell_type": "code",
   "execution_count": 40,
   "id": "f3dccd71",
   "metadata": {},
   "outputs": [],
   "source": [
    "# MAPE:\n",
    "\n",
    "error = train['Passengers']-train['y_pred']\n",
    "abs_error = np.abs(error)"
   ]
  },
  {
   "cell_type": "code",
   "execution_count": 41,
   "id": "efd40aaf",
   "metadata": {},
   "outputs": [],
   "source": [
    "per_abs_error = (abs_error/train['Passengers'])*100"
   ]
  },
  {
   "cell_type": "code",
   "execution_count": 42,
   "id": "0fb59e8d",
   "metadata": {},
   "outputs": [
    {
     "data": {
      "text/plain": [
       "64.26"
      ]
     },
     "execution_count": 42,
     "metadata": {},
     "output_type": "execute_result"
    }
   ],
   "source": [
    "mape = np.mean(per_abs_error)\n",
    "mape=np.round(mape,2)\n",
    "mape"
   ]
  },
  {
   "cell_type": "markdown",
   "id": "abfdd768",
   "metadata": {},
   "source": [
    "## simple average method:"
   ]
  },
  {
   "cell_type": "code",
   "execution_count": 43,
   "id": "d8499609",
   "metadata": {},
   "outputs": [
    {
     "name": "stderr",
     "output_type": "stream",
     "text": [
      "<ipython-input-43-de08b13af8df>:1: SettingWithCopyWarning: \n",
      "A value is trying to be set on a copy of a slice from a DataFrame.\n",
      "Try using .loc[row_indexer,col_indexer] = value instead\n",
      "\n",
      "See the caveats in the documentation: https://pandas.pydata.org/pandas-docs/stable/user_guide/indexing.html#returning-a-view-versus-a-copy\n",
      "  train['y_pred_sa'] = train['Passengers'].mean()\n"
     ]
    },
    {
     "data": {
      "text/plain": [
       "Months\n",
       "1949-01-01    245.891667\n",
       "1949-02-01    245.891667\n",
       "1949-03-01    245.891667\n",
       "1949-04-01    245.891667\n",
       "1949-05-01    245.891667\n",
       "                 ...    \n",
       "1958-08-01    245.891667\n",
       "1958-09-01    245.891667\n",
       "1958-10-01    245.891667\n",
       "1958-11-01    245.891667\n",
       "1958-12-01    245.891667\n",
       "Name: y_pred_sa, Length: 120, dtype: float64"
      ]
     },
     "execution_count": 43,
     "metadata": {},
     "output_type": "execute_result"
    }
   ],
   "source": [
    "train['y_pred_sa'] = train['Passengers'].mean()\n",
    "train['y_pred_sa']"
   ]
  },
  {
   "cell_type": "markdown",
   "id": "b70efac2",
   "metadata": {},
   "source": [
    "## Simplpe moving averge method:"
   ]
  },
  {
   "cell_type": "code",
   "execution_count": 44,
   "id": "ce5d24fe",
   "metadata": {},
   "outputs": [],
   "source": [
    "# predicted rolling window:\n",
    "\n",
    "ma_window = 12"
   ]
  },
  {
   "cell_type": "code",
   "execution_count": 45,
   "id": "9a646a0b",
   "metadata": {},
   "outputs": [
    {
     "name": "stderr",
     "output_type": "stream",
     "text": [
      "<ipython-input-45-c65be43ec1ff>:3: SettingWithCopyWarning: \n",
      "A value is trying to be set on a copy of a slice from a DataFrame.\n",
      "Try using .loc[row_indexer,col_indexer] = value instead\n",
      "\n",
      "See the caveats in the documentation: https://pandas.pydata.org/pandas-docs/stable/user_guide/indexing.html#returning-a-view-versus-a-copy\n",
      "  train['y_pred_sma'] = train['Passengers'].rolling(ma_window).mean()\n"
     ]
    }
   ],
   "source": [
    "# calculating:\n",
    "\n",
    "train['y_pred_sma'] = train['Passengers'].rolling(ma_window).mean()"
   ]
  },
  {
   "cell_type": "code",
   "execution_count": 46,
   "id": "f2be77d4",
   "metadata": {},
   "outputs": [
    {
     "data": {
      "text/plain": [
       "Months\n",
       "1949-01-01           NaN\n",
       "1949-02-01           NaN\n",
       "1949-03-01           NaN\n",
       "1949-04-01           NaN\n",
       "1949-05-01           NaN\n",
       "                 ...    \n",
       "1958-08-01    379.500000\n",
       "1958-09-01    379.500000\n",
       "1958-10-01    380.500000\n",
       "1958-11-01    380.916667\n",
       "1958-12-01    381.000000\n",
       "Name: y_pred_sma, Length: 120, dtype: float64"
      ]
     },
     "execution_count": 46,
     "metadata": {},
     "output_type": "execute_result"
    }
   ],
   "source": [
    "train['y_pred_sma']"
   ]
  },
  {
   "cell_type": "code",
   "execution_count": 47,
   "id": "3b13f736",
   "metadata": {},
   "outputs": [
    {
     "data": {
      "text/html": [
       "<div>\n",
       "<style scoped>\n",
       "    .dataframe tbody tr th:only-of-type {\n",
       "        vertical-align: middle;\n",
       "    }\n",
       "\n",
       "    .dataframe tbody tr th {\n",
       "        vertical-align: top;\n",
       "    }\n",
       "\n",
       "    .dataframe thead th {\n",
       "        text-align: right;\n",
       "    }\n",
       "</style>\n",
       "<table border=\"1\" class=\"dataframe\">\n",
       "  <thead>\n",
       "    <tr style=\"text-align: right;\">\n",
       "      <th></th>\n",
       "      <th>Passengers</th>\n",
       "      <th>y_pred</th>\n",
       "      <th>y_pred_sa</th>\n",
       "      <th>y_pred_sma</th>\n",
       "    </tr>\n",
       "    <tr>\n",
       "      <th>Months</th>\n",
       "      <th></th>\n",
       "      <th></th>\n",
       "      <th></th>\n",
       "      <th></th>\n",
       "    </tr>\n",
       "  </thead>\n",
       "  <tbody>\n",
       "    <tr>\n",
       "      <th>1949-01-01</th>\n",
       "      <td>112.0</td>\n",
       "      <td>337.0</td>\n",
       "      <td>245.891667</td>\n",
       "      <td>NaN</td>\n",
       "    </tr>\n",
       "    <tr>\n",
       "      <th>1949-02-01</th>\n",
       "      <td>118.0</td>\n",
       "      <td>337.0</td>\n",
       "      <td>245.891667</td>\n",
       "      <td>NaN</td>\n",
       "    </tr>\n",
       "    <tr>\n",
       "      <th>1949-03-01</th>\n",
       "      <td>132.0</td>\n",
       "      <td>337.0</td>\n",
       "      <td>245.891667</td>\n",
       "      <td>NaN</td>\n",
       "    </tr>\n",
       "    <tr>\n",
       "      <th>1949-04-01</th>\n",
       "      <td>129.0</td>\n",
       "      <td>337.0</td>\n",
       "      <td>245.891667</td>\n",
       "      <td>NaN</td>\n",
       "    </tr>\n",
       "    <tr>\n",
       "      <th>1949-05-01</th>\n",
       "      <td>121.0</td>\n",
       "      <td>337.0</td>\n",
       "      <td>245.891667</td>\n",
       "      <td>NaN</td>\n",
       "    </tr>\n",
       "    <tr>\n",
       "      <th>...</th>\n",
       "      <td>...</td>\n",
       "      <td>...</td>\n",
       "      <td>...</td>\n",
       "      <td>...</td>\n",
       "    </tr>\n",
       "    <tr>\n",
       "      <th>1958-08-01</th>\n",
       "      <td>505.0</td>\n",
       "      <td>337.0</td>\n",
       "      <td>245.891667</td>\n",
       "      <td>379.500000</td>\n",
       "    </tr>\n",
       "    <tr>\n",
       "      <th>1958-09-01</th>\n",
       "      <td>404.0</td>\n",
       "      <td>337.0</td>\n",
       "      <td>245.891667</td>\n",
       "      <td>379.500000</td>\n",
       "    </tr>\n",
       "    <tr>\n",
       "      <th>1958-10-01</th>\n",
       "      <td>359.0</td>\n",
       "      <td>337.0</td>\n",
       "      <td>245.891667</td>\n",
       "      <td>380.500000</td>\n",
       "    </tr>\n",
       "    <tr>\n",
       "      <th>1958-11-01</th>\n",
       "      <td>310.0</td>\n",
       "      <td>337.0</td>\n",
       "      <td>245.891667</td>\n",
       "      <td>380.916667</td>\n",
       "    </tr>\n",
       "    <tr>\n",
       "      <th>1958-12-01</th>\n",
       "      <td>337.0</td>\n",
       "      <td>337.0</td>\n",
       "      <td>245.891667</td>\n",
       "      <td>381.000000</td>\n",
       "    </tr>\n",
       "  </tbody>\n",
       "</table>\n",
       "<p>120 rows × 4 columns</p>\n",
       "</div>"
      ],
      "text/plain": [
       "            Passengers  y_pred   y_pred_sa  y_pred_sma\n",
       "Months                                                \n",
       "1949-01-01       112.0   337.0  245.891667         NaN\n",
       "1949-02-01       118.0   337.0  245.891667         NaN\n",
       "1949-03-01       132.0   337.0  245.891667         NaN\n",
       "1949-04-01       129.0   337.0  245.891667         NaN\n",
       "1949-05-01       121.0   337.0  245.891667         NaN\n",
       "...                ...     ...         ...         ...\n",
       "1958-08-01       505.0   337.0  245.891667  379.500000\n",
       "1958-09-01       404.0   337.0  245.891667  379.500000\n",
       "1958-10-01       359.0   337.0  245.891667  380.500000\n",
       "1958-11-01       310.0   337.0  245.891667  380.916667\n",
       "1958-12-01       337.0   337.0  245.891667  381.000000\n",
       "\n",
       "[120 rows x 4 columns]"
      ]
     },
     "execution_count": 47,
     "metadata": {},
     "output_type": "execute_result"
    }
   ],
   "source": [
    "train"
   ]
  },
  {
   "cell_type": "code",
   "execution_count": null,
   "id": "226bec42",
   "metadata": {},
   "outputs": [],
   "source": []
  }
 ],
 "metadata": {
  "kernelspec": {
   "display_name": "Python 3",
   "language": "python",
   "name": "python3"
  },
  "language_info": {
   "codemirror_mode": {
    "name": "ipython",
    "version": 3
   },
   "file_extension": ".py",
   "mimetype": "text/x-python",
   "name": "python",
   "nbconvert_exporter": "python",
   "pygments_lexer": "ipython3",
   "version": "3.8.8"
  }
 },
 "nbformat": 4,
 "nbformat_minor": 5
}
