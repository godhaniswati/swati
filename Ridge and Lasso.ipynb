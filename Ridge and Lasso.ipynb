{
 "cells": [
  {
   "cell_type": "markdown",
   "id": "9f8d5a21",
   "metadata": {},
   "source": [
    "## Ridge and Lasso regression"
   ]
  },
  {
   "cell_type": "code",
   "execution_count": 8,
   "id": "cf10639f",
   "metadata": {},
   "outputs": [],
   "source": [
    "## importing libraries:\n",
    "\n",
    "import numpy as np\n",
    "import pandas as pd\n",
    "import matplotlib.pyplot as plt\n",
    "import seaborn as sns\n",
    "import warnings"
   ]
  },
  {
   "cell_type": "code",
   "execution_count": 9,
   "id": "4cb07ec3",
   "metadata": {},
   "outputs": [
    {
     "data": {
      "text/html": [
       "<div>\n",
       "<style scoped>\n",
       "    .dataframe tbody tr th:only-of-type {\n",
       "        vertical-align: middle;\n",
       "    }\n",
       "\n",
       "    .dataframe tbody tr th {\n",
       "        vertical-align: top;\n",
       "    }\n",
       "\n",
       "    .dataframe thead th {\n",
       "        text-align: right;\n",
       "    }\n",
       "</style>\n",
       "<table border=\"1\" class=\"dataframe\">\n",
       "  <thead>\n",
       "    <tr style=\"text-align: right;\">\n",
       "      <th></th>\n",
       "      <th>PassengerId</th>\n",
       "      <th>Survived</th>\n",
       "      <th>Pclass</th>\n",
       "      <th>Name</th>\n",
       "      <th>Sex</th>\n",
       "      <th>Age</th>\n",
       "      <th>SibSp</th>\n",
       "      <th>Parch</th>\n",
       "      <th>Ticket</th>\n",
       "      <th>Fare</th>\n",
       "      <th>Cabin</th>\n",
       "      <th>Embarked</th>\n",
       "    </tr>\n",
       "  </thead>\n",
       "  <tbody>\n",
       "    <tr>\n",
       "      <th>0</th>\n",
       "      <td>892</td>\n",
       "      <td>0</td>\n",
       "      <td>3</td>\n",
       "      <td>Kelly, Mr. James</td>\n",
       "      <td>male</td>\n",
       "      <td>34.5</td>\n",
       "      <td>0</td>\n",
       "      <td>0</td>\n",
       "      <td>330911</td>\n",
       "      <td>7.8292</td>\n",
       "      <td>NaN</td>\n",
       "      <td>Q</td>\n",
       "    </tr>\n",
       "    <tr>\n",
       "      <th>1</th>\n",
       "      <td>893</td>\n",
       "      <td>1</td>\n",
       "      <td>3</td>\n",
       "      <td>Wilkes, Mrs. James (Ellen Needs)</td>\n",
       "      <td>female</td>\n",
       "      <td>47.0</td>\n",
       "      <td>1</td>\n",
       "      <td>0</td>\n",
       "      <td>363272</td>\n",
       "      <td>7.0000</td>\n",
       "      <td>NaN</td>\n",
       "      <td>S</td>\n",
       "    </tr>\n",
       "    <tr>\n",
       "      <th>2</th>\n",
       "      <td>894</td>\n",
       "      <td>0</td>\n",
       "      <td>2</td>\n",
       "      <td>Myles, Mr. Thomas Francis</td>\n",
       "      <td>male</td>\n",
       "      <td>62.0</td>\n",
       "      <td>0</td>\n",
       "      <td>0</td>\n",
       "      <td>240276</td>\n",
       "      <td>9.6875</td>\n",
       "      <td>NaN</td>\n",
       "      <td>Q</td>\n",
       "    </tr>\n",
       "    <tr>\n",
       "      <th>3</th>\n",
       "      <td>895</td>\n",
       "      <td>0</td>\n",
       "      <td>3</td>\n",
       "      <td>Wirz, Mr. Albert</td>\n",
       "      <td>male</td>\n",
       "      <td>27.0</td>\n",
       "      <td>0</td>\n",
       "      <td>0</td>\n",
       "      <td>315154</td>\n",
       "      <td>8.6625</td>\n",
       "      <td>NaN</td>\n",
       "      <td>S</td>\n",
       "    </tr>\n",
       "    <tr>\n",
       "      <th>4</th>\n",
       "      <td>896</td>\n",
       "      <td>1</td>\n",
       "      <td>3</td>\n",
       "      <td>Hirvonen, Mrs. Alexander (Helga E Lindqvist)</td>\n",
       "      <td>female</td>\n",
       "      <td>22.0</td>\n",
       "      <td>1</td>\n",
       "      <td>1</td>\n",
       "      <td>3101298</td>\n",
       "      <td>12.2875</td>\n",
       "      <td>NaN</td>\n",
       "      <td>S</td>\n",
       "    </tr>\n",
       "  </tbody>\n",
       "</table>\n",
       "</div>"
      ],
      "text/plain": [
       "   PassengerId  Survived  Pclass  \\\n",
       "0          892         0       3   \n",
       "1          893         1       3   \n",
       "2          894         0       2   \n",
       "3          895         0       3   \n",
       "4          896         1       3   \n",
       "\n",
       "                                           Name     Sex   Age  SibSp  Parch  \\\n",
       "0                              Kelly, Mr. James    male  34.5      0      0   \n",
       "1              Wilkes, Mrs. James (Ellen Needs)  female  47.0      1      0   \n",
       "2                     Myles, Mr. Thomas Francis    male  62.0      0      0   \n",
       "3                              Wirz, Mr. Albert    male  27.0      0      0   \n",
       "4  Hirvonen, Mrs. Alexander (Helga E Lindqvist)  female  22.0      1      1   \n",
       "\n",
       "    Ticket     Fare Cabin Embarked  \n",
       "0   330911   7.8292   NaN        Q  \n",
       "1   363272   7.0000   NaN        S  \n",
       "2   240276   9.6875   NaN        Q  \n",
       "3   315154   8.6625   NaN        S  \n",
       "4  3101298  12.2875   NaN        S  "
      ]
     },
     "execution_count": 9,
     "metadata": {},
     "output_type": "execute_result"
    }
   ],
   "source": [
    "df = pd.read_csv('tested.csv')\n",
    "df.head()"
   ]
  },
  {
   "cell_type": "code",
   "execution_count": 10,
   "id": "c40e3107",
   "metadata": {},
   "outputs": [
    {
     "data": {
      "text/plain": [
       "(418, 12)"
      ]
     },
     "execution_count": 10,
     "metadata": {},
     "output_type": "execute_result"
    }
   ],
   "source": [
    "df.shape"
   ]
  },
  {
   "cell_type": "code",
   "execution_count": 11,
   "id": "316a1e01",
   "metadata": {},
   "outputs": [
    {
     "data": {
      "text/plain": [
       "PassengerId      0\n",
       "Survived         0\n",
       "Pclass           0\n",
       "Name             0\n",
       "Sex              0\n",
       "Age             86\n",
       "SibSp            0\n",
       "Parch            0\n",
       "Ticket           0\n",
       "Fare             1\n",
       "Cabin          327\n",
       "Embarked         0\n",
       "dtype: int64"
      ]
     },
     "execution_count": 11,
     "metadata": {},
     "output_type": "execute_result"
    }
   ],
   "source": [
    "# step-2: check missing values:\n",
    "\n",
    "df.isnull().sum()"
   ]
  },
  {
   "cell_type": "code",
   "execution_count": 12,
   "id": "1f3cc47e",
   "metadata": {},
   "outputs": [],
   "source": [
    "# dropmg columns which has nan values:\n",
    "\n",
    "df.drop(columns = ['Age','Cabin'], axis = 1,inplace=True)"
   ]
  },
  {
   "cell_type": "code",
   "execution_count": 13,
   "id": "0e8f0e81",
   "metadata": {},
   "outputs": [
    {
     "data": {
      "text/html": [
       "<div>\n",
       "<style scoped>\n",
       "    .dataframe tbody tr th:only-of-type {\n",
       "        vertical-align: middle;\n",
       "    }\n",
       "\n",
       "    .dataframe tbody tr th {\n",
       "        vertical-align: top;\n",
       "    }\n",
       "\n",
       "    .dataframe thead th {\n",
       "        text-align: right;\n",
       "    }\n",
       "</style>\n",
       "<table border=\"1\" class=\"dataframe\">\n",
       "  <thead>\n",
       "    <tr style=\"text-align: right;\">\n",
       "      <th></th>\n",
       "      <th>PassengerId</th>\n",
       "      <th>Survived</th>\n",
       "      <th>Pclass</th>\n",
       "      <th>Name</th>\n",
       "      <th>Sex</th>\n",
       "      <th>SibSp</th>\n",
       "      <th>Parch</th>\n",
       "      <th>Ticket</th>\n",
       "      <th>Fare</th>\n",
       "      <th>Embarked</th>\n",
       "    </tr>\n",
       "  </thead>\n",
       "  <tbody>\n",
       "    <tr>\n",
       "      <th>0</th>\n",
       "      <td>892</td>\n",
       "      <td>0</td>\n",
       "      <td>3</td>\n",
       "      <td>Kelly, Mr. James</td>\n",
       "      <td>male</td>\n",
       "      <td>0</td>\n",
       "      <td>0</td>\n",
       "      <td>330911</td>\n",
       "      <td>7.8292</td>\n",
       "      <td>Q</td>\n",
       "    </tr>\n",
       "    <tr>\n",
       "      <th>1</th>\n",
       "      <td>893</td>\n",
       "      <td>1</td>\n",
       "      <td>3</td>\n",
       "      <td>Wilkes, Mrs. James (Ellen Needs)</td>\n",
       "      <td>female</td>\n",
       "      <td>1</td>\n",
       "      <td>0</td>\n",
       "      <td>363272</td>\n",
       "      <td>7.0000</td>\n",
       "      <td>S</td>\n",
       "    </tr>\n",
       "    <tr>\n",
       "      <th>2</th>\n",
       "      <td>894</td>\n",
       "      <td>0</td>\n",
       "      <td>2</td>\n",
       "      <td>Myles, Mr. Thomas Francis</td>\n",
       "      <td>male</td>\n",
       "      <td>0</td>\n",
       "      <td>0</td>\n",
       "      <td>240276</td>\n",
       "      <td>9.6875</td>\n",
       "      <td>Q</td>\n",
       "    </tr>\n",
       "    <tr>\n",
       "      <th>3</th>\n",
       "      <td>895</td>\n",
       "      <td>0</td>\n",
       "      <td>3</td>\n",
       "      <td>Wirz, Mr. Albert</td>\n",
       "      <td>male</td>\n",
       "      <td>0</td>\n",
       "      <td>0</td>\n",
       "      <td>315154</td>\n",
       "      <td>8.6625</td>\n",
       "      <td>S</td>\n",
       "    </tr>\n",
       "    <tr>\n",
       "      <th>4</th>\n",
       "      <td>896</td>\n",
       "      <td>1</td>\n",
       "      <td>3</td>\n",
       "      <td>Hirvonen, Mrs. Alexander (Helga E Lindqvist)</td>\n",
       "      <td>female</td>\n",
       "      <td>1</td>\n",
       "      <td>1</td>\n",
       "      <td>3101298</td>\n",
       "      <td>12.2875</td>\n",
       "      <td>S</td>\n",
       "    </tr>\n",
       "  </tbody>\n",
       "</table>\n",
       "</div>"
      ],
      "text/plain": [
       "   PassengerId  Survived  Pclass  \\\n",
       "0          892         0       3   \n",
       "1          893         1       3   \n",
       "2          894         0       2   \n",
       "3          895         0       3   \n",
       "4          896         1       3   \n",
       "\n",
       "                                           Name     Sex  SibSp  Parch  \\\n",
       "0                              Kelly, Mr. James    male      0      0   \n",
       "1              Wilkes, Mrs. James (Ellen Needs)  female      1      0   \n",
       "2                     Myles, Mr. Thomas Francis    male      0      0   \n",
       "3                              Wirz, Mr. Albert    male      0      0   \n",
       "4  Hirvonen, Mrs. Alexander (Helga E Lindqvist)  female      1      1   \n",
       "\n",
       "    Ticket     Fare Embarked  \n",
       "0   330911   7.8292        Q  \n",
       "1   363272   7.0000        S  \n",
       "2   240276   9.6875        Q  \n",
       "3   315154   8.6625        S  \n",
       "4  3101298  12.2875        S  "
      ]
     },
     "execution_count": 13,
     "metadata": {},
     "output_type": "execute_result"
    }
   ],
   "source": [
    "df.head()"
   ]
  },
  {
   "cell_type": "code",
   "execution_count": 14,
   "id": "c631d6f5",
   "metadata": {},
   "outputs": [
    {
     "data": {
      "text/plain": [
       "Index(['PassengerId', 'Survived', 'Pclass', 'Name', 'Sex', 'SibSp', 'Parch',\n",
       "       'Ticket', 'Fare', 'Embarked'],\n",
       "      dtype='object')"
      ]
     },
     "execution_count": 14,
     "metadata": {},
     "output_type": "execute_result"
    }
   ],
   "source": [
    "df.columns"
   ]
  },
  {
   "cell_type": "code",
   "execution_count": 15,
   "id": "14b4c210",
   "metadata": {},
   "outputs": [],
   "source": [
    "cols = df[['Pclass','Sex','SibSp','Parch','Embarked']]"
   ]
  },
  {
   "cell_type": "code",
   "execution_count": 16,
   "id": "4d7db925",
   "metadata": {},
   "outputs": [
    {
     "data": {
      "text/html": [
       "<div>\n",
       "<style scoped>\n",
       "    .dataframe tbody tr th:only-of-type {\n",
       "        vertical-align: middle;\n",
       "    }\n",
       "\n",
       "    .dataframe tbody tr th {\n",
       "        vertical-align: top;\n",
       "    }\n",
       "\n",
       "    .dataframe thead th {\n",
       "        text-align: right;\n",
       "    }\n",
       "</style>\n",
       "<table border=\"1\" class=\"dataframe\">\n",
       "  <thead>\n",
       "    <tr style=\"text-align: right;\">\n",
       "      <th></th>\n",
       "      <th>Pclass</th>\n",
       "      <th>Sex</th>\n",
       "      <th>SibSp</th>\n",
       "      <th>Parch</th>\n",
       "      <th>Embarked</th>\n",
       "    </tr>\n",
       "  </thead>\n",
       "  <tbody>\n",
       "    <tr>\n",
       "      <th>0</th>\n",
       "      <td>3</td>\n",
       "      <td>male</td>\n",
       "      <td>0</td>\n",
       "      <td>0</td>\n",
       "      <td>Q</td>\n",
       "    </tr>\n",
       "    <tr>\n",
       "      <th>1</th>\n",
       "      <td>3</td>\n",
       "      <td>female</td>\n",
       "      <td>1</td>\n",
       "      <td>0</td>\n",
       "      <td>S</td>\n",
       "    </tr>\n",
       "    <tr>\n",
       "      <th>2</th>\n",
       "      <td>2</td>\n",
       "      <td>male</td>\n",
       "      <td>0</td>\n",
       "      <td>0</td>\n",
       "      <td>Q</td>\n",
       "    </tr>\n",
       "    <tr>\n",
       "      <th>3</th>\n",
       "      <td>3</td>\n",
       "      <td>male</td>\n",
       "      <td>0</td>\n",
       "      <td>0</td>\n",
       "      <td>S</td>\n",
       "    </tr>\n",
       "    <tr>\n",
       "      <th>4</th>\n",
       "      <td>3</td>\n",
       "      <td>female</td>\n",
       "      <td>1</td>\n",
       "      <td>1</td>\n",
       "      <td>S</td>\n",
       "    </tr>\n",
       "  </tbody>\n",
       "</table>\n",
       "</div>"
      ],
      "text/plain": [
       "   Pclass     Sex  SibSp  Parch Embarked\n",
       "0       3    male      0      0        Q\n",
       "1       3  female      1      0        S\n",
       "2       2    male      0      0        Q\n",
       "3       3    male      0      0        S\n",
       "4       3  female      1      1        S"
      ]
     },
     "execution_count": 16,
     "metadata": {},
     "output_type": "execute_result"
    }
   ],
   "source": [
    "cols.head()"
   ]
  },
  {
   "cell_type": "code",
   "execution_count": 17,
   "id": "096ee291",
   "metadata": {},
   "outputs": [
    {
     "data": {
      "text/plain": [
       "Pclass      0\n",
       "Sex         0\n",
       "SibSp       0\n",
       "Parch       0\n",
       "Embarked    0\n",
       "dtype: int64"
      ]
     },
     "execution_count": 17,
     "metadata": {},
     "output_type": "execute_result"
    }
   ],
   "source": [
    "cols.isnull().sum()"
   ]
  },
  {
   "cell_type": "code",
   "execution_count": 18,
   "id": "24e1cd5b",
   "metadata": {},
   "outputs": [],
   "source": [
    "# step-3 : applying label encoder to categorical data:\n",
    "\n",
    "from sklearn.preprocessing import LabelEncoder\n",
    "le = LabelEncoder()"
   ]
  },
  {
   "cell_type": "code",
   "execution_count": 19,
   "id": "fa156a35",
   "metadata": {},
   "outputs": [],
   "source": [
    "col1 = ['Sex','Embarked']"
   ]
  },
  {
   "cell_type": "code",
   "execution_count": 20,
   "id": "132899a2",
   "metadata": {},
   "outputs": [
    {
     "name": "stderr",
     "output_type": "stream",
     "text": [
      "C:\\Users\\Swati Nikhil Lathiya\\anaconda3\\lib\\site-packages\\pandas\\core\\frame.py:3191: SettingWithCopyWarning: \n",
      "A value is trying to be set on a copy of a slice from a DataFrame.\n",
      "Try using .loc[row_indexer,col_indexer] = value instead\n",
      "\n",
      "See the caveats in the documentation: https://pandas.pydata.org/pandas-docs/stable/user_guide/indexing.html#returning-a-view-versus-a-copy\n",
      "  self[k1] = value[k2]\n"
     ]
    }
   ],
   "source": [
    "cols[col1]= cols[col1].apply(le.fit_transform)"
   ]
  },
  {
   "cell_type": "code",
   "execution_count": 16,
   "id": "ace9ee71",
   "metadata": {},
   "outputs": [
    {
     "data": {
      "text/html": [
       "<div>\n",
       "<style scoped>\n",
       "    .dataframe tbody tr th:only-of-type {\n",
       "        vertical-align: middle;\n",
       "    }\n",
       "\n",
       "    .dataframe tbody tr th {\n",
       "        vertical-align: top;\n",
       "    }\n",
       "\n",
       "    .dataframe thead th {\n",
       "        text-align: right;\n",
       "    }\n",
       "</style>\n",
       "<table border=\"1\" class=\"dataframe\">\n",
       "  <thead>\n",
       "    <tr style=\"text-align: right;\">\n",
       "      <th></th>\n",
       "      <th>Pclass</th>\n",
       "      <th>Sex</th>\n",
       "      <th>SibSp</th>\n",
       "      <th>Parch</th>\n",
       "      <th>Embarked</th>\n",
       "    </tr>\n",
       "  </thead>\n",
       "  <tbody>\n",
       "    <tr>\n",
       "      <th>0</th>\n",
       "      <td>3</td>\n",
       "      <td>1</td>\n",
       "      <td>0</td>\n",
       "      <td>0</td>\n",
       "      <td>1</td>\n",
       "    </tr>\n",
       "    <tr>\n",
       "      <th>1</th>\n",
       "      <td>3</td>\n",
       "      <td>0</td>\n",
       "      <td>1</td>\n",
       "      <td>0</td>\n",
       "      <td>2</td>\n",
       "    </tr>\n",
       "    <tr>\n",
       "      <th>2</th>\n",
       "      <td>2</td>\n",
       "      <td>1</td>\n",
       "      <td>0</td>\n",
       "      <td>0</td>\n",
       "      <td>1</td>\n",
       "    </tr>\n",
       "    <tr>\n",
       "      <th>3</th>\n",
       "      <td>3</td>\n",
       "      <td>1</td>\n",
       "      <td>0</td>\n",
       "      <td>0</td>\n",
       "      <td>2</td>\n",
       "    </tr>\n",
       "    <tr>\n",
       "      <th>4</th>\n",
       "      <td>3</td>\n",
       "      <td>0</td>\n",
       "      <td>1</td>\n",
       "      <td>1</td>\n",
       "      <td>2</td>\n",
       "    </tr>\n",
       "  </tbody>\n",
       "</table>\n",
       "</div>"
      ],
      "text/plain": [
       "   Pclass  Sex  SibSp  Parch  Embarked\n",
       "0       3    1      0      0         1\n",
       "1       3    0      1      0         2\n",
       "2       2    1      0      0         1\n",
       "3       3    1      0      0         2\n",
       "4       3    0      1      1         2"
      ]
     },
     "execution_count": 16,
     "metadata": {},
     "output_type": "execute_result"
    }
   ],
   "source": [
    "cols.head()"
   ]
  },
  {
   "cell_type": "code",
   "execution_count": 17,
   "id": "30c34fb9",
   "metadata": {},
   "outputs": [
    {
     "data": {
      "text/html": [
       "<div>\n",
       "<style scoped>\n",
       "    .dataframe tbody tr th:only-of-type {\n",
       "        vertical-align: middle;\n",
       "    }\n",
       "\n",
       "    .dataframe tbody tr th {\n",
       "        vertical-align: top;\n",
       "    }\n",
       "\n",
       "    .dataframe thead th {\n",
       "        text-align: right;\n",
       "    }\n",
       "</style>\n",
       "<table border=\"1\" class=\"dataframe\">\n",
       "  <thead>\n",
       "    <tr style=\"text-align: right;\">\n",
       "      <th></th>\n",
       "      <th>2</th>\n",
       "      <th>3</th>\n",
       "    </tr>\n",
       "  </thead>\n",
       "  <tbody>\n",
       "    <tr>\n",
       "      <th>0</th>\n",
       "      <td>0</td>\n",
       "      <td>1</td>\n",
       "    </tr>\n",
       "    <tr>\n",
       "      <th>1</th>\n",
       "      <td>0</td>\n",
       "      <td>1</td>\n",
       "    </tr>\n",
       "    <tr>\n",
       "      <th>2</th>\n",
       "      <td>1</td>\n",
       "      <td>0</td>\n",
       "    </tr>\n",
       "    <tr>\n",
       "      <th>3</th>\n",
       "      <td>0</td>\n",
       "      <td>1</td>\n",
       "    </tr>\n",
       "    <tr>\n",
       "      <th>4</th>\n",
       "      <td>0</td>\n",
       "      <td>1</td>\n",
       "    </tr>\n",
       "    <tr>\n",
       "      <th>...</th>\n",
       "      <td>...</td>\n",
       "      <td>...</td>\n",
       "    </tr>\n",
       "    <tr>\n",
       "      <th>413</th>\n",
       "      <td>0</td>\n",
       "      <td>1</td>\n",
       "    </tr>\n",
       "    <tr>\n",
       "      <th>414</th>\n",
       "      <td>0</td>\n",
       "      <td>0</td>\n",
       "    </tr>\n",
       "    <tr>\n",
       "      <th>415</th>\n",
       "      <td>0</td>\n",
       "      <td>1</td>\n",
       "    </tr>\n",
       "    <tr>\n",
       "      <th>416</th>\n",
       "      <td>0</td>\n",
       "      <td>1</td>\n",
       "    </tr>\n",
       "    <tr>\n",
       "      <th>417</th>\n",
       "      <td>0</td>\n",
       "      <td>1</td>\n",
       "    </tr>\n",
       "  </tbody>\n",
       "</table>\n",
       "<p>418 rows × 2 columns</p>\n",
       "</div>"
      ],
      "text/plain": [
       "     2  3\n",
       "0    0  1\n",
       "1    0  1\n",
       "2    1  0\n",
       "3    0  1\n",
       "4    0  1\n",
       "..  .. ..\n",
       "413  0  1\n",
       "414  0  0\n",
       "415  0  1\n",
       "416  0  1\n",
       "417  0  1\n",
       "\n",
       "[418 rows x 2 columns]"
      ]
     },
     "execution_count": 17,
     "metadata": {},
     "output_type": "execute_result"
    }
   ],
   "source": [
    "## creating dummy values on pclass:\n",
    "\n",
    "df1 = cols['Pclass']\n",
    "\n",
    "df2 = pd.get_dummies(df1,drop_first=True)\n",
    "df2"
   ]
  },
  {
   "cell_type": "code",
   "execution_count": 18,
   "id": "b03aea20",
   "metadata": {},
   "outputs": [
    {
     "name": "stderr",
     "output_type": "stream",
     "text": [
      "C:\\Users\\Swati Nikhil Lathiya\\anaconda3\\lib\\site-packages\\pandas\\core\\frame.py:4308: SettingWithCopyWarning: \n",
      "A value is trying to be set on a copy of a slice from a DataFrame\n",
      "\n",
      "See the caveats in the documentation: https://pandas.pydata.org/pandas-docs/stable/user_guide/indexing.html#returning-a-view-versus-a-copy\n",
      "  return super().drop(\n"
     ]
    }
   ],
   "source": [
    "cols.drop(['Pclass'],axis=1,inplace=True)"
   ]
  },
  {
   "cell_type": "code",
   "execution_count": 19,
   "id": "4e4db032",
   "metadata": {},
   "outputs": [
    {
     "data": {
      "text/html": [
       "<div>\n",
       "<style scoped>\n",
       "    .dataframe tbody tr th:only-of-type {\n",
       "        vertical-align: middle;\n",
       "    }\n",
       "\n",
       "    .dataframe tbody tr th {\n",
       "        vertical-align: top;\n",
       "    }\n",
       "\n",
       "    .dataframe thead th {\n",
       "        text-align: right;\n",
       "    }\n",
       "</style>\n",
       "<table border=\"1\" class=\"dataframe\">\n",
       "  <thead>\n",
       "    <tr style=\"text-align: right;\">\n",
       "      <th></th>\n",
       "      <th>Sex</th>\n",
       "      <th>SibSp</th>\n",
       "      <th>Parch</th>\n",
       "      <th>Embarked</th>\n",
       "    </tr>\n",
       "  </thead>\n",
       "  <tbody>\n",
       "    <tr>\n",
       "      <th>0</th>\n",
       "      <td>1</td>\n",
       "      <td>0</td>\n",
       "      <td>0</td>\n",
       "      <td>1</td>\n",
       "    </tr>\n",
       "    <tr>\n",
       "      <th>1</th>\n",
       "      <td>0</td>\n",
       "      <td>1</td>\n",
       "      <td>0</td>\n",
       "      <td>2</td>\n",
       "    </tr>\n",
       "    <tr>\n",
       "      <th>2</th>\n",
       "      <td>1</td>\n",
       "      <td>0</td>\n",
       "      <td>0</td>\n",
       "      <td>1</td>\n",
       "    </tr>\n",
       "    <tr>\n",
       "      <th>3</th>\n",
       "      <td>1</td>\n",
       "      <td>0</td>\n",
       "      <td>0</td>\n",
       "      <td>2</td>\n",
       "    </tr>\n",
       "    <tr>\n",
       "      <th>4</th>\n",
       "      <td>0</td>\n",
       "      <td>1</td>\n",
       "      <td>1</td>\n",
       "      <td>2</td>\n",
       "    </tr>\n",
       "  </tbody>\n",
       "</table>\n",
       "</div>"
      ],
      "text/plain": [
       "   Sex  SibSp  Parch  Embarked\n",
       "0    1      0      0         1\n",
       "1    0      1      0         2\n",
       "2    1      0      0         1\n",
       "3    1      0      0         2\n",
       "4    0      1      1         2"
      ]
     },
     "execution_count": 19,
     "metadata": {},
     "output_type": "execute_result"
    }
   ],
   "source": [
    "cols.head()"
   ]
  },
  {
   "cell_type": "code",
   "execution_count": 20,
   "id": "9d62dc08",
   "metadata": {},
   "outputs": [
    {
     "data": {
      "text/html": [
       "<div>\n",
       "<style scoped>\n",
       "    .dataframe tbody tr th:only-of-type {\n",
       "        vertical-align: middle;\n",
       "    }\n",
       "\n",
       "    .dataframe tbody tr th {\n",
       "        vertical-align: top;\n",
       "    }\n",
       "\n",
       "    .dataframe thead th {\n",
       "        text-align: right;\n",
       "    }\n",
       "</style>\n",
       "<table border=\"1\" class=\"dataframe\">\n",
       "  <thead>\n",
       "    <tr style=\"text-align: right;\">\n",
       "      <th></th>\n",
       "      <th>Sex</th>\n",
       "      <th>SibSp</th>\n",
       "      <th>Parch</th>\n",
       "      <th>Embarked</th>\n",
       "      <th>2</th>\n",
       "      <th>3</th>\n",
       "    </tr>\n",
       "  </thead>\n",
       "  <tbody>\n",
       "    <tr>\n",
       "      <th>0</th>\n",
       "      <td>1</td>\n",
       "      <td>0</td>\n",
       "      <td>0</td>\n",
       "      <td>1</td>\n",
       "      <td>0</td>\n",
       "      <td>1</td>\n",
       "    </tr>\n",
       "    <tr>\n",
       "      <th>1</th>\n",
       "      <td>0</td>\n",
       "      <td>1</td>\n",
       "      <td>0</td>\n",
       "      <td>2</td>\n",
       "      <td>0</td>\n",
       "      <td>1</td>\n",
       "    </tr>\n",
       "    <tr>\n",
       "      <th>2</th>\n",
       "      <td>1</td>\n",
       "      <td>0</td>\n",
       "      <td>0</td>\n",
       "      <td>1</td>\n",
       "      <td>1</td>\n",
       "      <td>0</td>\n",
       "    </tr>\n",
       "    <tr>\n",
       "      <th>3</th>\n",
       "      <td>1</td>\n",
       "      <td>0</td>\n",
       "      <td>0</td>\n",
       "      <td>2</td>\n",
       "      <td>0</td>\n",
       "      <td>1</td>\n",
       "    </tr>\n",
       "    <tr>\n",
       "      <th>4</th>\n",
       "      <td>0</td>\n",
       "      <td>1</td>\n",
       "      <td>1</td>\n",
       "      <td>2</td>\n",
       "      <td>0</td>\n",
       "      <td>1</td>\n",
       "    </tr>\n",
       "  </tbody>\n",
       "</table>\n",
       "</div>"
      ],
      "text/plain": [
       "   Sex  SibSp  Parch  Embarked  2  3\n",
       "0    1      0      0         1  0  1\n",
       "1    0      1      0         2  0  1\n",
       "2    1      0      0         1  1  0\n",
       "3    1      0      0         2  0  1\n",
       "4    0      1      1         2  0  1"
      ]
     },
     "execution_count": 20,
     "metadata": {},
     "output_type": "execute_result"
    }
   ],
   "source": [
    "df3 = pd.concat([cols,df2],axis=1)\n",
    "df3.head()"
   ]
  },
  {
   "cell_type": "code",
   "execution_count": 21,
   "id": "1de35515",
   "metadata": {},
   "outputs": [
    {
     "data": {
      "text/html": [
       "<div>\n",
       "<style scoped>\n",
       "    .dataframe tbody tr th:only-of-type {\n",
       "        vertical-align: middle;\n",
       "    }\n",
       "\n",
       "    .dataframe tbody tr th {\n",
       "        vertical-align: top;\n",
       "    }\n",
       "\n",
       "    .dataframe thead th {\n",
       "        text-align: right;\n",
       "    }\n",
       "</style>\n",
       "<table border=\"1\" class=\"dataframe\">\n",
       "  <thead>\n",
       "    <tr style=\"text-align: right;\">\n",
       "      <th></th>\n",
       "      <th>Sex</th>\n",
       "      <th>SibSp</th>\n",
       "      <th>Parch</th>\n",
       "      <th>Embarked</th>\n",
       "      <th>2</th>\n",
       "      <th>3</th>\n",
       "    </tr>\n",
       "  </thead>\n",
       "  <tbody>\n",
       "    <tr>\n",
       "      <th>0</th>\n",
       "      <td>1</td>\n",
       "      <td>0</td>\n",
       "      <td>0</td>\n",
       "      <td>1</td>\n",
       "      <td>0</td>\n",
       "      <td>1</td>\n",
       "    </tr>\n",
       "    <tr>\n",
       "      <th>1</th>\n",
       "      <td>0</td>\n",
       "      <td>1</td>\n",
       "      <td>0</td>\n",
       "      <td>2</td>\n",
       "      <td>0</td>\n",
       "      <td>1</td>\n",
       "    </tr>\n",
       "    <tr>\n",
       "      <th>2</th>\n",
       "      <td>1</td>\n",
       "      <td>0</td>\n",
       "      <td>0</td>\n",
       "      <td>1</td>\n",
       "      <td>1</td>\n",
       "      <td>0</td>\n",
       "    </tr>\n",
       "    <tr>\n",
       "      <th>3</th>\n",
       "      <td>1</td>\n",
       "      <td>0</td>\n",
       "      <td>0</td>\n",
       "      <td>2</td>\n",
       "      <td>0</td>\n",
       "      <td>1</td>\n",
       "    </tr>\n",
       "    <tr>\n",
       "      <th>4</th>\n",
       "      <td>0</td>\n",
       "      <td>1</td>\n",
       "      <td>1</td>\n",
       "      <td>2</td>\n",
       "      <td>0</td>\n",
       "      <td>1</td>\n",
       "    </tr>\n",
       "  </tbody>\n",
       "</table>\n",
       "</div>"
      ],
      "text/plain": [
       "   Sex  SibSp  Parch  Embarked  2  3\n",
       "0    1      0      0         1  0  1\n",
       "1    0      1      0         2  0  1\n",
       "2    1      0      0         1  1  0\n",
       "3    1      0      0         2  0  1\n",
       "4    0      1      1         2  0  1"
      ]
     },
     "execution_count": 21,
     "metadata": {},
     "output_type": "execute_result"
    }
   ],
   "source": [
    "# step-4: model building:\n",
    "\n",
    "x = df3.copy()\n",
    "x.head()"
   ]
  },
  {
   "cell_type": "code",
   "execution_count": 22,
   "id": "9ab4d84b",
   "metadata": {},
   "outputs": [
    {
     "data": {
      "text/plain": [
       "0    0\n",
       "1    1\n",
       "2    0\n",
       "3    0\n",
       "4    1\n",
       "Name: Survived, dtype: int64"
      ]
     },
     "execution_count": 22,
     "metadata": {},
     "output_type": "execute_result"
    }
   ],
   "source": [
    "y = df['Survived']\n",
    "y.head()"
   ]
  },
  {
   "cell_type": "code",
   "execution_count": 23,
   "id": "831e17fa",
   "metadata": {},
   "outputs": [],
   "source": [
    "# train test split:\n",
    "\n",
    "from sklearn.model_selection import train_test_split\n",
    "\n",
    "x_train,x_test,y_train,y_test = train_test_split(x,y,test_size=0.3,random_state=1)"
   ]
  },
  {
   "cell_type": "code",
   "execution_count": 24,
   "id": "69473d04",
   "metadata": {},
   "outputs": [
    {
     "data": {
      "text/plain": [
       "292"
      ]
     },
     "execution_count": 24,
     "metadata": {},
     "output_type": "execute_result"
    }
   ],
   "source": [
    "len(x_train)"
   ]
  },
  {
   "cell_type": "code",
   "execution_count": 25,
   "id": "6ba223ff",
   "metadata": {},
   "outputs": [
    {
     "data": {
      "text/plain": [
       "126"
      ]
     },
     "execution_count": 25,
     "metadata": {},
     "output_type": "execute_result"
    }
   ],
   "source": [
    "len(x_test)"
   ]
  },
  {
   "cell_type": "code",
   "execution_count": 26,
   "id": "d60b015e",
   "metadata": {},
   "outputs": [
    {
     "data": {
      "text/plain": [
       "array([[ 0.78310898, -0.51121335, -0.38880303, -0.40213824, -0.5191967 ,\n",
       "         0.97965889],\n",
       "       [ 0.78310898, -0.51121335, -0.38880303,  0.73790415,  1.92605229,\n",
       "        -1.02076346],\n",
       "       [ 0.78310898, -0.51121335, -0.38880303, -1.54218064, -0.5191967 ,\n",
       "         0.97965889],\n",
       "       [ 0.78310898, -0.51121335, -0.38880303,  0.73790415, -0.5191967 ,\n",
       "        -1.02076346],\n",
       "       [-1.27696148,  0.61965255,  0.581543  ,  0.73790415, -0.5191967 ,\n",
       "         0.97965889],\n",
       "       [ 0.78310898, -0.51121335, -0.38880303,  0.73790415,  1.92605229,\n",
       "        -1.02076346],\n",
       "       [-1.27696148,  4.01225026,  1.55188903,  0.73790415, -0.5191967 ,\n",
       "         0.97965889],\n",
       "       [ 0.78310898, -0.51121335, -0.38880303,  0.73790415, -0.5191967 ,\n",
       "        -1.02076346],\n",
       "       [ 0.78310898, -0.51121335, -0.38880303, -0.40213824, -0.5191967 ,\n",
       "         0.97965889],\n",
       "       [ 0.78310898, -0.51121335, -0.38880303,  0.73790415, -0.5191967 ,\n",
       "         0.97965889],\n",
       "       [ 0.78310898, -0.51121335, -0.38880303,  0.73790415,  1.92605229,\n",
       "        -1.02076346],\n",
       "       [-1.27696148, -0.51121335, -0.38880303, -0.40213824, -0.5191967 ,\n",
       "         0.97965889],\n",
       "       [ 0.78310898, -0.51121335, -0.38880303,  0.73790415, -0.5191967 ,\n",
       "        -1.02076346],\n",
       "       [-1.27696148,  0.61965255,  0.581543  ,  0.73790415, -0.5191967 ,\n",
       "        -1.02076346],\n",
       "       [ 0.78310898, -0.51121335, -0.38880303,  0.73790415,  1.92605229,\n",
       "        -1.02076346],\n",
       "       [-1.27696148,  0.61965255,  0.581543  ,  0.73790415, -0.5191967 ,\n",
       "         0.97965889],\n",
       "       [ 0.78310898, -0.51121335, -0.38880303,  0.73790415,  1.92605229,\n",
       "        -1.02076346],\n",
       "       [ 0.78310898, -0.51121335, -0.38880303,  0.73790415,  1.92605229,\n",
       "        -1.02076346],\n",
       "       [ 0.78310898,  0.61965255, -0.38880303,  0.73790415,  1.92605229,\n",
       "        -1.02076346],\n",
       "       [ 0.78310898, -0.51121335, -0.38880303,  0.73790415, -0.5191967 ,\n",
       "         0.97965889],\n",
       "       [-1.27696148, -0.51121335, -0.38880303, -0.40213824, -0.5191967 ,\n",
       "         0.97965889],\n",
       "       [ 0.78310898, -0.51121335, -0.38880303,  0.73790415, -0.5191967 ,\n",
       "         0.97965889],\n",
       "       [ 0.78310898, -0.51121335, -0.38880303,  0.73790415, -0.5191967 ,\n",
       "         0.97965889],\n",
       "       [ 0.78310898,  1.75051845, -0.38880303, -1.54218064, -0.5191967 ,\n",
       "         0.97965889],\n",
       "       [ 0.78310898, -0.51121335, -0.38880303, -0.40213824, -0.5191967 ,\n",
       "         0.97965889],\n",
       "       [ 0.78310898,  0.61965255, -0.38880303,  0.73790415,  1.92605229,\n",
       "        -1.02076346],\n",
       "       [ 0.78310898,  0.61965255,  5.43327316,  0.73790415, -0.5191967 ,\n",
       "         0.97965889],\n",
       "       [ 0.78310898, -0.51121335, -0.38880303,  0.73790415, -0.5191967 ,\n",
       "        -1.02076346],\n",
       "       [ 0.78310898, -0.51121335, -0.38880303, -0.40213824, -0.5191967 ,\n",
       "         0.97965889],\n",
       "       [ 0.78310898, -0.51121335, -0.38880303, -0.40213824, -0.5191967 ,\n",
       "         0.97965889],\n",
       "       [-1.27696148,  1.75051845, -0.38880303, -0.40213824, -0.5191967 ,\n",
       "         0.97965889],\n",
       "       [-1.27696148,  0.61965255, -0.38880303, -1.54218064, -0.5191967 ,\n",
       "        -1.02076346],\n",
       "       [-1.27696148, -0.51121335,  0.581543  ,  0.73790415,  1.92605229,\n",
       "        -1.02076346],\n",
       "       [ 0.78310898,  0.61965255, -0.38880303, -1.54218064, -0.5191967 ,\n",
       "         0.97965889],\n",
       "       [ 0.78310898,  0.61965255, -0.38880303,  0.73790415, -0.5191967 ,\n",
       "         0.97965889],\n",
       "       [ 0.78310898, -0.51121335, -0.38880303, -0.40213824, -0.5191967 ,\n",
       "         0.97965889],\n",
       "       [ 0.78310898, -0.51121335, -0.38880303,  0.73790415,  1.92605229,\n",
       "        -1.02076346],\n",
       "       [ 0.78310898, -0.51121335, -0.38880303,  0.73790415, -0.5191967 ,\n",
       "         0.97965889],\n",
       "       [ 0.78310898, -0.51121335, -0.38880303,  0.73790415,  1.92605229,\n",
       "        -1.02076346],\n",
       "       [-1.27696148, -0.51121335,  0.581543  , -1.54218064, -0.5191967 ,\n",
       "        -1.02076346],\n",
       "       [-1.27696148, -0.51121335,  3.49258109,  0.73790415, -0.5191967 ,\n",
       "         0.97965889],\n",
       "       [ 0.78310898, -0.51121335, -0.38880303,  0.73790415,  1.92605229,\n",
       "        -1.02076346],\n",
       "       [-1.27696148, -0.51121335, -0.38880303,  0.73790415, -0.5191967 ,\n",
       "         0.97965889],\n",
       "       [ 0.78310898,  0.61965255,  0.581543  ,  0.73790415, -0.5191967 ,\n",
       "         0.97965889],\n",
       "       [ 0.78310898,  0.61965255,  0.581543  , -1.54218064, -0.5191967 ,\n",
       "         0.97965889],\n",
       "       [-1.27696148,  0.61965255, -0.38880303,  0.73790415,  1.92605229,\n",
       "        -1.02076346],\n",
       "       [ 0.78310898,  0.61965255, -0.38880303,  0.73790415, -0.5191967 ,\n",
       "         0.97965889],\n",
       "       [ 0.78310898, -0.51121335, -0.38880303,  0.73790415, -0.5191967 ,\n",
       "         0.97965889],\n",
       "       [ 0.78310898,  8.53571387,  1.55188903,  0.73790415, -0.5191967 ,\n",
       "         0.97965889],\n",
       "       [-1.27696148, -0.51121335, -0.38880303, -0.40213824, -0.5191967 ,\n",
       "         0.97965889],\n",
       "       [ 0.78310898, -0.51121335, -0.38880303,  0.73790415,  1.92605229,\n",
       "        -1.02076346],\n",
       "       [-1.27696148,  0.61965255, -0.38880303,  0.73790415, -0.5191967 ,\n",
       "         0.97965889],\n",
       "       [-1.27696148, -0.51121335, -0.38880303,  0.73790415,  1.92605229,\n",
       "        -1.02076346],\n",
       "       [ 0.78310898, -0.51121335, -0.38880303, -0.40213824, -0.5191967 ,\n",
       "         0.97965889],\n",
       "       [ 0.78310898,  0.61965255, -0.38880303,  0.73790415,  1.92605229,\n",
       "        -1.02076346],\n",
       "       [ 0.78310898, -0.51121335, -0.38880303,  0.73790415, -0.5191967 ,\n",
       "         0.97965889],\n",
       "       [-1.27696148,  0.61965255,  0.581543  , -1.54218064, -0.5191967 ,\n",
       "        -1.02076346],\n",
       "       [-1.27696148, -0.51121335, -0.38880303,  0.73790415,  1.92605229,\n",
       "        -1.02076346],\n",
       "       [ 0.78310898, -0.51121335, -0.38880303, -1.54218064, -0.5191967 ,\n",
       "         0.97965889],\n",
       "       [-1.27696148,  0.61965255,  0.581543  ,  0.73790415, -0.5191967 ,\n",
       "         0.97965889],\n",
       "       [ 0.78310898, -0.51121335, -0.38880303,  0.73790415, -0.5191967 ,\n",
       "         0.97965889],\n",
       "       [ 0.78310898, -0.51121335, -0.38880303,  0.73790415, -0.5191967 ,\n",
       "        -1.02076346],\n",
       "       [-1.27696148,  0.61965255, -0.38880303, -1.54218064, -0.5191967 ,\n",
       "        -1.02076346],\n",
       "       [ 0.78310898,  0.61965255,  0.581543  ,  0.73790415, -0.5191967 ,\n",
       "        -1.02076346],\n",
       "       [ 0.78310898,  0.61965255, -0.38880303,  0.73790415, -0.5191967 ,\n",
       "         0.97965889],\n",
       "       [-1.27696148, -0.51121335, -0.38880303,  0.73790415, -0.5191967 ,\n",
       "         0.97965889],\n",
       "       [ 0.78310898,  0.61965255,  1.55188903,  0.73790415, -0.5191967 ,\n",
       "         0.97965889],\n",
       "       [ 0.78310898, -0.51121335, -0.38880303,  0.73790415,  1.92605229,\n",
       "        -1.02076346],\n",
       "       [ 0.78310898, -0.51121335, -0.38880303,  0.73790415,  1.92605229,\n",
       "        -1.02076346],\n",
       "       [ 0.78310898, -0.51121335, -0.38880303,  0.73790415,  1.92605229,\n",
       "        -1.02076346],\n",
       "       [-1.27696148,  0.61965255, -0.38880303,  0.73790415, -0.5191967 ,\n",
       "         0.97965889],\n",
       "       [ 0.78310898, -0.51121335,  0.581543  , -1.54218064, -0.5191967 ,\n",
       "         0.97965889],\n",
       "       [ 0.78310898,  0.61965255,  0.581543  , -1.54218064, -0.5191967 ,\n",
       "         0.97965889],\n",
       "       [-1.27696148, -0.51121335,  1.55188903, -1.54218064, -0.5191967 ,\n",
       "         0.97965889],\n",
       "       [-1.27696148, -0.51121335, -0.38880303, -1.54218064, -0.5191967 ,\n",
       "        -1.02076346],\n",
       "       [-1.27696148, -0.51121335, -0.38880303,  0.73790415, -0.5191967 ,\n",
       "         0.97965889],\n",
       "       [ 0.78310898, -0.51121335, -0.38880303,  0.73790415,  1.92605229,\n",
       "        -1.02076346],\n",
       "       [-1.27696148, -0.51121335, -0.38880303, -1.54218064, -0.5191967 ,\n",
       "        -1.02076346],\n",
       "       [ 0.78310898,  0.61965255,  0.581543  ,  0.73790415,  1.92605229,\n",
       "        -1.02076346],\n",
       "       [ 0.78310898, -0.51121335, -0.38880303, -1.54218064, -0.5191967 ,\n",
       "        -1.02076346],\n",
       "       [ 0.78310898,  0.61965255,  0.581543  , -1.54218064, -0.5191967 ,\n",
       "        -1.02076346],\n",
       "       [ 0.78310898, -0.51121335, -0.38880303,  0.73790415, -0.5191967 ,\n",
       "         0.97965889],\n",
       "       [ 0.78310898,  0.61965255, -0.38880303,  0.73790415, -0.5191967 ,\n",
       "        -1.02076346],\n",
       "       [ 0.78310898,  0.61965255, -0.38880303,  0.73790415,  1.92605229,\n",
       "        -1.02076346],\n",
       "       [ 0.78310898, -0.51121335,  1.55188903, -1.54218064, -0.5191967 ,\n",
       "         0.97965889],\n",
       "       [-1.27696148, -0.51121335, -0.38880303, -1.54218064, -0.5191967 ,\n",
       "        -1.02076346],\n",
       "       [-1.27696148,  1.75051845, -0.38880303,  0.73790415, -0.5191967 ,\n",
       "         0.97965889],\n",
       "       [ 0.78310898, -0.51121335, -0.38880303,  0.73790415, -0.5191967 ,\n",
       "         0.97965889],\n",
       "       [-1.27696148,  0.61965255,  0.581543  ,  0.73790415, -0.5191967 ,\n",
       "         0.97965889],\n",
       "       [ 0.78310898, -0.51121335, -0.38880303,  0.73790415, -0.5191967 ,\n",
       "        -1.02076346],\n",
       "       [ 0.78310898, -0.51121335, -0.38880303,  0.73790415, -0.5191967 ,\n",
       "        -1.02076346],\n",
       "       [-1.27696148, -0.51121335,  1.55188903,  0.73790415, -0.5191967 ,\n",
       "         0.97965889],\n",
       "       [ 0.78310898, -0.51121335, -0.38880303,  0.73790415,  1.92605229,\n",
       "        -1.02076346],\n",
       "       [ 0.78310898, -0.51121335, -0.38880303,  0.73790415, -0.5191967 ,\n",
       "         0.97965889],\n",
       "       [ 0.78310898, -0.51121335, -0.38880303,  0.73790415, -0.5191967 ,\n",
       "         0.97965889],\n",
       "       [ 0.78310898, -0.51121335, -0.38880303, -1.54218064, -0.5191967 ,\n",
       "         0.97965889],\n",
       "       [ 0.78310898, -0.51121335, -0.38880303,  0.73790415, -0.5191967 ,\n",
       "        -1.02076346],\n",
       "       [-1.27696148, -0.51121335, -0.38880303,  0.73790415,  1.92605229,\n",
       "        -1.02076346],\n",
       "       [ 0.78310898, -0.51121335, -0.38880303,  0.73790415, -0.5191967 ,\n",
       "        -1.02076346],\n",
       "       [ 0.78310898, -0.51121335, -0.38880303,  0.73790415, -0.5191967 ,\n",
       "         0.97965889],\n",
       "       [-1.27696148,  0.61965255,  1.55188903,  0.73790415, -0.5191967 ,\n",
       "        -1.02076346],\n",
       "       [-1.27696148,  0.61965255,  1.55188903,  0.73790415,  1.92605229,\n",
       "        -1.02076346],\n",
       "       [-1.27696148,  0.61965255,  0.581543  ,  0.73790415, -0.5191967 ,\n",
       "         0.97965889],\n",
       "       [ 0.78310898, -0.51121335,  0.581543  , -1.54218064, -0.5191967 ,\n",
       "        -1.02076346],\n",
       "       [-1.27696148, -0.51121335, -0.38880303, -1.54218064, -0.5191967 ,\n",
       "        -1.02076346],\n",
       "       [ 0.78310898,  0.61965255, -0.38880303,  0.73790415,  1.92605229,\n",
       "        -1.02076346],\n",
       "       [ 0.78310898,  1.75051845, -0.38880303,  0.73790415, -0.5191967 ,\n",
       "         0.97965889],\n",
       "       [ 0.78310898, -0.51121335, -0.38880303,  0.73790415,  1.92605229,\n",
       "        -1.02076346],\n",
       "       [ 0.78310898, -0.51121335, -0.38880303,  0.73790415, -0.5191967 ,\n",
       "         0.97965889],\n",
       "       [ 0.78310898, -0.51121335, -0.38880303, -1.54218064,  1.92605229,\n",
       "        -1.02076346],\n",
       "       [ 0.78310898, -0.51121335, -0.38880303, -0.40213824, -0.5191967 ,\n",
       "         0.97965889],\n",
       "       [ 0.78310898, -0.51121335, -0.38880303,  0.73790415, -0.5191967 ,\n",
       "         0.97965889],\n",
       "       [ 0.78310898, -0.51121335, -0.38880303, -0.40213824, -0.5191967 ,\n",
       "         0.97965889],\n",
       "       [ 0.78310898,  0.61965255, -0.38880303,  0.73790415, -0.5191967 ,\n",
       "         0.97965889],\n",
       "       [-1.27696148, -0.51121335, -0.38880303, -1.54218064, -0.5191967 ,\n",
       "        -1.02076346],\n",
       "       [ 0.78310898, -0.51121335, -0.38880303,  0.73790415,  1.92605229,\n",
       "        -1.02076346],\n",
       "       [-1.27696148, -0.51121335, -0.38880303,  0.73790415, -0.5191967 ,\n",
       "         0.97965889],\n",
       "       [-1.27696148,  0.61965255,  1.55188903,  0.73790415, -0.5191967 ,\n",
       "         0.97965889],\n",
       "       [ 0.78310898, -0.51121335, -0.38880303,  0.73790415,  1.92605229,\n",
       "        -1.02076346],\n",
       "       [ 0.78310898, -0.51121335, -0.38880303,  0.73790415, -0.5191967 ,\n",
       "         0.97965889],\n",
       "       [-1.27696148, -0.51121335, -0.38880303, -0.40213824, -0.5191967 ,\n",
       "         0.97965889],\n",
       "       [ 0.78310898, -0.51121335,  1.55188903,  0.73790415, -0.5191967 ,\n",
       "         0.97965889],\n",
       "       [-1.27696148, -0.51121335, -0.38880303,  0.73790415, -0.5191967 ,\n",
       "         0.97965889],\n",
       "       [-1.27696148,  0.61965255, -0.38880303, -0.40213824, -0.5191967 ,\n",
       "         0.97965889],\n",
       "       [ 0.78310898, -0.51121335, -0.38880303,  0.73790415, -0.5191967 ,\n",
       "         0.97965889],\n",
       "       [ 0.78310898, -0.51121335, -0.38880303,  0.73790415, -0.5191967 ,\n",
       "        -1.02076346]])"
      ]
     },
     "execution_count": 26,
     "metadata": {},
     "output_type": "execute_result"
    }
   ],
   "source": [
    "# scaling:\n",
    "\n",
    "from sklearn.preprocessing import StandardScaler\n",
    "scaler = StandardScaler()\n",
    "\n",
    "scaler.fit_transform(x_train)\n",
    "scaler.transform(x_test)"
   ]
  },
  {
   "cell_type": "code",
   "execution_count": 27,
   "id": "5c6deec3",
   "metadata": {},
   "outputs": [],
   "source": [
    "# uing lr model:\n",
    "\n",
    "from sklearn.linear_model import LinearRegression\n",
    "lr = LinearRegression()"
   ]
  },
  {
   "cell_type": "code",
   "execution_count": 28,
   "id": "66508ea7",
   "metadata": {},
   "outputs": [
    {
     "data": {
      "text/plain": [
       "LinearRegression()"
      ]
     },
     "execution_count": 28,
     "metadata": {},
     "output_type": "execute_result"
    }
   ],
   "source": [
    "lr.fit(x_train,y_train)"
   ]
  },
  {
   "cell_type": "code",
   "execution_count": 29,
   "id": "320f6908",
   "metadata": {},
   "outputs": [
    {
     "name": "stderr",
     "output_type": "stream",
     "text": [
      "C:\\Users\\Swati Nikhil Lathiya\\anaconda3\\lib\\site-packages\\sklearn\\utils\\validation.py:70: FutureWarning: Pass n_features_to_select=3 as keyword args. From version 1.0 (renaming of 0.25) passing these as positional arguments will result in an error\n",
      "  warnings.warn(f\"Pass {args_msg} as keyword args. From version \"\n"
     ]
    },
    {
     "data": {
      "text/plain": [
       "RFE(estimator=LinearRegression(), n_features_to_select=3)"
      ]
     },
     "execution_count": 29,
     "metadata": {},
     "output_type": "execute_result"
    }
   ],
   "source": [
    "# usiing RFE:\n",
    "\n",
    "from sklearn.feature_selection import RFE\n",
    "\n",
    "rfe = RFE(lr,3)\n",
    "rfe.fit(x,y)"
   ]
  },
  {
   "cell_type": "code",
   "execution_count": 30,
   "id": "6dc53cad",
   "metadata": {},
   "outputs": [
    {
     "data": {
      "text/plain": [
       "Index(['Sex', 'Embarked', 2], dtype='object')"
      ]
     },
     "execution_count": 30,
     "metadata": {},
     "output_type": "execute_result"
    }
   ],
   "source": [
    "# making list of a  column selected by rfe:\n",
    "\n",
    "col3 = x_train.columns[rfe.support_]\n",
    "col3"
   ]
  },
  {
   "cell_type": "code",
   "execution_count": 54,
   "id": "1f7e6dc2",
   "metadata": {},
   "outputs": [],
   "source": [
    "# update x_train having 3 columns ith rfe support:\n",
    "\n",
    "x_train= x_train[col3]"
   ]
  },
  {
   "cell_type": "code",
   "execution_count": 42,
   "id": "020b4140",
   "metadata": {},
   "outputs": [
    {
     "data": {
      "text/plain": [
       "(415, 3)"
      ]
     },
     "execution_count": 42,
     "metadata": {},
     "output_type": "execute_result"
    }
   ],
   "source": [
    "x_train.shape"
   ]
  },
  {
   "cell_type": "code",
   "execution_count": 55,
   "id": "54f36bf5",
   "metadata": {},
   "outputs": [],
   "source": [
    "# update x_test having 3 columns with rfe supprt:\n",
    "\n",
    "x_test = x_test[col3]"
   ]
  },
  {
   "cell_type": "code",
   "execution_count": 56,
   "id": "46dae1f3",
   "metadata": {},
   "outputs": [
    {
     "data": {
      "text/plain": [
       "(126, 3)"
      ]
     },
     "execution_count": 56,
     "metadata": {},
     "output_type": "execute_result"
    }
   ],
   "source": [
    "x_test.shape"
   ]
  },
  {
   "cell_type": "code",
   "execution_count": 57,
   "id": "28637e44",
   "metadata": {},
   "outputs": [
    {
     "data": {
      "text/plain": [
       "Lasso(alpha=0.0001)"
      ]
     },
     "execution_count": 57,
     "metadata": {},
     "output_type": "execute_result"
    }
   ],
   "source": [
    "# using lasso:\n",
    "\n",
    "from sklearn.linear_model import Lasso\n",
    "\n",
    "lasso = Lasso(alpha=0.0001)\n",
    "lasso.fit(x_train,y_train)"
   ]
  },
  {
   "cell_type": "code",
   "execution_count": 70,
   "id": "593b6db1",
   "metadata": {},
   "outputs": [
    {
     "data": {
      "text/plain": [
       "(126,)"
      ]
     },
     "execution_count": 70,
     "metadata": {},
     "output_type": "execute_result"
    }
   ],
   "source": [
    "lasso.predict(x_test).shape"
   ]
  },
  {
   "cell_type": "code",
   "execution_count": 69,
   "id": "a5445fb1",
   "metadata": {},
   "outputs": [
    {
     "data": {
      "text/plain": [
       "array([-0.99957561, -0.        , -0.        ])"
      ]
     },
     "execution_count": 69,
     "metadata": {},
     "output_type": "execute_result"
    }
   ],
   "source": [
    "lasso.coef_"
   ]
  },
  {
   "cell_type": "code",
   "execution_count": 64,
   "id": "03cffa37",
   "metadata": {},
   "outputs": [
    {
     "data": {
      "text/plain": [
       "4.007543591590342e-08"
      ]
     },
     "execution_count": 64,
     "metadata": {},
     "output_type": "execute_result"
    }
   ],
   "source": [
    "# mean squared error:\n",
    "\n",
    "from sklearn.metrics import mean_squared_error\n",
    "mse = mean_squared_error(y_test,lasso.predict(x_test))\n",
    "mse"
   ]
  },
  {
   "cell_type": "code",
   "execution_count": 65,
   "id": "0b1003b4",
   "metadata": {},
   "outputs": [
    {
     "data": {
      "text/plain": [
       "Ridge(alpha=0.0001)"
      ]
     },
     "execution_count": 65,
     "metadata": {},
     "output_type": "execute_result"
    }
   ],
   "source": [
    "# using ridge:\n",
    "\n",
    "from sklearn.linear_model import Ridge\n",
    "\n",
    "ridge = Ridge(alpha=0.0001)\n",
    "ridge.fit(x_train,y_train)"
   ]
  },
  {
   "cell_type": "code",
   "execution_count": 66,
   "id": "3e840dec",
   "metadata": {},
   "outputs": [
    {
     "data": {
      "text/plain": [
       "(126,)"
      ]
     },
     "execution_count": 66,
     "metadata": {},
     "output_type": "execute_result"
    }
   ],
   "source": [
    "ridge.predict(x_test).shape"
   ]
  },
  {
   "cell_type": "code",
   "execution_count": 67,
   "id": "2067063e",
   "metadata": {},
   "outputs": [
    {
     "data": {
      "text/plain": [
       "array([-9.99998523e-01, -2.51820601e-08, -1.67805078e-07])"
      ]
     },
     "execution_count": 67,
     "metadata": {},
     "output_type": "execute_result"
    }
   ],
   "source": [
    "ridge.coef_"
   ]
  },
  {
   "cell_type": "code",
   "execution_count": 68,
   "id": "830fd751",
   "metadata": {},
   "outputs": [
    {
     "data": {
      "text/plain": [
       "4.933676296467313e-13"
      ]
     },
     "execution_count": 68,
     "metadata": {},
     "output_type": "execute_result"
    }
   ],
   "source": [
    "# mean squared error:\n",
    "\n",
    "from sklearn.metrics import mean_squared_error\n",
    "mse = mean_squared_error(y_test,ridge.predict(x_test))\n",
    "mse"
   ]
  },
  {
   "cell_type": "code",
   "execution_count": null,
   "id": "34aa1647",
   "metadata": {},
   "outputs": [],
   "source": []
  },
  {
   "cell_type": "code",
   "execution_count": null,
   "id": "41de0edf",
   "metadata": {},
   "outputs": [],
   "source": []
  },
  {
   "cell_type": "code",
   "execution_count": null,
   "id": "b4664b2c",
   "metadata": {},
   "outputs": [],
   "source": []
  }
 ],
 "metadata": {
  "kernelspec": {
   "display_name": "Python 3",
   "language": "python",
   "name": "python3"
  },
  "language_info": {
   "codemirror_mode": {
    "name": "ipython",
    "version": 3
   },
   "file_extension": ".py",
   "mimetype": "text/x-python",
   "name": "python",
   "nbconvert_exporter": "python",
   "pygments_lexer": "ipython3",
   "version": "3.8.8"
  }
 },
 "nbformat": 4,
 "nbformat_minor": 5
}
